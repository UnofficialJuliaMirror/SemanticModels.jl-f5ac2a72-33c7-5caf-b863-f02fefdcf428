{
 "cells": [
  {
   "cell_type": "markdown",
   "metadata": {},
   "source": [
    "# Agent Based Simulation Augmentation\n",
    "\n",
    "We can apply our model augmentation framework to models that are not defined as an analytical mathematical expression.\n",
    "A widely used class of models for complex systems are *agent based* in that they have an explicit representation of the agents with states and functions to represent their behavior and interactions. This notebook examines how to apply model transformations to augment agent based simulations."
   ]
  },
  {
   "cell_type": "markdown",
   "metadata": {},
   "source": [
    "We are going to use the simulation in `examples/agentbased.jl` as a baseline simulation and add capabilities to the simulation with SemanticModels transformations. The simulation in question is an implementation of a basic SIRS model on a static population. We will make two augmentations.\n",
    "\n",
    "1. Add *un estado de los muertos* or *a state for the dead*, transforming the model from SIRS to SIRD\n",
    "2. Add *vital dynamics* a represented by net population growth\n",
    "\n",
    "These changes to the model could easily be made by changing the source code to add the features. However, this notebook shows how those changes could be scripted by a scientist. As we all know, once you can automate a scientific task by introducing a new technology, you free the mind of the scientist for more productive thoughts.\n",
    "\n",
    "In this case we are automating the implementation of model changes to free the scientist to think about *what augmentations to the model should I make?* instead of *how do I implement these augmentations?*"
   ]
  },
  {
   "cell_type": "code",
   "execution_count": 1,
   "metadata": {},
   "outputs": [
    {
     "name": "stdout",
     "output_type": "stream",
     "text": [
      "loaded\n"
     ]
    }
   ],
   "source": [
    "using SemanticModels.Parsers\n",
    "using SemanticModels.ModelTools\n",
    "import Base: push!"
   ]
  },
  {
   "cell_type": "code",
   "execution_count": 2,
   "metadata": {},
   "outputs": [
    {
     "data": {
      "text/plain": [
       "0-element Array{Any,1}"
      ]
     },
     "execution_count": 2,
     "metadata": {},
     "output_type": "execute_result"
    }
   ],
   "source": [
    "samples = 7\n",
    "nsteps = 10\n",
    "finalcounts = Any[]"
   ]
  },
  {
   "cell_type": "code",
   "execution_count": 3,
   "metadata": {
    "lines_to_next_cell": 2
   },
   "outputs": [
    {
     "name": "stdout",
     "output_type": "stream",
     "text": [
      "Running Agent Based Simulation Augmentation Demo\n",
      "================================================\n",
      "demo parameters:\n",
      "\tsamples=7\n",
      "\tnsteps=10\n"
     ]
    }
   ],
   "source": [
    "println(\"Running Agent Based Simulation Augmentation Demo\")\n",
    "println(\"================================================\")\n",
    "println(\"demo parameters:\\n\\tsamples=$samples\\n\\tnsteps=$nsteps\")"
   ]
  },
  {
   "cell_type": "markdown",
   "metadata": {},
   "source": [
    "## Baseline SIRS model\n",
    "\n",
    "Here is the baseline model, which is read in from a text file. You could instead of using `parsefile` use a `quote/end` block to code up the baseline model in this script. \n",
    "\n",
    "<img src=\"https://docs.google.com/drawings/d/e/2PACX-1vSeA7mAQ-795lLVxCWXzbkFQaFOHMpwtB121psFV_2cSUyXPyKMtvDjssia82JvQRXS08p6FAMr1hj1/pub?w=1031&amp;h=309\">"
   ]
  },
  {
   "cell_type": "code",
   "execution_count": 13,
   "metadata": {
    "lines_to_next_cell": 2
   },
   "outputs": [
    {
     "name": "stdout",
     "output_type": "stream",
     "text": [
      "\n",
      "Running basic model\n",
      "Pair{Symbol,Int64}[:S=>7, :I=>3, :R=>0]\n",
      "Pair{Symbol,Int64}[:S=>4, :I=>6, :R=>0]\n",
      "Pair{Symbol,Int64}[:S=>1, :I=>5, :R=>4]\n",
      "Pair{Symbol,Int64}[:S=>4, :I=>2, :R=>4]\n",
      "Pair{Symbol,Int64}[:S=>5, :I=>1, :R=>4]\n",
      "Pair{Symbol,Int64}[:S=>4, :I=>4, :R=>2]\n",
      "Pair{Symbol,Int64}[:S=>1, :I=>3, :R=>6]\n",
      "Pair{Symbol,Int64}[:S=>5, :I=>0, :R=>5]\n",
      "Pair{Symbol,Int64}[:S=>8, :I=>0, :R=>2]\n",
      "Pair{Symbol,Int64}[:S=>9, :I=>0, :R=>1]\n",
      "newsam.agents = Symbol[:S, :S, :S, :S, :S, :S, :S, :S, :R, :S]\n",
      "Pair{Symbol,Int64}[:S=>7, :I=>3, :R=>0]\n",
      "Pair{Symbol,Int64}[:S=>5, :I=>4, :R=>1]\n",
      "Pair{Symbol,Int64}[:S=>3, :I=>6, :R=>1]\n",
      "Pair{Symbol,Int64}[:S=>2, :I=>8, :R=>0]\n",
      "Pair{Symbol,Int64}[:S=>0, :I=>9, :R=>1]\n",
      "Pair{Symbol,Int64}[:S=>0, :I=>3, :R=>7]\n",
      "Pair{Symbol,Int64}[:S=>3, :I=>1, :R=>6]\n",
      "Pair{Symbol,Int64}[:S=>7, :I=>1, :R=>2]\n",
      "Pair{Symbol,Int64}[:S=>8, :I=>0, :R=>2]\n",
      "Pair{Symbol,Int64}[:S=>8, :I=>1, :R=>1]\n",
      "newsam.agents = Symbol[:S, :S, :S, :S, :S, :R, :S, :I, :S, :S]\n",
      "Pair{Symbol,Int64}[:S=>8, :I=>2, :R=>0]\n",
      "Pair{Symbol,Int64}[:S=>6, :I=>3, :R=>1]\n",
      "Pair{Symbol,Int64}[:S=>2, :I=>7, :R=>1]\n",
      "Pair{Symbol,Int64}[:S=>1, :I=>4, :R=>5]\n",
      "Pair{Symbol,Int64}[:S=>3, :I=>1, :R=>6]\n",
      "Pair{Symbol,Int64}[:S=>7, :I=>0, :R=>3]\n",
      "Pair{Symbol,Int64}[:S=>3, :I=>4, :R=>3]\n",
      "Pair{Symbol,Int64}[:S=>4, :I=>2, :R=>4]\n",
      "Pair{Symbol,Int64}[:S=>4, :I=>2, :R=>4]\n",
      "Pair{Symbol,Int64}[:S=>3, :I=>5, :R=>2]\n",
      "newsam.agents = Symbol[:I, :R, :S, :I, :R, :I, :I, :S, :S, :I]\n",
      "Pair{Symbol,Int64}[:S=>7, :I=>3, :R=>0]\n",
      "Pair{Symbol,Int64}[:S=>3, :I=>6, :R=>1]\n",
      "Pair{Symbol,Int64}[:S=>1, :I=>5, :R=>4]\n",
      "Pair{Symbol,Int64}[:S=>4, :I=>3, :R=>3]\n",
      "Pair{Symbol,Int64}[:S=>4, :I=>4, :R=>2]\n",
      "Pair{Symbol,Int64}[:S=>4, :I=>3, :R=>3]\n",
      "Pair{Symbol,Int64}[:S=>2, :I=>4, :R=>4]\n",
      "Pair{Symbol,Int64}[:S=>3, :I=>2, :R=>5]\n",
      "Pair{Symbol,Int64}[:S=>6, :I=>1, :R=>3]\n",
      "Pair{Symbol,Int64}[:S=>5, :I=>2, :R=>3]\n",
      "newsam.agents = Symbol[:S, :S, :S, :I, :R, :R, :S, :S, :I, :R]\n",
      "Pair{Symbol,Int64}[:S=>8, :I=>2, :R=>0]\n",
      "Pair{Symbol,Int64}[:S=>5, :I=>4, :R=>1]\n",
      "Pair{Symbol,Int64}[:S=>6, :I=>2, :R=>2]\n",
      "Pair{Symbol,Int64}[:S=>6, :I=>2, :R=>2]\n",
      "Pair{Symbol,Int64}[:S=>2, :I=>6, :R=>2]\n",
      "Pair{Symbol,Int64}[:S=>1, :I=>5, :R=>4]\n",
      "Pair{Symbol,Int64}[:S=>2, :I=>4, :R=>4]\n",
      "Pair{Symbol,Int64}[:S=>4, :I=>3, :R=>3]\n",
      "Pair{Symbol,Int64}[:S=>6, :I=>2, :R=>2]\n",
      "Pair{Symbol,Int64}[:S=>4, :I=>5, :R=>1]\n",
      "newsam.agents = Symbol[:S, :S, :S, :S, :R, :I, :I, :I, :I, :I]\n",
      "Pair{Symbol,Int64}[:S=>10, :I=>0, :R=>0]\n",
      "Pair{Symbol,Int64}[:S=>5, :I=>5, :R=>0]\n",
      "Pair{Symbol,Int64}[:S=>2, :I=>7, :R=>1]\n",
      "Pair{Symbol,Int64}[:S=>2, :I=>1, :R=>7]\n",
      "Pair{Symbol,Int64}[:S=>5, :I=>0, :R=>5]\n",
      "Pair{Symbol,Int64}[:S=>7, :I=>1, :R=>2]\n",
      "Pair{Symbol,Int64}[:S=>5, :I=>3, :R=>2]\n",
      "Pair{Symbol,Int64}[:S=>6, :I=>2, :R=>2]\n",
      "Pair{Symbol,Int64}[:S=>6, :I=>2, :R=>2]\n",
      "Pair{Symbol,Int64}[:S=>5, :I=>3, :R=>2]\n",
      "newsam.agents = Symbol[:I, :S, :R, :I, :I, :S, :R, :S, :S, :S]\n",
      "Pair{Symbol,Int64}[:S=>10, :I=>0, :R=>0]\n",
      "Pair{Symbol,Int64}[:S=>8, :I=>2, :R=>0]\n",
      "Pair{Symbol,Int64}[:S=>7, :I=>2, :R=>1]\n",
      "Pair{Symbol,Int64}[:S=>6, :I=>2, :R=>2]\n",
      "Pair{Symbol,Int64}[:S=>6, :I=>2, :R=>2]\n",
      "Pair{Symbol,Int64}[:S=>7, :I=>1, :R=>2]\n",
      "Pair{Symbol,Int64}[:S=>6, :I=>4, :R=>0]\n",
      "Pair{Symbol,Int64}[:S=>3, :I=>6, :R=>1]\n",
      "Pair{Symbol,Int64}[:S=>1, :I=>5, :R=>4]\n",
      "Pair{Symbol,Int64}[:S=>3, :I=>3, :R=>4]\n",
      "newsam.agents = Symbol[:I, :R, :R, :S, :R, :I, :I, :S, :R, :S]\n"
     ]
    }
   ],
   "source": [
    "expr = parsefile(\"agentbased.jl\")\n",
    "m = model(ExpStateModel, expr.args[3].args[3])\n",
    "println(\"\\nRunning basic model\")\n",
    "AgentModels = eval(m.expr)\n",
    "for i in 1:samples\n",
    "    newsam, counts = AgentModels.main(nsteps)\n",
    "    push!(finalcounts, (model=:basic, counts=counts))\n",
    "end"
   ]
  },
  {
   "cell_type": "code",
   "execution_count": 14,
   "metadata": {},
   "outputs": [
    {
     "data": {
      "text/plain": [
       "ExpStateModel(\n",
       "  states=:([:S, :I, :R]),\n",
       "  agents=Expr[:(a = sm.agents), :(a = fill(:S, n))],\n",
       "  transitions=Expr[:(T = Dict(:S => (x...->begin\n",
       "                      #= none:103 =#\n",
       "                      if rand(Float64) < stateload(x[1], :I)\n",
       "                          :I\n",
       "                      else\n",
       "                          :S\n",
       "                      end\n",
       "                  end), :I => (x...->begin\n",
       "                      #= none:104 =#\n",
       "                      if rand(Float64) < ρ\n",
       "                          :I\n",
       "                      else\n",
       "                          :R\n",
       "                      end\n",
       "                  end), :R => (x...->begin\n",
       "                      #= none:105 =#\n",
       "                      if rand(Float64) < μ\n",
       "                          :R\n",
       "                      else\n",
       "                          :S\n",
       "                      end\n",
       "                  end)))]\n",
       ")"
      ]
     },
     "execution_count": 14,
     "metadata": {},
     "output_type": "execute_result"
    }
   ],
   "source": [
    "m"
   ]
  },
  {
   "cell_type": "markdown",
   "metadata": {},
   "source": [
    "## Adding the Dead State\n",
    "\n",
    "<img src=\"https://docs.google.com/drawings/d/e/2PACX-1vRUhrX6GzMzNRWr0GI3pDp9DvSqJVTDVpy9SNNBIB08b7Hyf9vaHobE2knrGPda4My9f_o9gncG34pF/pub?w=1028&amp;h=309\">\n",
    "\n",
    "We are going to add an additional state to the model to represent the infectious disease fatalities. The user must specify what that concept means in terms of the name for the new state and the behavior of that state. `D` is a terminal state for a finite automata."
   ]
  },
  {
   "cell_type": "code",
   "execution_count": 15,
   "metadata": {},
   "outputs": [
    {
     "name": "stdout",
     "output_type": "stream",
     "text": [
      "\n",
      "The system states are Any[:(:S), :(:I), :(:R)]\n",
      "\n",
      "Adding un estado de los muertos\n",
      "\n",
      "The system states are Any[:(:S), :(:I), :(:R), :(:D)]\n",
      "\n",
      "There is no resurrection in this model\n",
      "\n",
      "Infected individuals recover or die in one step\n",
      "m[:I] = :(x...->begin\n",
      "          #= In[15]:12 =#\n",
      "          if rand(Bool)\n",
      "              :R\n",
      "          else\n",
      "              :D\n",
      "          end\n",
      "      end)\n"
     ]
    },
    {
     "data": {
      "text/plain": [
       ":(x...->begin\n",
       "          #= In[15]:12 =#\n",
       "          if rand(Bool)\n",
       "              :R\n",
       "          else\n",
       "              :D\n",
       "          end\n",
       "      end)"
      ]
     },
     "execution_count": 15,
     "metadata": {},
     "output_type": "execute_result"
    }
   ],
   "source": [
    "println(\"\\nThe system states are $(m.states.args)\")\n",
    "println(\"\\nAdding un estado de los muertos\")\n",
    "\n",
    "put!(m, ExpStateTransition(:D, :((x...)->:D)))\n",
    "\n",
    "println(\"\\nThe system states are $(m.states.args)\")\n",
    "# once you are dead, you are dead forever\n",
    "println(\"\\nThere is no resurrection in this model\")\n",
    "println(\"\\nInfected individuals recover or die in one step\")\n",
    "\n",
    "# replace!(m, ExpStateTransition(:I, :((x...)->rand(Bool) ? :D : :I)))\n",
    "m[:I] = :((x...)->rand(Bool) ? :R : :D)\n",
    "@show m[:I]"
   ]
  },
  {
   "cell_type": "code",
   "execution_count": 16,
   "metadata": {},
   "outputs": [
    {
     "name": "stdout",
     "output_type": "stream",
     "text": [
      "\n",
      "Running SIRD model\n",
      "Pair{Symbol,Int64}[:S=>10, :I=>0, :R=>0, :D=>0]\n",
      "Pair{Symbol,Int64}[:S=>9, :I=>1, :R=>0, :D=>0]\n",
      "Pair{Symbol,Int64}[:S=>8, :I=>1, :R=>1, :D=>0]\n",
      "Pair{Symbol,Int64}[:S=>8, :I=>0, :R=>2, :D=>0]\n",
      "Pair{Symbol,Int64}[:S=>5, :I=>4, :R=>1, :D=>0]\n",
      "Pair{Symbol,Int64}[:S=>4, :I=>2, :R=>2, :D=>2]\n",
      "Pair{Symbol,Int64}[:S=>6, :I=>0, :R=>2, :D=>2]\n",
      "Pair{Symbol,Int64}[:S=>7, :I=>0, :R=>1, :D=>2]\n",
      "Pair{Symbol,Int64}[:S=>5, :I=>3, :R=>0, :D=>2]\n",
      "Pair{Symbol,Int64}[:S=>3, :I=>2, :R=>0, :D=>5]\n",
      "newsam.agents = Symbol[:S, :D, :D, :I, :I, :D, :D, :D, :S, :S]\n",
      "Pair{Symbol,Int64}[:S=>9, :I=>1, :R=>0, :D=>0]\n",
      "Pair{Symbol,Int64}[:S=>6, :I=>3, :R=>0, :D=>1]\n",
      "Pair{Symbol,Int64}[:S=>4, :I=>2, :R=>2, :D=>2]\n",
      "Pair{Symbol,Int64}[:S=>5, :I=>1, :R=>2, :D=>2]\n",
      "Pair{Symbol,Int64}[:S=>7, :I=>0, :R=>1, :D=>2]\n",
      "Pair{Symbol,Int64}[:S=>7, :I=>0, :R=>1, :D=>2]\n",
      "Pair{Symbol,Int64}[:S=>8, :I=>0, :R=>0, :D=>2]\n",
      "Pair{Symbol,Int64}[:S=>6, :I=>2, :R=>0, :D=>2]\n",
      "Pair{Symbol,Int64}[:S=>2, :I=>4, :R=>1, :D=>3]\n",
      "Pair{Symbol,Int64}[:S=>2, :I=>1, :R=>2, :D=>5]\n",
      "newsam.agents = Symbol[:R, :S, :D, :D, :S, :I, :D, :D, :D, :R]\n",
      "Pair{Symbol,Int64}[:S=>10, :I=>0, :R=>0, :D=>0]\n",
      "Pair{Symbol,Int64}[:S=>7, :I=>3, :R=>0, :D=>0]\n",
      "Pair{Symbol,Int64}[:S=>7, :I=>0, :R=>1, :D=>2]\n",
      "Pair{Symbol,Int64}[:S=>8, :I=>0, :R=>0, :D=>2]\n",
      "Pair{Symbol,Int64}[:S=>4, :I=>4, :R=>0, :D=>2]\n",
      "Pair{Symbol,Int64}[:S=>2, :I=>2, :R=>4, :D=>2]\n",
      "Pair{Symbol,Int64}[:S=>4, :I=>1, :R=>3, :D=>2]\n",
      "Pair{Symbol,Int64}[:S=>4, :I=>0, :R=>3, :D=>3]\n",
      "Pair{Symbol,Int64}[:S=>6, :I=>1, :R=>0, :D=>3]\n",
      "Pair{Symbol,Int64}[:S=>5, :I=>1, :R=>1, :D=>3]\n",
      "newsam.agents = Symbol[:S, :S, :I, :S, :S, :D, :D, :R, :D, :S]\n",
      "Pair{Symbol,Int64}[:S=>8, :I=>2, :R=>0, :D=>0]\n",
      "Pair{Symbol,Int64}[:S=>5, :I=>3, :R=>1, :D=>1]\n",
      "Pair{Symbol,Int64}[:S=>5, :I=>1, :R=>0, :D=>4]\n",
      "Pair{Symbol,Int64}[:S=>5, :I=>0, :R=>1, :D=>4]\n",
      "Pair{Symbol,Int64}[:S=>5, :I=>1, :R=>0, :D=>4]\n",
      "Pair{Symbol,Int64}[:S=>4, :I=>1, :R=>0, :D=>5]\n",
      "Pair{Symbol,Int64}[:S=>2, :I=>2, :R=>1, :D=>5]\n",
      "Pair{Symbol,Int64}[:S=>2, :I=>1, :R=>1, :D=>6]\n",
      "Pair{Symbol,Int64}[:S=>2, :I=>0, :R=>2, :D=>6]\n",
      "Pair{Symbol,Int64}[:S=>3, :I=>1, :R=>0, :D=>6]\n",
      "newsam.agents = Symbol[:S, :S, :D, :S, :D, :D, :D, :D, :I, :D]\n",
      "Pair{Symbol,Int64}[:S=>6, :I=>4, :R=>0, :D=>0]\n",
      "Pair{Symbol,Int64}[:S=>5, :I=>1, :R=>3, :D=>1]\n",
      "Pair{Symbol,Int64}[:S=>6, :I=>1, :R=>2, :D=>1]\n",
      "Pair{Symbol,Int64}[:S=>3, :I=>3, :R=>3, :D=>1]\n",
      "Pair{Symbol,Int64}[:S=>2, :I=>2, :R=>3, :D=>3]\n",
      "Pair{Symbol,Int64}[:S=>4, :I=>0, :R=>2, :D=>4]\n",
      "Pair{Symbol,Int64}[:S=>5, :I=>1, :R=>0, :D=>4]\n",
      "Pair{Symbol,Int64}[:S=>5, :I=>0, :R=>1, :D=>4]\n",
      "Pair{Symbol,Int64}[:S=>6, :I=>0, :R=>0, :D=>4]\n",
      "Pair{Symbol,Int64}[:S=>6, :I=>0, :R=>0, :D=>4]\n",
      "newsam.agents = Symbol[:D, :D, :S, :S, :S, :S, :S, :D, :D, :S]\n",
      "Pair{Symbol,Int64}[:S=>8, :I=>2, :R=>0, :D=>0]\n",
      "Pair{Symbol,Int64}[:S=>5, :I=>3, :R=>0, :D=>2]\n",
      "Pair{Symbol,Int64}[:S=>5, :I=>0, :R=>1, :D=>4]\n",
      "Pair{Symbol,Int64}[:S=>5, :I=>0, :R=>1, :D=>4]\n",
      "Pair{Symbol,Int64}[:S=>6, :I=>0, :R=>0, :D=>4]\n",
      "Pair{Symbol,Int64}[:S=>4, :I=>2, :R=>0, :D=>4]\n",
      "Pair{Symbol,Int64}[:S=>3, :I=>1, :R=>0, :D=>6]\n",
      "Pair{Symbol,Int64}[:S=>3, :I=>0, :R=>0, :D=>7]\n",
      "Pair{Symbol,Int64}[:S=>3, :I=>0, :R=>0, :D=>7]\n",
      "Pair{Symbol,Int64}[:S=>3, :I=>0, :R=>0, :D=>7]\n",
      "newsam.agents = Symbol[:S, :D, :D, :D, :S, :D, :D, :S, :D, :D]\n",
      "Pair{Symbol,Int64}[:S=>6, :I=>4, :R=>0, :D=>0]\n",
      "Pair{Symbol,Int64}[:S=>3, :I=>3, :R=>2, :D=>2]\n",
      "Pair{Symbol,Int64}[:S=>4, :I=>0, :R=>2, :D=>4]\n",
      "Pair{Symbol,Int64}[:S=>5, :I=>0, :R=>1, :D=>4]\n",
      "Pair{Symbol,Int64}[:S=>2, :I=>3, :R=>1, :D=>4]\n",
      "Pair{Symbol,Int64}[:S=>1, :I=>1, :R=>3, :D=>5]\n",
      "Pair{Symbol,Int64}[:S=>2, :I=>0, :R=>2, :D=>6]\n",
      "Pair{Symbol,Int64}[:S=>2, :I=>0, :R=>2, :D=>6]\n",
      "Pair{Symbol,Int64}[:S=>4, :I=>0, :R=>0, :D=>6]\n",
      "Pair{Symbol,Int64}[:S=>4, :I=>0, :R=>0, :D=>6]\n",
      "newsam.agents = Symbol[:D, :D, :S, :D, :S, :S, :D, :D, :D, :S]\n"
     ]
    },
    {
     "name": "stderr",
     "output_type": "stream",
     "text": [
      "WARNING: replacing module AgentModels.\n"
     ]
    }
   ],
   "source": [
    "println(\"\\nRunning SIRD model\")\n",
    "AgentModels = eval(m.expr)\n",
    "for i in 1:samples\n",
    "    newsam, counts = AgentModels.main(nsteps)\n",
    "    push!(finalcounts, (model=:sird, counts=counts))\n",
    "end"
   ]
  },
  {
   "cell_type": "markdown",
   "metadata": {},
   "source": [
    "Some utilities for manipulating functions at a higher level than expressions."
   ]
  },
  {
   "cell_type": "code",
   "execution_count": 17,
   "metadata": {},
   "outputs": [
    {
     "data": {
      "text/plain": [
       "push! (generic function with 86 methods)"
      ]
     },
     "execution_count": 17,
     "metadata": {},
     "output_type": "execute_result"
    }
   ],
   "source": [
    "function bodyblock(expr::Expr)\n",
    "    expr.head == :function || error(\"$expr is not a function definition\")\n",
    "    return expr.args[2].args\n",
    "end\n",
    "\n",
    "struct Func end\n",
    "\n",
    "function push!(::Func, func::Expr, ex::Expr)\n",
    "    push!(bodyblock(func), ex)\n",
    "end"
   ]
  },
  {
   "cell_type": "markdown",
   "metadata": {},
   "source": [
    "## Population Growth\n",
    "\n",
    "Another change we can make to our model is the introduction of population growth. Our model for population is that on each timestep, one new suceptible person will be added to the list of agents. We use the `tick!` function as an anchor point for this transformation.\n",
    "\n",
    "<img src=\"https://docs.google.com/drawings/d/e/2PACX-1vRfLcbPPaQq6jmxheWApqidYte8FxK7p0Ebs2EyW2pY3ougNh5YiMjA0NbRMuGAIT5pD02WNEoOfdCd/pub?w=1005&amp;h=247\">"
   ]
  },
  {
   "cell_type": "code",
   "execution_count": 18,
   "metadata": {},
   "outputs": [
    {
     "name": "stdout",
     "output_type": "stream",
     "text": [
      "\n",
      "Adding population growth to this model\n",
      "stepr = :(function tick!(sm::StateModel)\n",
      "      #= none:54 =#\n",
      "      sm.loads = map((s->begin\n",
      "                      #= none:54 =#\n",
      "                      stateload(sm, s)\n",
      "                  end), sm.states)\n",
      "  end)\n",
      "------------------------\n",
      "stepr = :(function tick!(sm::StateModel)\n",
      "      #= none:54 =#\n",
      "      sm.loads = map((s->begin\n",
      "                      #= none:54 =#\n",
      "                      stateload(sm, s)\n",
      "                  end), sm.states)\n",
      "      push!(sm.agents, :S)\n",
      "  end)\n"
     ]
    }
   ],
   "source": [
    "println(\"\\nAdding population growth to this model\")\n",
    "stepr = filter(x->isa(x,Expr), findfunc(m.expr, :tick!))[1]\n",
    "@show stepr\n",
    "push!(Func(), stepr, :(push!(sm.agents, :S)))\n",
    "println(\"------------------------\")\n",
    "@show stepr;"
   ]
  },
  {
   "cell_type": "code",
   "execution_count": 19,
   "metadata": {},
   "outputs": [
    {
     "name": "stdout",
     "output_type": "stream",
     "text": [
      "\n",
      "Running growth model\n",
      "Pair{Symbol,Int64}[:S=>7, :I=>4, :R=>0, :D=>0]\n",
      "Pair{Symbol,Int64}[:S=>7, :I=>1, :R=>1, :D=>3]\n",
      "Pair{Symbol,Int64}[:S=>6, :I=>3, :R=>0, :D=>4]\n",
      "Pair{Symbol,Int64}[:S=>7, :I=>0, :R=>1, :D=>6]\n",
      "Pair{Symbol,Int64}[:S=>9, :I=>0, :R=>0, :D=>6]\n",
      "Pair{Symbol,Int64}[:S=>6, :I=>4, :R=>0, :D=>6]\n",
      "Pair{Symbol,Int64}[:S=>6, :I=>1, :R=>2, :D=>8]\n",
      "Pair{Symbol,Int64}[:S=>8, :I=>0, :R=>2, :D=>8]\n",
      "Pair{Symbol,Int64}[:S=>10, :I=>0, :R=>1, :D=>8]\n",
      "Pair{Symbol,Int64}[:S=>11, :I=>0, :R=>1, :D=>8]\n",
      "newsam.agents = Symbol[:S, :D, :D, :D, :S, :D, :D, :D, :S, :R, :S, :D, :S, :S, :S, :D, :S, :S, :S, :S]\n",
      "Pair{Symbol,Int64}[:S=>11, :I=>0, :R=>0, :D=>0]\n",
      "Pair{Symbol,Int64}[:S=>11, :I=>1, :R=>0, :D=>0]\n",
      "Pair{Symbol,Int64}[:S=>10, :I=>2, :R=>1, :D=>0]\n",
      "Pair{Symbol,Int64}[:S=>9, :I=>3, :R=>0, :D=>2]\n",
      "Pair{Symbol,Int64}[:S=>8, :I=>2, :R=>2, :D=>3]\n",
      "Pair{Symbol,Int64}[:S=>10, :I=>1, :R=>2, :D=>3]\n",
      "Pair{Symbol,Int64}[:S=>11, :I=>1, :R=>2, :D=>3]\n",
      "Pair{Symbol,Int64}[:S=>10, :I=>3, :R=>1, :D=>4]\n",
      "Pair{Symbol,Int64}[:S=>12, :I=>0, :R=>0, :D=>7]\n",
      "Pair{Symbol,Int64}[:S=>13, :I=>0, :R=>0, :D=>7]\n",
      "newsam.agents = Symbol[:D, :S, :S, :S, :S, :D, :S, :S, :D, :S, :D, :S, :S, :D, :D, :S, :D, :S, :S, :S]\n",
      "Pair{Symbol,Int64}[:S=>11, :I=>0, :R=>0, :D=>0]\n",
      "Pair{Symbol,Int64}[:S=>9, :I=>3, :R=>0, :D=>0]\n",
      "Pair{Symbol,Int64}[:S=>5, :I=>5, :R=>0, :D=>3]\n",
      "Pair{Symbol,Int64}[:S=>1, :I=>5, :R=>1, :D=>7]\n",
      "Pair{Symbol,Int64}[:S=>3, :I=>0, :R=>4, :D=>8]\n",
      "Pair{Symbol,Int64}[:S=>6, :I=>0, :R=>2, :D=>8]\n",
      "Pair{Symbol,Int64}[:S=>8, :I=>0, :R=>1, :D=>8]\n",
      "Pair{Symbol,Int64}[:S=>9, :I=>1, :R=>0, :D=>8]\n",
      "Pair{Symbol,Int64}[:S=>9, :I=>1, :R=>0, :D=>9]\n",
      "Pair{Symbol,Int64}[:S=>10, :I=>0, :R=>1, :D=>9]\n",
      "newsam.agents = Symbol[:R, :S, :D, :S, :D, :D, :D, :D, :S, :D, :D, :D, :D, :S, :S, :S, :S, :S, :S, :S]\n",
      "Pair{Symbol,Int64}[:S=>8, :I=>3, :R=>0, :D=>0]\n",
      "Pair{Symbol,Int64}[:S=>6, :I=>3, :R=>2, :D=>1]\n",
      "Pair{Symbol,Int64}[:S=>6, :I=>1, :R=>2, :D=>4]\n",
      "Pair{Symbol,Int64}[:S=>8, :I=>0, :R=>1, :D=>5]\n",
      "Pair{Symbol,Int64}[:S=>8, :I=>1, :R=>1, :D=>5]\n",
      "Pair{Symbol,Int64}[:S=>10, :I=>0, :R=>1, :D=>5]\n",
      "Pair{Symbol,Int64}[:S=>10, :I=>1, :R=>1, :D=>5]\n",
      "Pair{Symbol,Int64}[:S=>11, :I=>0, :R=>1, :D=>6]\n",
      "Pair{Symbol,Int64}[:S=>13, :I=>0, :R=>0, :D=>6]\n",
      "Pair{Symbol,Int64}[:S=>13, :I=>1, :R=>0, :D=>6]\n",
      "newsam.agents = Symbol[:S, :D, :S, :S, :D, :S, :S, :D, :S, :D, :S, :D, :S, :S, :D, :S, :S, :S, :I, :S]\n",
      "Pair{Symbol,Int64}[:S=>10, :I=>1, :R=>0, :D=>0]\n",
      "Pair{Symbol,Int64}[:S=>10, :I=>1, :R=>1, :D=>0]\n",
      "Pair{Symbol,Int64}[:S=>9, :I=>3, :R=>1, :D=>0]\n",
      "Pair{Symbol,Int64}[:S=>10, :I=>1, :R=>2, :D=>1]\n",
      "Pair{Symbol,Int64}[:S=>12, :I=>0, :R=>2, :D=>1]\n",
      "Pair{Symbol,Int64}[:S=>14, :I=>1, :R=>0, :D=>1]\n",
      "Pair{Symbol,Int64}[:S=>14, :I=>1, :R=>0, :D=>2]\n",
      "Pair{Symbol,Int64}[:S=>13, :I=>2, :R=>1, :D=>2]\n",
      "Pair{Symbol,Int64}[:S=>15, :I=>0, :R=>0, :D=>4]\n",
      "Pair{Symbol,Int64}[:S=>16, :I=>0, :R=>0, :D=>4]\n",
      "newsam.agents = Symbol[:D, :S, :D, :S, :S, :S, :S, :S, :S, :D, :S, :S, :D, :S, :S, :S, :S, :S, :S, :S]\n",
      "Pair{Symbol,Int64}[:S=>11, :I=>0, :R=>0, :D=>0]\n",
      "Pair{Symbol,Int64}[:S=>11, :I=>1, :R=>0, :D=>0]\n",
      "Pair{Symbol,Int64}[:S=>12, :I=>0, :R=>0, :D=>1]\n",
      "Pair{Symbol,Int64}[:S=>12, :I=>1, :R=>0, :D=>1]\n",
      "Pair{Symbol,Int64}[:S=>10, :I=>3, :R=>0, :D=>2]\n",
      "Pair{Symbol,Int64}[:S=>11, :I=>0, :R=>0, :D=>5]\n",
      "Pair{Symbol,Int64}[:S=>12, :I=>0, :R=>0, :D=>5]\n",
      "Pair{Symbol,Int64}[:S=>12, :I=>1, :R=>0, :D=>5]\n",
      "Pair{Symbol,Int64}[:S=>13, :I=>0, :R=>1, :D=>5]\n",
      "Pair{Symbol,Int64}[:S=>15, :I=>0, :R=>0, :D=>5]\n",
      "newsam.agents = Symbol[:S, :S, :S, :D, :D, :S, :S, :S, :D, :D, :S, :S, :S, :D, :S, :S, :S, :S, :S, :S]\n",
      "Pair{Symbol,Int64}[:S=>10, :I=>1, :R=>0, :D=>0]\n",
      "Pair{Symbol,Int64}[:S=>8, :I=>3, :R=>0, :D=>1]\n",
      "Pair{Symbol,Int64}[:S=>9, :I=>0, :R=>1, :D=>3]\n",
      "Pair{Symbol,Int64}[:S=>11, :I=>0, :R=>0, :D=>3]\n",
      "Pair{Symbol,Int64}[:S=>12, :I=>0, :R=>0, :D=>3]\n",
      "Pair{Symbol,Int64}[:S=>12, :I=>1, :R=>0, :D=>3]\n",
      "Pair{Symbol,Int64}[:S=>10, :I=>3, :R=>0, :D=>4]\n",
      "Pair{Symbol,Int64}[:S=>10, :I=>1, :R=>2, :D=>5]\n",
      "Pair{Symbol,Int64}[:S=>12, :I=>1, :R=>1, :D=>5]\n",
      "Pair{Symbol,Int64}[:S=>10, :I=>4, :R=>0, :D=>6]\n",
      "newsam.agents = Symbol[:S, :S, :S, :S, :D, :S, :S, :I, :D, :I, :D, :S, :I, :S, :S, :D, :D, :D, :I, :S]\n"
     ]
    },
    {
     "name": "stderr",
     "output_type": "stream",
     "text": [
      "WARNING: replacing module AgentModels.\n"
     ]
    }
   ],
   "source": [
    "println(\"\\nRunning growth model\")\n",
    "AgentModels = eval(m.expr)\n",
    "for i in 1:samples\n",
    "    newsam, counts = AgentModels.main(nsteps)\n",
    "    push!(finalcounts, (model=:growth, counts=counts))\n",
    "end"
   ]
  },
  {
   "cell_type": "markdown",
   "metadata": {},
   "source": [
    "## Presentation of results\n",
    "\n",
    "We have accumulated all of our simulation runs into the list `finalcounts` we process those simulation runs into summary tables describing the results of those simulations. This table can be used to make decisions and drive further inquiry."
   ]
  },
  {
   "cell_type": "code",
   "execution_count": 20,
   "metadata": {
    "lines_to_next_cell": 0
   },
   "outputs": [
    {
     "name": "stdout",
     "output_type": "stream",
     "text": [
      "\n",
      "Model\t Counts\n",
      "-----\t ------\n",
      "basic\tPair{Symbol,Int64}[:S=>9, :I=>0, :R=>1]\n",
      "basic\tPair{Symbol,Int64}[:S=>8, :I=>1, :R=>1]\n",
      "basic\tPair{Symbol,Int64}[:S=>3, :I=>5, :R=>2]\n",
      "basic\tPair{Symbol,Int64}[:S=>5, :I=>2, :R=>3]\n",
      "basic\tPair{Symbol,Int64}[:S=>4, :I=>5, :R=>1]\n",
      "basic\tPair{Symbol,Int64}[:S=>5, :I=>3, :R=>2]\n",
      "basic\tPair{Symbol,Int64}[:S=>3, :I=>3, :R=>4]\n",
      "sird\tPair{Symbol,Int64}[:S=>3, :I=>2, :R=>0, :D=>5]\n",
      "sird\tPair{Symbol,Int64}[:S=>2, :I=>1, :R=>2, :D=>5]\n",
      "sird\tPair{Symbol,Int64}[:S=>5, :I=>1, :R=>1, :D=>3]\n",
      "sird\tPair{Symbol,Int64}[:S=>3, :I=>1, :R=>0, :D=>6]\n",
      "sird\tPair{Symbol,Int64}[:S=>6, :I=>0, :R=>0, :D=>4]\n",
      "sird\tPair{Symbol,Int64}[:S=>3, :I=>0, :R=>0, :D=>7]\n",
      "sird\tPair{Symbol,Int64}[:S=>4, :I=>0, :R=>0, :D=>6]\n",
      "growth\tPair{Symbol,Int64}[:S=>11, :I=>0, :R=>1, :D=>8]\n",
      "growth\tPair{Symbol,Int64}[:S=>13, :I=>0, :R=>0, :D=>7]\n",
      "growth\tPair{Symbol,Int64}[:S=>10, :I=>0, :R=>1, :D=>9]\n",
      "growth\tPair{Symbol,Int64}[:S=>13, :I=>1, :R=>0, :D=>6]\n",
      "growth\tPair{Symbol,Int64}[:S=>16, :I=>0, :R=>0, :D=>4]\n",
      "growth\tPair{Symbol,Int64}[:S=>15, :I=>0, :R=>0, :D=>5]\n",
      "growth\tPair{Symbol,Int64}[:S=>10, :I=>4, :R=>0, :D=>6]\n",
      "\n",
      "Model\t Count \t Num Unhealthy \t Mean Healthy %\n",
      "-----\t ------\t --------------\t  --------------\n",
      "growth\t   7\t  7.1429\t   62.857\n",
      "sird\t   7\t  5.8571\t   37.143\n",
      "basic\t   7\t  2.7143\t   52.857\n"
     ]
    }
   ],
   "source": [
    "println(\"\\nModel\\t Counts\")\n",
    "println(\"-----\\t ------\")\n",
    "for result in finalcounts\n",
    "    println(\"$(result.model)\\t$(result.counts)\")\n",
    "end\n",
    "\n",
    "function groupagg(x::Vector{Tuple{S,T}}) where {S,T}\n",
    "    c = Dict{S, Tuple{Int, T}}()\n",
    "    # c2 = Dict{S, T}()\n",
    "    for r in x\n",
    "        g = first(r)\n",
    "        c[g] = get(c, g,(0, 0.0)) .+ (1, last(r))\n",
    "    end\n",
    "    return c\n",
    "end\n",
    "\n",
    "mean_healthy_frac = [(r.model,\n",
    "                  map(last, filter(x->(x.first == :R || x.first == :S), r.counts))[1] / sum(map(last, r.counts))[1])\n",
    "                 for r in finalcounts] |> groupagg\n",
    "\n",
    "num_unhealthy = [(r.model,\n",
    "                  map(last,\n",
    "                      sum(map(last, filter(x->(x.first != :R && x.first != :S),\n",
    "                             r.counts)))))\n",
    "                 for r in finalcounts] |> groupagg\n",
    "\n",
    "println(\"\\nModel\\t Count \\t Num Unhealthy \\t Mean Healthy %\")\n",
    "println(\"-----\\t ------\\t --------------\\t  --------------\")\n",
    "for (g, v) in mean_healthy_frac\n",
    "    μ = last(v)/first(v)\n",
    "    μ′ = round(μ*100, sigdigits=5)\n",
    "    x = round(last(num_unhealthy[g]) / first(num_unhealthy[g]), sigdigits=5)\n",
    "    println(\"$g\\t   $(first(v))\\t  $(rpad(x, 6))\\t   $(μ′)\")\n",
    "end"
   ]
  },
  {
   "cell_type": "code",
   "execution_count": null,
   "metadata": {},
   "outputs": [],
   "source": []
  }
 ],
 "metadata": {
  "anaconda-cloud": {},
  "jupytext": {
   "cell_metadata_filter": "-all",
   "encoding": "# -*- coding: utf-8 -*-",
   "main_language": "julia",
   "notebook_metadata_filter": "-all"
  },
  "kernelspec": {
   "display_name": "Julia 1.0.3",
   "language": "julia",
   "name": "julia-1.0"
  },
  "language_info": {
   "file_extension": ".jl",
   "mimetype": "application/julia",
   "name": "julia",
   "version": "1.0.3"
  }
 },
 "nbformat": 4,
 "nbformat_minor": 2
}
