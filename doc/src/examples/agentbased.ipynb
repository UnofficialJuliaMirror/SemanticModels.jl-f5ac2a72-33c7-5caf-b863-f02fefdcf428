{
 "cells": [
  {
   "cell_type": "code",
   "execution_count": 2,
   "metadata": {},
   "outputs": [],
   "source": [
    "import Base: count"
   ]
  },
  {
   "cell_type": "markdown",
   "metadata": {},
   "source": [
    "## Agent Based Modeling\n",
    "This script is a self contained agent based model, we define a modeling microframework and then use it to implement an agent based model. This agent based model represents the SIR model of infectious disease with discrete time. This model is not intended as a realistic model of disease, but as an example of how to reverse engineer a model structure from code that implements it. See the agentgraft.jl script for an example of model augmentation on this class of models."
   ]
  },
  {
   "cell_type": "code",
   "execution_count": 3,
   "metadata": {},
   "outputs": [
    {
     "data": {
      "text/plain": [
       "AgentModel"
      ]
     },
     "execution_count": 3,
     "metadata": {},
     "output_type": "execute_result"
    }
   ],
   "source": [
    "\"\"\"    AgentModel\n",
    "\n",
    "the root type for agent based models.\n",
    "\n",
    "See also: StateModel\n",
    "\"\"\"\n",
    "abstract type AgentModel end"
   ]
  },
  {
   "cell_type": "code",
   "execution_count": 4,
   "metadata": {},
   "outputs": [
    {
     "data": {
      "text/plain": [
       "StateModel"
      ]
     },
     "execution_count": 4,
     "metadata": {},
     "output_type": "execute_result"
    }
   ],
   "source": [
    "\"\"\"     StateModel\n",
    "\n",
    "holds the components of an agent based simulation using finite state machines.\n",
    "\n",
    "- states: a collection of distinct states an agent can occupy\n",
    "- agents: a collection of states `aᵢ = agents[i] ∈ states` indicating that agent `i` is in state `aᵢ`\n",
    "- transitions: the functions `f: states -> states`\n",
    "\"\"\"\n",
    "mutable struct StateModel <: AgentModel\n",
    "    states\n",
    "    agents\n",
    "    transitions\n",
    "    loads\n",
    "end"
   ]
  },
  {
   "cell_type": "code",
   "execution_count": 5,
   "metadata": {},
   "outputs": [
    {
     "data": {
      "text/plain": [
       "count (generic function with 8 methods)"
      ]
     },
     "execution_count": 5,
     "metadata": {},
     "output_type": "execute_result"
    }
   ],
   "source": [
    "# Determine number of agents in a given state\n",
    "function count(sm::StateModel, state)\n",
    "    return length(filter(a->(a==state), sm.agents))\n",
    "end\n",
    "\n",
    "# counts the number of agents\n",
    "function count(sm::StateModel)\n",
    "    return length(sm.agents)\n",
    "end"
   ]
  },
  {
   "cell_type": "code",
   "execution_count": 6,
   "metadata": {},
   "outputs": [
    {
     "data": {
      "text/plain": [
       "stateload (generic function with 1 method)"
      ]
     },
     "execution_count": 6,
     "metadata": {},
     "output_type": "execute_result"
    }
   ],
   "source": [
    "function stateload(sm::StateModel, state::Symbol)\n",
    "    return (count(sm, state)+1)/(count(sm)+1)\n",
    "end"
   ]
  },
  {
   "cell_type": "markdown",
   "metadata": {},
   "source": [
    "    tick!(sm::StateModel)\n",
    "\n",
    "performs the operations that need to happen once per time step. Things like caching values that need to be computed at the beginning of the timestep like the distribution of the agents' states."
   ]
  },
  {
   "cell_type": "code",
   "execution_count": 7,
   "metadata": {},
   "outputs": [
    {
     "data": {
      "text/plain": [
       "tick! (generic function with 1 method)"
      ]
     },
     "execution_count": 7,
     "metadata": {},
     "output_type": "execute_result"
    }
   ],
   "source": [
    "function tick!(sm::StateModel)\n",
    "    sm.loads = map(s->stateload(sm, s), sm.states)\n",
    "end"
   ]
  },
  {
   "cell_type": "markdown",
   "metadata": {},
   "source": [
    "    step!(sm::StateModel, n=1)\n",
    "\n",
    "advance the simulation by `n` ticks of time.\n",
    "This is an in-place operation that modifies the current state of the simulation.\n"
   ]
  },
  {
   "cell_type": "code",
   "execution_count": 8,
   "metadata": {},
   "outputs": [
    {
     "data": {
      "text/plain": [
       "step! (generic function with 2 methods)"
      ]
     },
     "execution_count": 8,
     "metadata": {},
     "output_type": "execute_result"
    }
   ],
   "source": [
    "function step!(sm::StateModel, n=1)\n",
    "    for s in 1:n\n",
    "      tick!(sm)\n",
    "      for (i, a) in enumerate(sm.agents)\n",
    "          sm.agents[i] = sm.transitions[a](sm, i,a)\n",
    "      end\n",
    "      println(describe(sm))\n",
    "    end\n",
    "    return sm\n",
    "end"
   ]
  },
  {
   "cell_type": "code",
   "execution_count": 9,
   "metadata": {},
   "outputs": [
    {
     "data": {
      "text/plain": [
       "describe"
      ]
     },
     "execution_count": 9,
     "metadata": {},
     "output_type": "execute_result"
    }
   ],
   "source": [
    "\"\"\"    describe(sm::StateModel)\n",
    "\n",
    "summarize the state of the simulation for presentation or analysis.\n",
    "\"\"\"\n",
    "function describe(sm::StateModel)\n",
    "    counts = zeros(Int, size(sm.states))\n",
    "    d = Dict{eltype(sm.states), Int}()\n",
    "    for (i,s) in enumerate(sm.states)\n",
    "        d[s] = i\n",
    "    end\n",
    "    for a in sm.agents\n",
    "        i = d[a]\n",
    "        counts[i] += 1\n",
    "    end\n",
    "    return collect(map(x->Pair(x...), zip(sm.states, counts)))\n",
    "end"
   ]
  },
  {
   "cell_type": "markdown",
   "metadata": {},
   "source": [
    "## Run the model\n",
    "\n",
    "This script has an entrypoint to call it so that you can include this file and run as many simulations as you want. The intended use case is to repeatedly call `main` and accumulate the return values into an array for later analysis."
   ]
  },
  {
   "cell_type": "code",
   "execution_count": 10,
   "metadata": {},
   "outputs": [
    {
     "data": {
      "text/plain": [
       "main (generic function with 1 method)"
      ]
     },
     "execution_count": 10,
     "metadata": {},
     "output_type": "execute_result"
    }
   ],
   "source": [
    "function main(nsteps)\n",
    "    n = 10\n",
    "    a = fill(:S, n)\n",
    "    ρ = 0.5 # chance of recovery\n",
    "    μ = 0.5 # chance of immunity\n",
    "    T = Dict(\n",
    "        :S=>(x...)->rand(Float64) < stateload(x[1], :I) ? :I : :S,\n",
    "        :I=>(x...)->rand(Float64) < ρ ? :I : :R,\n",
    "        :R=>(x...)->rand(Float64) < μ ? :R : :S,\n",
    "    )\n",
    "\n",
    "\n",
    "    sam = StateModel([:S, :I, :R], a, T, zeros(Float64,3))\n",
    "    newsam = step!(deepcopy(sam), nsteps)\n",
    "    @show newsam.agents\n",
    "    counts = describe(newsam)\n",
    "    return newsam, counts\n",
    "end"
   ]
  },
  {
   "cell_type": "code",
   "execution_count": 11,
   "metadata": {},
   "outputs": [],
   "source": [
    "# # An example of how to run this thing.\n",
    "# main(10)"
   ]
  }
 ],
 "metadata": {
  "anaconda-cloud": {},
  "jupytext": {
   "cell_metadata_filter": "-all",
   "encoding": "# -*- coding: utf-8 -*-",
   "main_language": "julia",
   "notebook_metadata_filter": "-all"
  },
  "kernelspec": {
   "display_name": "Julia 1.0.3",
   "language": "julia",
   "name": "julia-1.0"
  },
  "language_info": {
   "file_extension": ".jl",
   "mimetype": "application/julia",
   "name": "julia",
   "version": "1.0.3"
  }
 },
 "nbformat": 4,
 "nbformat_minor": 2
}
