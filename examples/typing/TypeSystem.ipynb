{
 "cells": [
  {
   "cell_type": "code",
   "execution_count": 1,
   "metadata": {},
   "outputs": [],
   "source": [
    "using Cassette;\n",
    "using DifferentialEquations;"
   ]
  },
  {
   "cell_type": "code",
   "execution_count": 63,
   "metadata": {},
   "outputs": [],
   "source": [
    "# define the context we will use\n",
    "ctx = Cassette.@context typCtx\n",
    "\n",
    "# add boilerplate for functionality\n",
    "function Cassette.overdub(ctx::typCtx, args...)\n",
    "    if Cassette.canrecurse(ctx, args...)\n",
    "        newctx = Cassette.similarcontext(ctx, metadata = ctx.metadata)\n",
    "        return Cassette.recurse(newctx, args...)\n",
    "    else\n",
    "        return Cassette.fallback(ctx, args...)\n",
    "    end\n",
    "end\n",
    "    \n",
    "function Cassette.canrecurse(ctx::typCtx,::typeof(ODEProblem),args...)\n",
    "    return false\n",
    "end\n",
    "\n",
    "function Cassette.canrecurse(ctx::typCtx,::typeof(Base.vect),args...)\n",
    "    return false\n",
    "end\n",
    "    \n",
    "function Cassette.overdub(ctx::typCtx,::typeof(ODEProblem),args...)\n",
    "    println(\"ODE Formulation:\")\n",
    "    println( (src=typeof(args[2:end]),dst=nothing,func=typeof(ODEProblem)) )\n",
    "    return ODEProblem(args...) \n",
    "end\n",
    "\n",
    "function Cassette.overdub(ctx::typCtx,::typeof(solve),args...)\n",
    "    sol = solve(args...)\n",
    "    println(\"Solver:\")\n",
    "    println((src=typeof(ODEProblem),dst=typeof((sol.t,sol.u)),func=typeof(solve)))\n",
    "end"
   ]
  },
  {
   "cell_type": "code",
   "execution_count": 64,
   "metadata": {},
   "outputs": [
    {
     "data": {
      "text/plain": [
       "main (generic function with 1 method)"
      ]
     },
     "execution_count": 64,
     "metadata": {},
     "output_type": "execute_result"
    }
   ],
   "source": [
    "function main()\n",
    "    \n",
    "    # define our ode\n",
    "    function sir_ode(du, u, p, t)  \n",
    "        #Infected per-Capita Rate\n",
    "        β = p[1]\n",
    "        #Recover per-capita rate\n",
    "        γ = p[2]\n",
    "        #Susceptible Individuals\n",
    "        S = u[1]\n",
    "        #Infected by Infected Individuals\n",
    "        I = u[2]\n",
    "\n",
    "        du[1] = -β * S * I\n",
    "        du[2] = β * S * I - γ * I\n",
    "        du[3] = γ * I\n",
    "    end\n",
    "\n",
    "    #Pram = (Infected Per Capita Rate, Recover Per Capita Rate)\n",
    "    pram = [0.1,0.05]\n",
    "    #Initial Prams = (Susceptible Individuals, Infected by Infected Individuals)\n",
    "    init = [0.99,0.01,0.0]\n",
    "    tspan = (0.0,200.0)\n",
    "    \n",
    "    # create a var to our problem\n",
    "    sir_prob = ODEProblem(sir_ode, init, tspan, pram)\n",
    "    solution = solve(sir_prob)\n",
    "end"
   ]
  },
  {
   "cell_type": "code",
   "execution_count": 65,
   "metadata": {},
   "outputs": [
    {
     "name": "stdout",
     "output_type": "stream",
     "text": [
      "ODE Formulation:\n",
      "(src = Tuple{Array{Float64,1},Tuple{Float64,Float64},Array{Float64,1}}, dst = nothing, func = UnionAll)\n",
      "Solver:\n",
      "(src = UnionAll, dst = Tuple{Array{Float64,1},Array{Array{Float64,1},1}}, func = typeof(solve))\n"
     ]
    }
   ],
   "source": [
    "Cassette.overdub(typCtx(),main)"
   ]
  }
 ],
 "metadata": {
  "kernelspec": {
   "display_name": "Julia 1.0.3",
   "language": "julia",
   "name": "julia-1.0"
  },
  "language_info": {
   "file_extension": ".jl",
   "mimetype": "application/julia",
   "name": "julia",
   "version": "1.0.3"
  }
 },
 "nbformat": 4,
 "nbformat_minor": 2
}
