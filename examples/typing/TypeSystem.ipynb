{
 "cells": [
  {
   "cell_type": "markdown",
   "metadata": {},
   "source": [
    "# TypeCtx SRC\n",
    "We will first take a script and add the Cassette logic to get the information from the stack trace."
   ]
  },
  {
   "cell_type": "code",
   "execution_count": 1,
   "metadata": {},
   "outputs": [],
   "source": [
    "using Cassette;\n",
    "using DifferentialEquations: ODEProblem, solve"
   ]
  },
  {
   "cell_type": "code",
   "execution_count": 2,
   "metadata": {},
   "outputs": [
    {
     "data": {
      "text/plain": [
       "main (generic function with 1 method)"
      ]
     },
     "execution_count": 2,
     "metadata": {},
     "output_type": "execute_result"
    }
   ],
   "source": [
    "function main()\n",
    "    \n",
    "    # define our ode\n",
    "    function sir_ode(du, u, p, t)  \n",
    "        #Infected per-Capita Rate\n",
    "        β = p[1]\n",
    "        #Recover per-capita rate\n",
    "        γ = p[2]\n",
    "        #Susceptible Individuals\n",
    "        S = u[1]\n",
    "        #Infected by Infected Individuals\n",
    "        I = u[2]\n",
    "\n",
    "        du[1] = -β * S * I\n",
    "        du[2] = β * S * I - γ * I\n",
    "        du[3] = γ * I\n",
    "    end\n",
    "\n",
    "    #Pram = (Infected Per Capita Rate, Recover Per Capita Rate)\n",
    "    pram = [0.1,0.05]\n",
    "    #Initial Prams = (Susceptible Individuals, Infected by Infected Individuals)\n",
    "    init = [0.99,0.01,0.0]\n",
    "    tspan = (0.0,200.0)\n",
    "    \n",
    "    # create a var to our problem\n",
    "    sir_prob = ODEProblem(sir_ode, init, tspan, pram)\n",
    "    solution = solve(sir_prob)\n",
    "    \n",
    "end"
   ]
  },
  {
   "cell_type": "code",
   "execution_count": 2,
   "metadata": {},
   "outputs": [],
   "source": [
    "mutable struct FCollector{I,F,C}\n",
    "    depth::I\n",
    "    frame::F\n",
    "    data::Vector{C}\n",
    "end"
   ]
  },
  {
   "cell_type": "code",
   "execution_count": 3,
   "metadata": {},
   "outputs": [
    {
     "data": {
      "text/plain": [
       "FCollector"
      ]
     },
     "execution_count": 3,
     "metadata": {},
     "output_type": "execute_result"
    }
   ],
   "source": [
    "function FCollector(d::Int, f)\n",
    "    FCollector(d, f, FCollector[])\n",
    "end"
   ]
  },
  {
   "cell_type": "code",
   "execution_count": 4,
   "metadata": {},
   "outputs": [
    {
     "data": {
      "text/plain": [
       "Frame"
      ]
     },
     "execution_count": 4,
     "metadata": {},
     "output_type": "execute_result"
    }
   ],
   "source": [
    "\"\"\" \n",
    "Frame(func, args, ret, subtrace)\n",
    "\n",
    "a structure to hold metadata for recursive type information\n",
    "\"\"\"\n",
    "mutable struct Frame{F,T,U}\n",
    "    func::F\n",
    "    args::T\n",
    "    ret::U\n",
    "end"
   ]
  },
  {
   "cell_type": "code",
   "execution_count": 5,
   "metadata": {},
   "outputs": [],
   "source": [
    "# user \n",
    "Cassette.@context TypeCtx;"
   ]
  },
  {
   "cell_type": "code",
   "execution_count": 15,
   "metadata": {},
   "outputs": [
    {
     "data": {
      "text/plain": [
       "FCollector{Int64,Frame{Nothing,Tuple{},Nothing},FCollector}(3, Frame{Nothing,Tuple{},Nothing}(nothing, (), nothing), FCollector[])"
      ]
     },
     "execution_count": 15,
     "metadata": {},
     "output_type": "execute_result"
    }
   ],
   "source": [
    "# user\n",
    "maxdepth =3\n",
    "extractor = FCollector(maxdepth, Frame(nothing, (), nothing,))"
   ]
  },
  {
   "cell_type": "code",
   "execution_count": 16,
   "metadata": {},
   "outputs": [],
   "source": [
    "ctx = TypeCtx(metadata = extractor);"
   ]
  },
  {
   "cell_type": "code",
   "execution_count": 8,
   "metadata": {},
   "outputs": [],
   "source": [
    "# add boilerplate for functionality\n",
    "function Cassette.overdub(ctx::TypeCtx, f, args...)\n",
    "    c = FCollector(ctx.metadata.depth-1, Frame(f, args, Any))\n",
    "    push!(ctx.metadata.data, c)\n",
    "    if c.depth > 0 && Cassette.canrecurse(ctx, f, args...)\n",
    "        newctx = Cassette.similarcontext(ctx, metadata = c)\n",
    "        z = Cassette.recurse(newctx, f, args...)\n",
    "        c.frame.ret = typeof(z)\n",
    "        return z\n",
    "    else\n",
    "        z = Cassette.fallback(ctx, f, args...)\n",
    "        c.frame.ret = typeof(z)\n",
    "        return z\n",
    "    end\n",
    "end"
   ]
  },
  {
   "cell_type": "code",
   "execution_count": 9,
   "metadata": {},
   "outputs": [],
   "source": [
    "Cassette.canrecurse(ctx::TypeCtx,::typeof(ODEProblem), args...) = false\n",
    "Cassette.canrecurse(ctx::TypeCtx,::typeof(Base.vect), args...) = false\n",
    "Cassette.canrecurse(ctx::TypeCtx,::typeof(FCollector)) = false\n",
    "Cassette.canrecurse(ctx::TypeCtx,::typeof(Frame)) = false"
   ]
  },
  {
   "cell_type": "code",
   "execution_count": 17,
   "metadata": {},
   "outputs": [
    {
     "data": {
      "text/plain": [
       "retcode: Success\n",
       "Interpolation: 1st order linear\n",
       "t: 2001-element Array{Float64,1}:\n",
       "   0.0\n",
       "   0.1\n",
       "   0.2\n",
       "   0.3\n",
       "   0.4\n",
       "   0.5\n",
       "   0.6\n",
       "   0.7\n",
       "   0.8\n",
       "   0.9\n",
       "   1.0\n",
       "   1.1\n",
       "   1.2\n",
       "   ⋮  \n",
       " 198.9\n",
       " 199.0\n",
       " 199.1\n",
       " 199.2\n",
       " 199.3\n",
       " 199.4\n",
       " 199.5\n",
       " 199.6\n",
       " 199.7\n",
       " 199.8\n",
       " 199.9\n",
       " 200.0\n",
       "u: 2001-element Array{Array{Float64,1},1}:\n",
       " [0.99, 0.01, 0.0]                 \n",
       " [0.989901, 0.0100491, 5.01227e-5] \n",
       " [0.989801, 0.0100985, 0.000100492]\n",
       " [0.989701, 0.010148, 0.000151108] \n",
       " [0.9896, 0.0101979, 0.000201972]  \n",
       " [0.989499, 0.0102479, 0.000253087]\n",
       " [0.989397, 0.0102982, 0.000304452]\n",
       " [0.989295, 0.0103487, 0.000356069]\n",
       " [0.989193, 0.0103995, 0.000407939]\n",
       " [0.989089, 0.0104504, 0.000460064]\n",
       " [0.988986, 0.0105017, 0.000512444]\n",
       " [0.988882, 0.0105531, 0.000565081]\n",
       " [0.988777, 0.0106049, 0.000617976]\n",
       " ⋮                                 \n",
       " [0.21018, 0.0149422, 0.774878]    \n",
       " [0.210148, 0.014899, 0.774953]    \n",
       " [0.210117, 0.0148558, 0.775027]   \n",
       " [0.210086, 0.0148128, 0.775101]   \n",
       " [0.210055, 0.01477, 0.775175]     \n",
       " [0.210024, 0.0147272, 0.775249]   \n",
       " [0.209993, 0.0146845, 0.775322]   \n",
       " [0.209962, 0.014642, 0.775396]    \n",
       " [0.209932, 0.0145996, 0.775469]   \n",
       " [0.209901, 0.0145573, 0.775542]   \n",
       " [0.209871, 0.0145151, 0.775614]   \n",
       " [0.20984, 0.0144731, 0.775687]    "
      ]
     },
     "execution_count": 17,
     "metadata": {},
     "output_type": "execute_result"
    }
   ],
   "source": [
    "Cassette.overdub(ctx,main)"
   ]
  },
  {
   "cell_type": "code",
   "execution_count": 18,
   "metadata": {},
   "outputs": [
    {
     "data": {
      "text/plain": [
       "main (generic function with 1 method)"
      ]
     },
     "execution_count": 18,
     "metadata": {},
     "output_type": "execute_result"
    }
   ],
   "source": [
    "main() = include(\"SIRModel.jl\")"
   ]
  },
  {
   "cell_type": "code",
   "execution_count": 19,
   "metadata": {},
   "outputs": [],
   "source": [
    "Cassette.overdub(ctx,main);"
   ]
  },
  {
   "cell_type": "code",
   "execution_count": 7,
   "metadata": {},
   "outputs": [],
   "source": [
    "using LightGraphs;\n",
    "using MetaGraphs;"
   ]
  },
  {
   "cell_type": "code",
   "execution_count": 13,
   "metadata": {},
   "outputs": [
    {
     "data": {
      "text/plain": [
       "build_graph (generic function with 1 method)"
      ]
     },
     "execution_count": 13,
     "metadata": {},
     "output_type": "execute_result"
    }
   ],
   "source": [
    "g = MetaDiGraph()\n",
    "function build_graph(collector::FCollector)\n",
    "    add_vertex!(g,:name,collector.frame.args)\n",
    "    add_vertex!(g,:name,collector.frame.ret)\n",
    "    add_edge!(g,nv(g)-1,nv(g),:name,collector.frame.func)\n",
    "    for frame in collector.data\n",
    "        build_graph(frame)\n",
    "    end\n",
    "    return g\n",
    "end"
   ]
  },
  {
   "cell_type": "code",
   "execution_count": 14,
   "metadata": {},
   "outputs": [
    {
     "data": {
      "text/plain": [
       "{8, 4} directed Int64 metagraph with Float64 weights defined by :weight (default weight 1.0)"
      ]
     },
     "execution_count": 14,
     "metadata": {},
     "output_type": "execute_result"
    }
   ],
   "source": [
    "build_graph(extractor)"
   ]
  },
  {
   "cell_type": "markdown",
   "metadata": {},
   "source": [
    "# Test"
   ]
  },
  {
   "cell_type": "code",
   "execution_count": 1,
   "metadata": {},
   "outputs": [
    {
     "name": "stderr",
     "output_type": "stream",
     "text": [
      "┌ Info: Precompiling SemanticModels [88974b6f-63f0-5f7a-882c-b779d2960b8e]\n",
      "└ @ Base loading.jl:1192\n",
      "WARNING: Method definition canrecurse(Cassette.Context{getfield(SemanticModels.Dubstep, Symbol(\"##TypeCtx#Name\")), M, T, P, B, H} where H<:Union{Cassette.DisableHooks, Nothing} where B<:Union{Nothing, Base.IdDict{Module, Base.Dict{Symbol, Cassette.BindingMeta}}} where P<:Cassette.AbstractPass where T<:Union{Nothing, Cassette.Tag{N, X, E} where E where X where N<:Cassette.AbstractContextName} where M, UnionAll) in module Dubstep at /home/infvie/.julia/dev/SemanticModels/src/cassette.jl:211 overwritten at /home/infvie/.julia/dev/SemanticModels/src/cassette.jl:212.\n"
     ]
    },
    {
     "name": "stdout",
     "output_type": "stream",
     "text": [
      "loaded\n"
     ]
    }
   ],
   "source": [
    "using Cassette\n",
    "using SemanticModels.Dubstep"
   ]
  },
  {
   "cell_type": "code",
   "execution_count": 2,
   "metadata": {},
   "outputs": [
    {
     "data": {
      "text/plain": [
       "\"SIRModel.jl\""
      ]
     },
     "execution_count": 2,
     "metadata": {},
     "output_type": "execute_result"
    }
   ],
   "source": [
    "sir_path = \"SIRModel.jl\""
   ]
  },
  {
   "cell_type": "code",
   "execution_count": 3,
   "metadata": {},
   "outputs": [
    {
     "name": "stderr",
     "output_type": "stream",
     "text": [
      "WARNING: replacing module sir.\n"
     ]
    },
    {
     "data": {
      "text/plain": [
       "{6, 3} directed Int64 metagraph with Float64 weights defined by :weight (default weight 1.0)"
      ]
     },
     "execution_count": 3,
     "metadata": {},
     "output_type": "execute_result"
    }
   ],
   "source": [
    "ext = typegraph(sir_path)"
   ]
  },
  {
   "cell_type": "markdown",
   "metadata": {},
   "source": [
    "# Graph"
   ]
  },
  {
   "cell_type": "code",
   "execution_count": 4,
   "metadata": {},
   "outputs": [
    {
     "data": {
      "text/plain": [
       "parsefile (generic function with 2 methods)"
      ]
     },
     "execution_count": 4,
     "metadata": {},
     "output_type": "execute_result"
    }
   ],
   "source": [
    "function parsefile(path, modprefix=\"Modeling\")\n",
    "    s = read(path, String)\n",
    "    try\n",
    "        expr = Meta.parse(s)\n",
    "        return expr\n",
    "    catch\n",
    "        s = \"module $modprefix\\n$s \\nend\"\n",
    "        expr = Meta.parse(s)\n",
    "        return expr\n",
    "    end\n",
    "end"
   ]
  },
  {
   "cell_type": "code",
   "execution_count": 21,
   "metadata": {},
   "outputs": [
    {
     "name": "stderr",
     "output_type": "stream",
     "text": [
      "WARNING: replacing module sir.\n"
     ]
    },
    {
     "data": {
      "text/plain": [
       "retcode: Success\n",
       "Interpolation: 1st order linear\n",
       "t: 2001-element Array{Float64,1}:\n",
       "   0.0\n",
       "   0.1\n",
       "   0.2\n",
       "   0.3\n",
       "   0.4\n",
       "   0.5\n",
       "   0.6\n",
       "   0.7\n",
       "   0.8\n",
       "   0.9\n",
       "   1.0\n",
       "   1.1\n",
       "   1.2\n",
       "   ⋮  \n",
       " 198.9\n",
       " 199.0\n",
       " 199.1\n",
       " 199.2\n",
       " 199.3\n",
       " 199.4\n",
       " 199.5\n",
       " 199.6\n",
       " 199.7\n",
       " 199.8\n",
       " 199.9\n",
       " 200.0\n",
       "u: 2001-element Array{Array{Float64,1},1}:\n",
       " [0.99, 0.01, 0.0]                 \n",
       " [0.989901, 0.0100491, 5.01227e-5] \n",
       " [0.989801, 0.0100985, 0.000100492]\n",
       " [0.989701, 0.010148, 0.000151108] \n",
       " [0.9896, 0.0101979, 0.000201972]  \n",
       " [0.989499, 0.0102479, 0.000253087]\n",
       " [0.989397, 0.0102982, 0.000304452]\n",
       " [0.989295, 0.0103487, 0.000356069]\n",
       " [0.989193, 0.0103995, 0.000407939]\n",
       " [0.989089, 0.0104504, 0.000460064]\n",
       " [0.988986, 0.0105017, 0.000512444]\n",
       " [0.988882, 0.0105531, 0.000565081]\n",
       " [0.988777, 0.0106049, 0.000617976]\n",
       " ⋮                                 \n",
       " [0.21018, 0.0149422, 0.774878]    \n",
       " [0.210148, 0.014899, 0.774953]    \n",
       " [0.210117, 0.0148558, 0.775027]   \n",
       " [0.210086, 0.0148128, 0.775101]   \n",
       " [0.210055, 0.01477, 0.775175]     \n",
       " [0.210024, 0.0147272, 0.775249]   \n",
       " [0.209993, 0.0146845, 0.775322]   \n",
       " [0.209962, 0.014642, 0.775396]    \n",
       " [0.209932, 0.0145996, 0.775469]   \n",
       " [0.209901, 0.0145573, 0.775542]   \n",
       " [0.209871, 0.0145151, 0.775614]   \n",
       " [0.20984, 0.0144731, 0.775687]    "
      ]
     },
     "execution_count": 21,
     "metadata": {},
     "output_type": "execute_result"
    }
   ],
   "source": [
    "s = read(\"SIRModel.jl\",String)\n",
    "ast = Meta.parse(s)\n",
    "eval(ast)\n",
    "sir.main()"
   ]
  },
  {
   "cell_type": "code",
   "execution_count": 13,
   "metadata": {},
   "outputs": [
    {
     "data": {
      "text/plain": [
       ":(module sir\n",
       "  #= none:1 =#\n",
       "  #= none:2 =#\n",
       "  using DifferentialEquations\n",
       "  #= none:4 =#\n",
       "  function sir_ode(du, u, p, t)\n",
       "      #= none:6 =#\n",
       "      β = p[1]\n",
       "      #= none:8 =#\n",
       "      γ = p[2]\n",
       "      #= none:11 =#\n",
       "      S = u[1]\n",
       "      #= none:13 =#\n",
       "      I = u[2]\n",
       "      #= none:15 =#\n",
       "      du[1] = -β * S * I\n",
       "      #= none:16 =#\n",
       "      du[2] = β * S * I - γ * I\n",
       "      #= none:17 =#\n",
       "      du[3] = γ * I\n",
       "  end\n",
       "  #= none:21 =#\n",
       "  pram = [0.1, 0.05]\n",
       "  #= none:23 =#\n",
       "  init = [0.99, 0.01, 0.0]\n",
       "  #= none:24 =#\n",
       "  tspan = (0.0, 200.0)\n",
       "  #= none:26 =#\n",
       "  sir_prob = ODEProblem(sir_ode, init, tspan, pram)\n",
       "  #= none:27 =#\n",
       "  sir_sol = solve(sir_prob, saveat=0.1)\n",
       "  #= none:30 =#\n",
       "  using Plots\n",
       "  #= none:31 =#\n",
       "  plot(sir_sol, xlabel=\"Time\", ylabel=\"Number\")\n",
       "  #= none:33 =#\n",
       "  function sir_ode2(du, u, p, t)\n",
       "      #= none:34 =#\n",
       "      (S, I, R) = u\n",
       "      #= none:35 =#\n",
       "      (b, g) = p\n",
       "      #= none:36 =#\n",
       "      du[1] = -b * S * I\n",
       "      #= none:37 =#\n",
       "      du[2] = b * S * I - g * I\n",
       "      #= none:38 =#\n",
       "      du[3] = g * I\n",
       "  end\n",
       "  #= none:41 =#\n",
       "  parms = [0.1, 0.05]\n",
       "  #= none:42 =#\n",
       "  init = [0.99, 0.01, 0.0]\n",
       "  #= none:43 =#\n",
       "  tspan = (0.0, 200.0)\n",
       "  #= none:45 =#\n",
       "  sir_prob2 = ODEProblem(sir_ode2, init, tspan, parms)\n",
       "  #= none:46 =#\n",
       "  sir_sol = solve(sir_prob2, saveat=0.1)\n",
       "  end)"
      ]
     },
     "execution_count": 13,
     "metadata": {},
     "output_type": "execute_result"
    }
   ],
   "source": [
    "f = open(\"SIRModel.jl\")\n",
    "s = read(f,String)\n",
    "ast = Meta.parse(s)"
   ]
  },
  {
   "cell_type": "code",
   "execution_count": null,
   "metadata": {},
   "outputs": [],
   "source": []
  }
 ],
 "metadata": {
  "kernelspec": {
   "display_name": "Julia 1.0.3",
   "language": "julia",
   "name": "julia-1.0"
  },
  "language_info": {
   "file_extension": ".jl",
   "mimetype": "application/julia",
   "name": "julia",
   "version": "1.0.3"
  }
 },
 "nbformat": 4,
 "nbformat_minor": 2
}
