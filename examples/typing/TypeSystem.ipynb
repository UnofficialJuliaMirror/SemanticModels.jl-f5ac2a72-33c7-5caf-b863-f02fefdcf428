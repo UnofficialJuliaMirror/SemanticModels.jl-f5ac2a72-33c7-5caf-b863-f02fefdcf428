{
 "cells": [
  {
   "cell_type": "code",
   "execution_count": 1,
   "metadata": {},
   "outputs": [],
   "source": [
    "using Cassette;\n",
    "using DifferentialEquations;"
   ]
  },
  {
   "cell_type": "markdown",
   "metadata": {},
   "source": [
    "The model that we would like to edit."
   ]
  },
  {
   "cell_type": "code",
   "execution_count": 2,
   "metadata": {},
   "outputs": [
    {
     "data": {
      "text/plain": [
       "main (generic function with 1 method)"
      ]
     },
     "execution_count": 2,
     "metadata": {},
     "output_type": "execute_result"
    }
   ],
   "source": [
    "function main()\n",
    "    \n",
    "    # define our ode\n",
    "    function sir_ode(du, u, p, t)  \n",
    "        #Infected per-Capita Rate\n",
    "        β = p[1]\n",
    "        #Recover per-capita rate\n",
    "        γ = p[2]\n",
    "        #Susceptible Individuals\n",
    "        S = u[1]\n",
    "        #Infected by Infected Individuals\n",
    "        I = u[2]\n",
    "\n",
    "        du[1] = -β * S * I\n",
    "        du[2] = β * S * I - γ * I\n",
    "        du[3] = γ * I\n",
    "    end\n",
    "\n",
    "    #Pram = (Infected Per Capita Rate, Recover Per Capita Rate)\n",
    "    pram = [0.1,0.05]\n",
    "    #Initial Prams = (Susceptible Individuals, Infected by Infected Individuals)\n",
    "    init = [0.99,0.01,0.0]\n",
    "    tspan = (0.0,200.0)\n",
    "    \n",
    "    # create a var to our problem\n",
    "    sir_prob = ODEProblem(sir_ode, init, tspan, pram)\n",
    "    solution = solve(sir_prob)\n",
    "    \n",
    "end"
   ]
  },
  {
   "cell_type": "markdown",
   "metadata": {},
   "source": [
    "Define a data structure that we will use to collect the edge information we would like to have."
   ]
  },
  {
   "cell_type": "code",
   "execution_count": 3,
   "metadata": {},
   "outputs": [],
   "source": [
    "# define the context we will use\n",
    "ctx = Cassette.@context typeCtx;"
   ]
  },
  {
   "cell_type": "code",
   "execution_count": 4,
   "metadata": {},
   "outputs": [],
   "source": [
    "# add boilerplate for functionality\n",
    "function Cassette.overdub(ctx::typeCtx, args...)\n",
    "    @show args\n",
    "    \n",
    "    if Cassette.canrecurse(ctx, args...)\n",
    "        newctx = Cassette.similarcontext(ctx, metadata = ctx.metadata)\n",
    "        return Cassette.recurse(newctx, args...)\n",
    "    else\n",
    "        return Cassette.fallback(ctx, args...)\n",
    "    end\n",
    "end"
   ]
  },
  {
   "cell_type": "code",
   "execution_count": 5,
   "metadata": {},
   "outputs": [],
   "source": [
    "function Cassette.canrecurse(ctx::typeCtx,::typeof(ODEProblem),args...)\n",
    "    return false\n",
    "end\n",
    "\n",
    "function Cassette.canrecurse(ctx::typeCtx,::typeof(Base.vect),args...)\n",
    "    return false\n",
    "end"
   ]
  },
  {
   "cell_type": "code",
   "execution_count": 7,
   "metadata": {},
   "outputs": [],
   "source": [
    "function Cassette.overdub(ctx::typeCtx,::typeof(ODEProblem),args...)\n",
    "    @show args\n",
    "    return ODEProblem(args...) \n",
    "end\n",
    "\n",
    "function Cassette.overdub(ctx::typeCtx,::typeof(solve),args...)\n",
    "    @show args\n",
    "    sol = solve(args...)\n",
    "    #println((src=typeof(ODEProblem),dst=typeof.((sol.t,sol.u)),func=typeof(solve)))\n",
    "end"
   ]
  },
  {
   "cell_type": "code",
   "execution_count": 8,
   "metadata": {},
   "outputs": [
    {
     "name": "stdout",
     "output_type": "stream",
     "text": [
      "args = (main,)\n",
      "args = (Base.vect, 0.1, 0.05)\n",
      "args = (Base.vect, 0.99, 0.01, 0.0)\n",
      "args = (tuple, 0.0, 200.0)\n",
      "args = (getfield(Main, Symbol(\"#sir_ode#3\"))(), [0.99, 0.01, 0.0], (0.0, 200.0), [0.1, 0.05])\n",
      "args = (\u001b[36mODEProblem\u001b[0m with uType \u001b[36mArray{Float64,1}\u001b[0m and tType \u001b[36mFloat64\u001b[0m. In-place: \u001b[36mtrue\u001b[0m\n",
      "timespan: (0.0, 200.0)\n",
      "u0: [0.99, 0.01, 0.0],)\n"
     ]
    },
    {
     "data": {
      "text/plain": [
       "retcode: Success\n",
       "Interpolation: 3rd order Hermite\n",
       "t: 16-element Array{Float64,1}:\n",
       "   0.0                \n",
       "   0.12810751461600167\n",
       "   1.4091826607760183 \n",
       "   5.168078275288366  \n",
       "  10.994513104681563  \n",
       "  18.30187178378411   \n",
       "  27.798934045417262  \n",
       "  39.52941936332723   \n",
       "  54.03265989500447   \n",
       "  71.03333070372756   \n",
       "  90.35176881316265   \n",
       " 110.76614123722325   \n",
       " 137.20279000396786   \n",
       " 160.26481035931778   \n",
       " 195.1309036063155    \n",
       " 200.0                \n",
       "u: 16-element Array{Array{Float64,1},1}:\n",
       " [0.99, 0.01, 0.0]                 \n",
       " [0.989873, 0.010063, 6.42552e-5]  \n",
       " [0.988557, 0.0107138, 0.000729462]\n",
       " [0.984197, 0.0128634, 0.00293922] \n",
       " [0.975719, 0.0170157, 0.00726505] \n",
       " [0.961344, 0.0239699, 0.0146865]  \n",
       " [0.934383, 0.0367076, 0.0289091]  \n",
       " [0.883849, 0.0594416, 0.0567092]  \n",
       " [0.789657, 0.0972901, 0.113053]   \n",
       " [0.643584, 0.14109, 0.215326]     \n",
       " [0.478491, 0.15798, 0.363529]     \n",
       " [0.354016, 0.131801, 0.514183]    \n",
       " [0.26819, 0.0788203, 0.652989]    \n",
       " [0.233414, 0.0441549, 0.722431]   \n",
       " [0.211434, 0.0166631, 0.771903]   \n",
       " [0.20984, 0.0144731, 0.775687]    "
      ]
     },
     "execution_count": 8,
     "metadata": {},
     "output_type": "execute_result"
    }
   ],
   "source": [
    "Cassette.overdub(typeCtx(),main)"
   ]
  },
  {
   "cell_type": "code",
   "execution_count": null,
   "metadata": {},
   "outputs": [],
   "source": []
  }
 ],
 "metadata": {
  "kernelspec": {
   "display_name": "Julia 1.0.3",
   "language": "julia",
   "name": "julia-1.0"
  },
  "language_info": {
   "file_extension": ".jl",
   "mimetype": "application/julia",
   "name": "julia",
   "version": "1.0.3"
  }
 },
 "nbformat": 4,
 "nbformat_minor": 2
}
