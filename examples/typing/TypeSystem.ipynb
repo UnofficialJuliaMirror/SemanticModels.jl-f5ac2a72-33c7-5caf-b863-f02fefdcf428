{
 "cells": [
  {
   "cell_type": "markdown",
   "metadata": {},
   "source": [
    "# TypeCtx\n",
    "We will first take a script and add the Cassette logic to get the information from the stack trace."
   ]
  },
  {
   "cell_type": "code",
   "execution_count": 1,
   "metadata": {},
   "outputs": [],
   "source": [
    "using Cassette;\n",
    "using DifferentialEquations: ODEProblem, solve"
   ]
  },
  {
   "cell_type": "code",
   "execution_count": 2,
   "metadata": {},
   "outputs": [
    {
     "data": {
      "text/plain": [
       "main (generic function with 1 method)"
      ]
     },
     "execution_count": 2,
     "metadata": {},
     "output_type": "execute_result"
    }
   ],
   "source": [
    "function main()\n",
    "    \n",
    "    # define our ode\n",
    "    function sir_ode(du, u, p, t)  \n",
    "        #Infected per-Capita Rate\n",
    "        β = p[1]\n",
    "        #Recover per-capita rate\n",
    "        γ = p[2]\n",
    "        #Susceptible Individuals\n",
    "        S = u[1]\n",
    "        #Infected by Infected Individuals\n",
    "        I = u[2]\n",
    "\n",
    "        du[1] = -β * S * I\n",
    "        du[2] = β * S * I - γ * I\n",
    "        du[3] = γ * I\n",
    "    end\n",
    "\n",
    "    #Pram = (Infected Per Capita Rate, Recover Per Capita Rate)\n",
    "    pram = [0.1,0.05]\n",
    "    #Initial Prams = (Susceptible Individuals, Infected by Infected Individuals)\n",
    "    init = [0.99,0.01,0.0]\n",
    "    tspan = (0.0,200.0)\n",
    "    \n",
    "    # create a var to our problem\n",
    "    sir_prob = ODEProblem(sir_ode, init, tspan, pram)\n",
    "    solution = solve(sir_prob)\n",
    "    \n",
    "end"
   ]
  },
  {
   "cell_type": "code",
   "execution_count": 3,
   "metadata": {},
   "outputs": [],
   "source": [
    "mutable struct FCollector{I,F,C}\n",
    "    depth::I\n",
    "    frame::F\n",
    "    data::Vector{C}\n",
    "end"
   ]
  },
  {
   "cell_type": "code",
   "execution_count": 4,
   "metadata": {},
   "outputs": [
    {
     "data": {
      "text/plain": [
       "FCollector"
      ]
     },
     "execution_count": 4,
     "metadata": {},
     "output_type": "execute_result"
    }
   ],
   "source": [
    "function FCollector(d::Int, f)\n",
    "    FCollector(d, f, FCollector[])\n",
    "end"
   ]
  },
  {
   "cell_type": "code",
   "execution_count": 21,
   "metadata": {},
   "outputs": [
    {
     "data": {
      "text/plain": [
       "Frame"
      ]
     },
     "execution_count": 21,
     "metadata": {},
     "output_type": "execute_result"
    }
   ],
   "source": [
    "\"\"\" \n",
    "Frame(func, args, ret, subtrace)\n",
    "\n",
    "a structure to hold metadata for recursive type information\n",
    "\"\"\"\n",
    "mutable struct Frame{F,T,U}\n",
    "    func::F\n",
    "    args::T\n",
    "    ret::U\n",
    "end"
   ]
  },
  {
   "cell_type": "code",
   "execution_count": 6,
   "metadata": {},
   "outputs": [],
   "source": [
    "# define the \n",
    "Cassette.@context TypeCtx;"
   ]
  },
  {
   "cell_type": "code",
   "execution_count": 7,
   "metadata": {},
   "outputs": [
    {
     "data": {
      "text/plain": [
       "FCollector{Int64,Frame{Nothing,Tuple{},Nothing},FCollector}(3, Frame{Nothing,Tuple{},Nothing}(nothing, (), nothing), FCollector[])"
      ]
     },
     "execution_count": 7,
     "metadata": {},
     "output_type": "execute_result"
    }
   ],
   "source": [
    "maxdepth =3\n",
    "extractor = FCollector(maxdepth, Frame(nothing, (), nothing,))"
   ]
  },
  {
   "cell_type": "code",
   "execution_count": 8,
   "metadata": {},
   "outputs": [],
   "source": [
    "ctx = TypeCtx(metadata = extractor);"
   ]
  },
  {
   "cell_type": "code",
   "execution_count": 9,
   "metadata": {},
   "outputs": [],
   "source": [
    "# add boilerplate for functionality\n",
    "function Cassette.overdub(ctx::TypeCtx, f, args...)\n",
    "    c = FCollector(ctx.metadata.depth-1, Frame(f, args, Any))\n",
    "    push!(ctx.metadata.data, c)\n",
    "    if c.depth > 0 && Cassette.canrecurse(ctx, f, args...)\n",
    "        newctx = Cassette.similarcontext(ctx, metadata = c)\n",
    "        z = Cassette.recurse(newctx, f, args...)\n",
    "        c.frame.ret = typeof(z)\n",
    "        return z\n",
    "    else\n",
    "        z = Cassette.fallback(ctx, f, args...)\n",
    "        c.frame.ret = typeof(z)\n",
    "        return z\n",
    "    end\n",
    "end"
   ]
  },
  {
   "cell_type": "code",
   "execution_count": 10,
   "metadata": {},
   "outputs": [],
   "source": [
    "Cassette.canrecurse(ctx::TypeCtx,::typeof(ODEProblem), args...) = false\n",
    "Cassette.canrecurse(ctx::TypeCtx,::typeof(Base.vect), args...) = false\n",
    "Cassette.canrecurse(ctx::TypeCtx,::typeof(FCollector)) = false\n",
    "Cassette.canrecurse(ctx::TypeCtx,::typeof(Frame)) = false"
   ]
  },
  {
   "cell_type": "code",
   "execution_count": 67,
   "metadata": {},
   "outputs": [],
   "source": [
    "Cassette.overdub(ctx,main);"
   ]
  },
  {
   "cell_type": "markdown",
   "metadata": {},
   "source": [
    "# Create a graph"
   ]
  },
  {
   "cell_type": "code",
   "execution_count": 12,
   "metadata": {},
   "outputs": [],
   "source": [
    "using LightGraphs;\n",
    "using MetaGraphs;"
   ]
  },
  {
   "cell_type": "code",
   "execution_count": 74,
   "metadata": {},
   "outputs": [
    {
     "data": {
      "text/plain": [
       "build_graph (generic function with 1 method)"
      ]
     },
     "execution_count": 74,
     "metadata": {},
     "output_type": "execute_result"
    }
   ],
   "source": [
    "g = MetaDiGraph()\n",
    "function build_graph(collector::FCollector)\n",
    "    add_vertex!(g,:name,collector.frame.args)\n",
    "    add_vertex!(g,:name,collector.frame.ret)\n",
    "    add_edge!(g,nv(g)-1,nv(g),:name,collector.frame.func)\n",
    "    for frame in collector.data\n",
    "        build_graph(frame)\n",
    "    end\n",
    "    return g\n",
    "end"
   ]
  },
  {
   "cell_type": "code",
   "execution_count": 75,
   "metadata": {},
   "outputs": [
    {
     "data": {
      "text/plain": [
       "{42, 21} directed Int64 metagraph with Float64 weights defined by :weight (default weight 1.0)"
      ]
     },
     "execution_count": 75,
     "metadata": {},
     "output_type": "execute_result"
    }
   ],
   "source": [
    "build_graph(extractor)"
   ]
  }
 ],
 "metadata": {
  "kernelspec": {
   "display_name": "Julia 1.0.3",
   "language": "julia",
   "name": "julia-1.0"
  },
  "language_info": {
   "file_extension": ".jl",
   "mimetype": "application/julia",
   "name": "julia",
   "version": "1.0.3"
  }
 },
 "nbformat": 4,
 "nbformat_minor": 2
}
