{
 "cells": [
  {
   "cell_type": "code",
   "execution_count": 1,
   "metadata": {},
   "outputs": [],
   "source": [
    "using Cassette;\n",
    "using DifferentialEquations;"
   ]
  },
  {
   "cell_type": "markdown",
   "metadata": {},
   "source": [
    "The model that we would like to edit."
   ]
  },
  {
   "cell_type": "code",
   "execution_count": 2,
   "metadata": {},
   "outputs": [
    {
     "data": {
      "text/plain": [
       "main (generic function with 1 method)"
      ]
     },
     "execution_count": 2,
     "metadata": {},
     "output_type": "execute_result"
    }
   ],
   "source": [
    "function main()\n",
    "    \n",
    "    # define our ode\n",
    "    function sir_ode(du, u, p, t)  \n",
    "        #Infected per-Capita Rate\n",
    "        β = p[1]\n",
    "        #Recover per-capita rate\n",
    "        γ = p[2]\n",
    "        #Susceptible Individuals\n",
    "        S = u[1]\n",
    "        #Infected by Infected Individuals\n",
    "        I = u[2]\n",
    "\n",
    "        du[1] = -β * S * I\n",
    "        du[2] = β * S * I - γ * I\n",
    "        du[3] = γ * I\n",
    "    end\n",
    "\n",
    "    #Pram = (Infected Per Capita Rate, Recover Per Capita Rate)\n",
    "    pram = [0.1,0.05]\n",
    "    #Initial Prams = (Susceptible Individuals, Infected by Infected Individuals)\n",
    "    init = [0.99,0.01,0.0]\n",
    "    tspan = (0.0,200.0)\n",
    "    \n",
    "    # create a var to our problem\n",
    "    sir_prob = ODEProblem(sir_ode, init, tspan, pram)\n",
    "    solution = solve(sir_prob)\n",
    "    \n",
    "end"
   ]
  },
  {
   "cell_type": "markdown",
   "metadata": {},
   "source": [
    "Define a data structure that we will use to collect the edge information we would like to have."
   ]
  },
  {
   "cell_type": "code",
   "execution_count": 3,
   "metadata": {},
   "outputs": [
    {
     "data": {
      "text/plain": [
       "trace_collector"
      ]
     },
     "execution_count": 3,
     "metadata": {},
     "output_type": "execute_result"
    }
   ],
   "source": [
    "\"\"\" \n",
    "trace_collector(func, args, ret, subtrace)\n",
    "\n",
    "a structure to hold metadata for recursive type information\n",
    "\"\"\"\n",
    "mutable struct trace_collector\n",
    "    func\n",
    "    args\n",
    "    ret\n",
    "    subtrace::Vector{trace_collector}\n",
    "end"
   ]
  },
  {
   "cell_type": "code",
   "execution_count": 4,
   "metadata": {},
   "outputs": [
    {
     "data": {
      "text/plain": [
       "trace_collect"
      ]
     },
     "execution_count": 4,
     "metadata": {},
     "output_type": "execute_result"
    }
   ],
   "source": [
    "\"\"\"    \n",
    "trace_collect(func, args...)\n",
    "\n",
    "creates a new trace_collector logging the input argument types and function name. You have to set the `ret` field after you call the function. \n",
    "This constructor creates the subtrace field for use in Cassette.similarcontext.\n",
    "\"\"\"\n",
    "function trace_collect(func, args...)\n",
    "    return trace_collector(func, typeof.(args), nothing, trace_collector[])\n",
    "end"
   ]
  },
  {
   "cell_type": "code",
   "execution_count": 2,
   "metadata": {},
   "outputs": [],
   "source": [
    "# define the context we will use\n",
    "ctx = Cassette.@context typCtx()\n",
    "\n",
    "# add boilerplate for functionality\n",
    "function Cassette.overdub(ctx::typCtx, args...)\n",
    "    @show args\n",
    "    if Cassette.canrecurse(ctx, args...)\n",
    "        newctx = Cassette.similarcontext(ctx, metadata = ctx.metadata)\n",
    "        return Cassette.recurse(newctx, args...)\n",
    "    else\n",
    "        return Cassette.fallback(ctx, args...)\n",
    "    end\n",
    "end\n",
    "    \n",
    "function Cassette.canrecurse(ctx::typCtx,::typeof(ODEProblem),args...)\n",
    "    return false\n",
    "end\n",
    "\n",
    "function Cassette.canrecurse(ctx::typCtx,::typeof(Base.vect),args...)\n",
    "    return false\n",
    "end\n",
    "    \n",
    "function Cassette.overdub(ctx::typCtx,::typeof(ODEProblem),args...)\n",
    "    #println(\"ODE Formulation:\")\n",
    "    @show args\n",
    "    #println((src=typeof.(args[2:end]),dst=nothing,func=typeof(ODEProblem)))\n",
    "    return ODEProblem(args...) \n",
    "end\n",
    "\n",
    "function Cassette.overdub(ctx::typCtx,::typeof(solve),args...)\n",
    "    @show args\n",
    "    #println(\"Solver:\")\n",
    "    sol = solve(args...)\n",
    "    #println((src=typeof(ODEProblem),dst=typeof.((sol.t,sol.u)),func=typeof(solve)))\n",
    "end"
   ]
  },
  {
   "cell_type": "code",
   "execution_count": 6,
   "metadata": {},
   "outputs": [
    {
     "name": "stdout",
     "output_type": "stream",
     "text": [
      "args = (main,)\n",
      "args = (Base.vect, 0.1, 0.05)\n",
      "args = (Base.vect, 0.99, 0.01, 0.0)\n",
      "args = (tuple, 0.0, 200.0)\n",
      "args = (getfield(Main, Symbol(\"#sir_ode#3\"))(), [0.99, 0.01, 0.0], (0.0, 200.0), [0.1, 0.05])\n",
      "args = (\u001b[36mODEProblem\u001b[0m with uType \u001b[36mArray{Float64,1}\u001b[0m and tType \u001b[36mFloat64\u001b[0m. In-place: \u001b[36mtrue\u001b[0m\n",
      "timespan: (0.0, 200.0)\n",
      "u0: [0.99, 0.01, 0.0],)\n"
     ]
    },
    {
     "data": {
      "text/plain": [
       "retcode: Success\n",
       "Interpolation: 3rd order Hermite\n",
       "t: 16-element Array{Float64,1}:\n",
       "   0.0                \n",
       "   0.12810751461600167\n",
       "   1.4091826607760183 \n",
       "   5.168078275288366  \n",
       "  10.994513104681563  \n",
       "  18.30187178378411   \n",
       "  27.798934045417262  \n",
       "  39.52941936332723   \n",
       "  54.03265989500447   \n",
       "  71.03333070372756   \n",
       "  90.35176881316265   \n",
       " 110.76614123722325   \n",
       " 137.20279000396786   \n",
       " 160.26481035931778   \n",
       " 195.1309036063155    \n",
       " 200.0                \n",
       "u: 16-element Array{Array{Float64,1},1}:\n",
       " [0.99, 0.01, 0.0]                 \n",
       " [0.989873, 0.010063, 6.42552e-5]  \n",
       " [0.988557, 0.0107138, 0.000729462]\n",
       " [0.984197, 0.0128634, 0.00293922] \n",
       " [0.975719, 0.0170157, 0.00726505] \n",
       " [0.961344, 0.0239699, 0.0146865]  \n",
       " [0.934383, 0.0367076, 0.0289091]  \n",
       " [0.883849, 0.0594416, 0.0567092]  \n",
       " [0.789657, 0.0972901, 0.113053]   \n",
       " [0.643584, 0.14109, 0.215326]     \n",
       " [0.478491, 0.15798, 0.363529]     \n",
       " [0.354016, 0.131801, 0.514183]    \n",
       " [0.26819, 0.0788203, 0.652989]    \n",
       " [0.233414, 0.0441549, 0.722431]   \n",
       " [0.211434, 0.0166631, 0.771903]   \n",
       " [0.20984, 0.0144731, 0.775687]    "
      ]
     },
     "execution_count": 6,
     "metadata": {},
     "output_type": "execute_result"
    }
   ],
   "source": [
    "Cassette.overdub(typCtx(),main)"
   ]
  },
  {
   "cell_type": "code",
   "execution_count": 3,
   "metadata": {},
   "outputs": [
    {
     "data": {
      "text/plain": [
       "test_main (generic function with 1 method)"
      ]
     },
     "execution_count": 3,
     "metadata": {},
     "output_type": "execute_result"
    }
   ],
   "source": [
    "function test_main()\n",
    "    \n",
    "    gen_p() = rand()\n",
    "    \n",
    "    function f(du,u,p,t)\n",
    "        p = gen_p()\n",
    "        du = u + exp(p)\n",
    "    end\n",
    "        \n",
    "    u0 = 1/2\n",
    "    tspan = (0.0,1.0)\n",
    "    prob = ODEProblem(f,u0,tspan)\n",
    "    sol = solve(prob)\n",
    "    \n",
    "end    "
   ]
  },
  {
   "cell_type": "code",
   "execution_count": 4,
   "metadata": {},
   "outputs": [
    {
     "name": "stdout",
     "output_type": "stream",
     "text": [
      "args = (test_main,)\n",
      "args = (typeof, getfield(Main, Symbol(\"#gen_p#4\"))())\n",
      "args = (Core.apply_type, getfield(Main, Symbol(\"#f#5\")), getfield(Main, Symbol(\"#gen_p#4\")))\n",
      "args = (/, 1, 2)\n",
      "args = (float, 1)\n",
      "args = (AbstractFloat, 1)\n",
      "args = (Float64, 1)\n",
      "args = (sitofp, Float64, 1)\n",
      "args = (float, 2)\n",
      "args = (AbstractFloat, 2)\n",
      "args = (Float64, 2)\n",
      "args = (sitofp, Float64, 2)\n",
      "args = (/, 1.0, 2.0)\n",
      "args = (div_float, 1.0, 2.0)\n",
      "args = (tuple, 0.0, 1.0)\n",
      "args = (getfield(Main, Symbol(\"#f#5\")){getfield(Main, Symbol(\"#gen_p#4\"))}(getfield(Main, Symbol(\"#gen_p#4\"))()), 0.5, (0.0, 1.0))\n",
      "args = (\u001b[36mODEProblem\u001b[0m with uType \u001b[36mFloat64\u001b[0m and tType \u001b[36mFloat64\u001b[0m. In-place: \u001b[36mtrue\u001b[0m\n",
      "timespan: (0.0, 1.0)\n",
      "u0: 0.5,)\n"
     ]
    },
    {
     "ename": "MethodError",
     "evalue": "MethodError: no method matching similar(::Float64)\nClosest candidates are:\n  similar(!Matched::ZMQ.Message, !Matched::Type{T}, !Matched::Tuple{Vararg{Int64,N}} where N) where T at /home/infvie/.julia/packages/ZMQ/ABGOx/src/message.jl:93\n  similar(!Matched::DataStructures.IntSet) at deprecated.jl:53\n  similar(!Matched::Sundials.NVector) at /home/infvie/.julia/packages/Sundials/KYRgQ/src/nvector_wrapper.jl:69\n  ...",
     "output_type": "error",
     "traceback": [
      "MethodError: no method matching similar(::Float64)\nClosest candidates are:\n  similar(!Matched::ZMQ.Message, !Matched::Type{T}, !Matched::Tuple{Vararg{Int64,N}} where N) where T at /home/infvie/.julia/packages/ZMQ/ABGOx/src/message.jl:93\n  similar(!Matched::DataStructures.IntSet) at deprecated.jl:53\n  similar(!Matched::Sundials.NVector) at /home/infvie/.julia/packages/Sundials/KYRgQ/src/nvector_wrapper.jl:69\n  ...",
      "",
      "Stacktrace:",
      " [1] alg_cache(::Tsit5, ::Float64, ::Float64, ::DataType, ::DataType, ::DataType, ::Float64, ::Float64, ::ODEFunction{true,getfield(Main, Symbol(\"#f#5\")){getfield(Main, Symbol(\"#gen_p#4\"))},LinearAlgebra.UniformScaling{Bool},Nothing,Nothing,Nothing,Nothing,Nothing,Nothing,Nothing,Nothing}, ::Float64, ::Float64, ::Float64, ::Nothing, ::Bool, ::Type{Val{true}}) at /home/infvie/.julia/packages/OrdinaryDiffEq/6mZB8/src/caches/low_order_rk_caches.jl:410",
      " [2] (::getfield(OrdinaryDiffEq, Symbol(\"##93#94\")){true,Float64,Float64,DataType,DataType,DataType,Float64,Float64,ODEFunction{true,getfield(Main, Symbol(\"#f#5\")){getfield(Main, Symbol(\"#gen_p#4\"))},LinearAlgebra.UniformScaling{Bool},Nothing,Nothing,Nothing,Nothing,Nothing,Nothing,Nothing,Nothing},Float64,Float64,Float64,Nothing,Bool})(::Tsit5) at /home/infvie/.julia/packages/OrdinaryDiffEq/6mZB8/src/caches/basic_caches.jl:14",
      " [3] map(::getfield(OrdinaryDiffEq, Symbol(\"##93#94\")){true,Float64,Float64,DataType,DataType,DataType,Float64,Float64,ODEFunction{true,getfield(Main, Symbol(\"#f#5\")){getfield(Main, Symbol(\"#gen_p#4\"))},LinearAlgebra.UniformScaling{Bool},Nothing,Nothing,Nothing,Nothing,Nothing,Nothing,Nothing,Nothing},Float64,Float64,Float64,Nothing,Bool}, ::Tuple{Tsit5,Rosenbrock23{0,false,LinSolveFactorize{typeof(LinearAlgebra.lu!)},DataType}}) at ./tuple.jl:163",
      " [4] alg_cache(::CompositeAlgorithm{Tuple{Tsit5,Rosenbrock23{0,false,LinSolveFactorize{typeof(LinearAlgebra.lu!)},DataType}},AutoSwitch{Tsit5,Rosenbrock23{0,false,LinSolveFactorize{typeof(LinearAlgebra.lu!)},DataType},Rational{Int64},Float64}}, ::Float64, ::Float64, ::Type, ::Type, ::Type, ::Float64, ::Float64, ::ODEFunction{true,getfield(Main, Symbol(\"#f#5\")){getfield(Main, Symbol(\"#gen_p#4\"))},LinearAlgebra.UniformScaling{Bool},Nothing,Nothing,Nothing,Nothing,Nothing,Nothing,Nothing,Nothing}, ::Float64, ::Float64, ::Float64, ::Nothing, ::Bool, ::Type{Val{true}}) at /home/infvie/.julia/packages/OrdinaryDiffEq/6mZB8/src/caches/basic_caches.jl:14",
      " [5] #__init#479(::Array{Float64,1}, ::Array{Float64,1}, ::Array{Float64,1}, ::Nothing, ::Bool, ::Nothing, ::Bool, ::Bool, ::Bool, ::Nothing, ::Bool, ::Bool, ::Float64, ::Bool, ::Rational{Int64}, ::Nothing, ::Nothing, ::Int64, ::Rational{Int64}, ::Int64, ::Int64, ::Rational{Int64}, ::Bool, ::Int64, ::Nothing, ::Nothing, ::Int64, ::Float64, ::Float64, ::typeof(DiffEqBase.ODE_DEFAULT_NORM), ::typeof(LinearAlgebra.opnorm), ::typeof(DiffEqBase.ODE_DEFAULT_ISOUTOFDOMAIN), ::typeof(DiffEqBase.ODE_DEFAULT_UNSTABLE_CHECK), ::Bool, ::Bool, ::Bool, ::Bool, ::Bool, ::Bool, ::Bool, ::Bool, ::Int64, ::String, ::typeof(DiffEqBase.ODE_DEFAULT_PROG_MESSAGE), ::Nothing, ::Bool, ::Bool, ::Base.Iterators.Pairs{Symbol,Bool,Tuple{Symbol},NamedTuple{(:default_set,),Tuple{Bool}}}, ::typeof(DiffEqBase.__init), ::ODEProblem{Float64,Tuple{Float64,Float64},true,Nothing,ODEFunction{true,getfield(Main, Symbol(\"#f#5\")){getfield(Main, Symbol(\"#gen_p#4\"))},LinearAlgebra.UniformScaling{Bool},Nothing,Nothing,Nothing,Nothing,Nothing,Nothing,Nothing,Nothing},Nothing,DiffEqBase.StandardODEProblem}, ::CompositeAlgorithm{Tuple{Tsit5,Rosenbrock23{0,false,LinSolveFactorize{typeof(LinearAlgebra.lu!)},DataType}},AutoSwitch{Tsit5,Rosenbrock23{0,false,LinSolveFactorize{typeof(LinearAlgebra.lu!)},DataType},Rational{Int64},Float64}}, ::Array{Any,1}, ::Array{Any,1}, ::Array{Any,1}, ::Type{Val{true}}) at /home/infvie/.julia/packages/OrdinaryDiffEq/6mZB8/src/solve.jl:220",
      " [6] (::getfield(DiffEqBase, Symbol(\"#kw##__init\")))(::NamedTuple{(:default_set,),Tuple{Bool}}, ::typeof(DiffEqBase.__init), ::ODEProblem{Float64,Tuple{Float64,Float64},true,Nothing,ODEFunction{true,getfield(Main, Symbol(\"#f#5\")){getfield(Main, Symbol(\"#gen_p#4\"))},LinearAlgebra.UniformScaling{Bool},Nothing,Nothing,Nothing,Nothing,Nothing,Nothing,Nothing,Nothing},Nothing,DiffEqBase.StandardODEProblem}, ::CompositeAlgorithm{Tuple{Tsit5,Rosenbrock23{0,false,LinSolveFactorize{typeof(LinearAlgebra.lu!)},DataType}},AutoSwitch{Tsit5,Rosenbrock23{0,false,LinSolveFactorize{typeof(LinearAlgebra.lu!)},DataType},Rational{Int64},Float64}}, ::Array{Any,1}, ::Array{Any,1}, ::Array{Any,1}, ::Type{Val{true}}) at ./none:0",
      " [7] #__solve#478(::Base.Iterators.Pairs{Symbol,Bool,Tuple{Symbol},NamedTuple{(:default_set,),Tuple{Bool}}}, ::Function, ::ODEProblem{Float64,Tuple{Float64,Float64},true,Nothing,ODEFunction{true,getfield(Main, Symbol(\"#f#5\")){getfield(Main, Symbol(\"#gen_p#4\"))},LinearAlgebra.UniformScaling{Bool},Nothing,Nothing,Nothing,Nothing,Nothing,Nothing,Nothing,Nothing},Nothing,DiffEqBase.StandardODEProblem}, ::CompositeAlgorithm{Tuple{Tsit5,Rosenbrock23{0,false,LinSolveFactorize{typeof(LinearAlgebra.lu!)},DataType}},AutoSwitch{Tsit5,Rosenbrock23{0,false,LinSolveFactorize{typeof(LinearAlgebra.lu!)},DataType},Rational{Int64},Float64}}, ::Array{Any,1}, ::Array{Any,1}, ::Array{Any,1}, ::Type{Val{true}}) at /home/infvie/.julia/packages/OrdinaryDiffEq/6mZB8/src/solve.jl:6",
      " [8] (::getfield(DiffEqBase, Symbol(\"#kw##__solve\")))(::NamedTuple{(:default_set,),Tuple{Bool}}, ::typeof(DiffEqBase.__solve), ::ODEProblem{Float64,Tuple{Float64,Float64},true,Nothing,ODEFunction{true,getfield(Main, Symbol(\"#f#5\")){getfield(Main, Symbol(\"#gen_p#4\"))},LinearAlgebra.UniformScaling{Bool},Nothing,Nothing,Nothing,Nothing,Nothing,Nothing,Nothing,Nothing},Nothing,DiffEqBase.StandardODEProblem}, ::CompositeAlgorithm{Tuple{Tsit5,Rosenbrock23{0,false,LinSolveFactorize{typeof(LinearAlgebra.lu!)},DataType}},AutoSwitch{Tsit5,Rosenbrock23{0,false,LinSolveFactorize{typeof(LinearAlgebra.lu!)},DataType},Rational{Int64},Float64}}, ::Array{Any,1}, ::Array{Any,1}, ::Array{Any,1}, ::Type{Val{true}}) at ./none:0 (repeats 5 times)",
      " [9] #__solve#2(::Bool, ::Base.Iterators.Pairs{Union{},Union{},Tuple{},NamedTuple{(),Tuple{}}}, ::Function, ::ODEProblem{Float64,Tuple{Float64,Float64},true,Nothing,ODEFunction{true,getfield(Main, Symbol(\"#f#5\")){getfield(Main, Symbol(\"#gen_p#4\"))},LinearAlgebra.UniformScaling{Bool},Nothing,Nothing,Nothing,Nothing,Nothing,Nothing,Nothing,Nothing},Nothing,DiffEqBase.StandardODEProblem}, ::Nothing) at /home/infvie/.julia/packages/DifferentialEquations/88DSk/src/default_solve.jl:15",
      " [10] #__solve at ./none:0 [inlined]",
      " [11] #__solve#1 at /home/infvie/.julia/packages/DifferentialEquations/88DSk/src/default_solve.jl:5 [inlined]",
      " [12] __solve at /home/infvie/.julia/packages/DifferentialEquations/88DSk/src/default_solve.jl:2 [inlined]",
      " [13] #solve#425 at /home/infvie/.julia/packages/DiffEqBase/PvfXM/src/solve.jl:41 [inlined]",
      " [14] solve at /home/infvie/.julia/packages/DiffEqBase/PvfXM/src/solve.jl:27 [inlined]",
      " [15] overdub(::Cassette.Context{nametype(typCtx),Nothing,Nothing,getfield(Cassette, Symbol(\"##PassType#363\")),Nothing,Nothing}, ::typeof(solve), ::ODEProblem{Float64,Tuple{Float64,Float64},true,Nothing,ODEFunction{true,getfield(Main, Symbol(\"#f#5\")){getfield(Main, Symbol(\"#gen_p#4\"))},LinearAlgebra.UniformScaling{Bool},Nothing,Nothing,Nothing,Nothing,Nothing,Nothing,Nothing,Nothing},Nothing,DiffEqBase.StandardODEProblem}) at ./In[2]:33",
      " [16] recurse(::Cassette.Context{nametype(typCtx),Nothing,Nothing,getfield(Cassette, Symbol(\"##PassType#363\")),Nothing,Nothing}, ::typeof(test_main)) at ./In[3]:13",
      " [17] overdub(::Cassette.Context{nametype(typCtx),Nothing,Nothing,getfield(Cassette, Symbol(\"##PassType#363\")),Nothing,Nothing}, ::Function) at ./In[2]:9",
      " [18] top-level scope at In[4]:1"
     ]
    }
   ],
   "source": [
    "Cassette.overdub(typCtx(),test_main)"
   ]
  },
  {
   "cell_type": "code",
   "execution_count": 8,
   "metadata": {},
   "outputs": [
    {
     "ename": "MethodError",
     "evalue": "MethodError: no method matching similar(::Float64)\nClosest candidates are:\n  similar(!Matched::ZMQ.Message, !Matched::Type{T}, !Matched::Tuple{Vararg{Int64,N}} where N) where T at /home/infvie/.julia/packages/ZMQ/ABGOx/src/message.jl:93\n  similar(!Matched::DataStructures.IntSet) at deprecated.jl:53\n  similar(!Matched::Sundials.NVector) at /home/infvie/.julia/packages/Sundials/KYRgQ/src/nvector_wrapper.jl:69\n  ...",
     "output_type": "error",
     "traceback": [
      "MethodError: no method matching similar(::Float64)\nClosest candidates are:\n  similar(!Matched::ZMQ.Message, !Matched::Type{T}, !Matched::Tuple{Vararg{Int64,N}} where N) where T at /home/infvie/.julia/packages/ZMQ/ABGOx/src/message.jl:93\n  similar(!Matched::DataStructures.IntSet) at deprecated.jl:53\n  similar(!Matched::Sundials.NVector) at /home/infvie/.julia/packages/Sundials/KYRgQ/src/nvector_wrapper.jl:69\n  ...",
      "",
      "Stacktrace:",
      " [1] alg_cache(::Tsit5, ::Float64, ::Float64, ::DataType, ::DataType, ::DataType, ::Float64, ::Float64, ::ODEFunction{true,typeof(f),LinearAlgebra.UniformScaling{Bool},Nothing,Nothing,Nothing,Nothing,Nothing,Nothing,Nothing,Nothing}, ::Float64, ::Float64, ::Float64, ::Nothing, ::Bool, ::Type{Val{true}}) at /home/infvie/.julia/packages/OrdinaryDiffEq/6mZB8/src/caches/low_order_rk_caches.jl:410",
      " [2] (::getfield(OrdinaryDiffEq, Symbol(\"##93#94\")){true,Float64,Float64,DataType,DataType,DataType,Float64,Float64,ODEFunction{true,typeof(f),LinearAlgebra.UniformScaling{Bool},Nothing,Nothing,Nothing,Nothing,Nothing,Nothing,Nothing,Nothing},Float64,Float64,Float64,Nothing,Bool})(::Tsit5) at /home/infvie/.julia/packages/OrdinaryDiffEq/6mZB8/src/caches/basic_caches.jl:14",
      " [3] map(::getfield(OrdinaryDiffEq, Symbol(\"##93#94\")){true,Float64,Float64,DataType,DataType,DataType,Float64,Float64,ODEFunction{true,typeof(f),LinearAlgebra.UniformScaling{Bool},Nothing,Nothing,Nothing,Nothing,Nothing,Nothing,Nothing,Nothing},Float64,Float64,Float64,Nothing,Bool}, ::Tuple{Tsit5,Rosenbrock23{0,false,LinSolveFactorize{typeof(LinearAlgebra.lu!)},DataType}}) at ./tuple.jl:163",
      " [4] alg_cache(::CompositeAlgorithm{Tuple{Tsit5,Rosenbrock23{0,false,LinSolveFactorize{typeof(LinearAlgebra.lu!)},DataType}},AutoSwitch{Tsit5,Rosenbrock23{0,false,LinSolveFactorize{typeof(LinearAlgebra.lu!)},DataType},Rational{Int64},Float64}}, ::Float64, ::Float64, ::Type, ::Type, ::Type, ::Float64, ::Float64, ::ODEFunction{true,typeof(f),LinearAlgebra.UniformScaling{Bool},Nothing,Nothing,Nothing,Nothing,Nothing,Nothing,Nothing,Nothing}, ::Float64, ::Float64, ::Float64, ::Nothing, ::Bool, ::Type{Val{true}}) at /home/infvie/.julia/packages/OrdinaryDiffEq/6mZB8/src/caches/basic_caches.jl:14",
      " [5] #__init#479(::Array{Float64,1}, ::Array{Float64,1}, ::Array{Float64,1}, ::Nothing, ::Bool, ::Nothing, ::Bool, ::Bool, ::Bool, ::Nothing, ::Bool, ::Bool, ::Float64, ::Bool, ::Rational{Int64}, ::Nothing, ::Nothing, ::Int64, ::Rational{Int64}, ::Int64, ::Int64, ::Rational{Int64}, ::Bool, ::Int64, ::Nothing, ::Nothing, ::Int64, ::Float64, ::Float64, ::typeof(DiffEqBase.ODE_DEFAULT_NORM), ::typeof(LinearAlgebra.opnorm), ::typeof(DiffEqBase.ODE_DEFAULT_ISOUTOFDOMAIN), ::typeof(DiffEqBase.ODE_DEFAULT_UNSTABLE_CHECK), ::Bool, ::Bool, ::Bool, ::Bool, ::Bool, ::Bool, ::Bool, ::Bool, ::Int64, ::String, ::typeof(DiffEqBase.ODE_DEFAULT_PROG_MESSAGE), ::Nothing, ::Bool, ::Bool, ::Base.Iterators.Pairs{Symbol,Bool,Tuple{Symbol},NamedTuple{(:default_set,),Tuple{Bool}}}, ::typeof(DiffEqBase.__init), ::ODEProblem{Float64,Tuple{Float64,Float64},true,Nothing,ODEFunction{true,typeof(f),LinearAlgebra.UniformScaling{Bool},Nothing,Nothing,Nothing,Nothing,Nothing,Nothing,Nothing,Nothing},Nothing,DiffEqBase.StandardODEProblem}, ::CompositeAlgorithm{Tuple{Tsit5,Rosenbrock23{0,false,LinSolveFactorize{typeof(LinearAlgebra.lu!)},DataType}},AutoSwitch{Tsit5,Rosenbrock23{0,false,LinSolveFactorize{typeof(LinearAlgebra.lu!)},DataType},Rational{Int64},Float64}}, ::Array{Any,1}, ::Array{Any,1}, ::Array{Any,1}, ::Type{Val{true}}) at /home/infvie/.julia/packages/OrdinaryDiffEq/6mZB8/src/solve.jl:220",
      " [6] (::getfield(DiffEqBase, Symbol(\"#kw##__init\")))(::NamedTuple{(:default_set,),Tuple{Bool}}, ::typeof(DiffEqBase.__init), ::ODEProblem{Float64,Tuple{Float64,Float64},true,Nothing,ODEFunction{true,typeof(f),LinearAlgebra.UniformScaling{Bool},Nothing,Nothing,Nothing,Nothing,Nothing,Nothing,Nothing,Nothing},Nothing,DiffEqBase.StandardODEProblem}, ::CompositeAlgorithm{Tuple{Tsit5,Rosenbrock23{0,false,LinSolveFactorize{typeof(LinearAlgebra.lu!)},DataType}},AutoSwitch{Tsit5,Rosenbrock23{0,false,LinSolveFactorize{typeof(LinearAlgebra.lu!)},DataType},Rational{Int64},Float64}}, ::Array{Any,1}, ::Array{Any,1}, ::Array{Any,1}, ::Type{Val{true}}) at ./none:0",
      " [7] #__solve#478(::Base.Iterators.Pairs{Symbol,Bool,Tuple{Symbol},NamedTuple{(:default_set,),Tuple{Bool}}}, ::Function, ::ODEProblem{Float64,Tuple{Float64,Float64},true,Nothing,ODEFunction{true,typeof(f),LinearAlgebra.UniformScaling{Bool},Nothing,Nothing,Nothing,Nothing,Nothing,Nothing,Nothing,Nothing},Nothing,DiffEqBase.StandardODEProblem}, ::CompositeAlgorithm{Tuple{Tsit5,Rosenbrock23{0,false,LinSolveFactorize{typeof(LinearAlgebra.lu!)},DataType}},AutoSwitch{Tsit5,Rosenbrock23{0,false,LinSolveFactorize{typeof(LinearAlgebra.lu!)},DataType},Rational{Int64},Float64}}, ::Array{Any,1}, ::Array{Any,1}, ::Array{Any,1}, ::Type{Val{true}}) at /home/infvie/.julia/packages/OrdinaryDiffEq/6mZB8/src/solve.jl:6",
      " [8] (::getfield(DiffEqBase, Symbol(\"#kw##__solve\")))(::NamedTuple{(:default_set,),Tuple{Bool}}, ::typeof(DiffEqBase.__solve), ::ODEProblem{Float64,Tuple{Float64,Float64},true,Nothing,ODEFunction{true,typeof(f),LinearAlgebra.UniformScaling{Bool},Nothing,Nothing,Nothing,Nothing,Nothing,Nothing,Nothing,Nothing},Nothing,DiffEqBase.StandardODEProblem}, ::CompositeAlgorithm{Tuple{Tsit5,Rosenbrock23{0,false,LinSolveFactorize{typeof(LinearAlgebra.lu!)},DataType}},AutoSwitch{Tsit5,Rosenbrock23{0,false,LinSolveFactorize{typeof(LinearAlgebra.lu!)},DataType},Rational{Int64},Float64}}, ::Array{Any,1}, ::Array{Any,1}, ::Array{Any,1}, ::Type{Val{true}}) at ./none:0 (repeats 5 times)",
      " [9] #__solve#2(::Bool, ::Base.Iterators.Pairs{Union{},Union{},Tuple{},NamedTuple{(),Tuple{}}}, ::Function, ::ODEProblem{Float64,Tuple{Float64,Float64},true,Nothing,ODEFunction{true,typeof(f),LinearAlgebra.UniformScaling{Bool},Nothing,Nothing,Nothing,Nothing,Nothing,Nothing,Nothing,Nothing},Nothing,DiffEqBase.StandardODEProblem}, ::Nothing) at /home/infvie/.julia/packages/DifferentialEquations/88DSk/src/default_solve.jl:15",
      " [10] #__solve at ./none:0 [inlined]",
      " [11] #__solve#1 at /home/infvie/.julia/packages/DifferentialEquations/88DSk/src/default_solve.jl:5 [inlined]",
      " [12] __solve at /home/infvie/.julia/packages/DifferentialEquations/88DSk/src/default_solve.jl:2 [inlined]",
      " [13] #solve#425 at /home/infvie/.julia/packages/DiffEqBase/PvfXM/src/solve.jl:41 [inlined]",
      " [14] solve(::ODEProblem{Float64,Tuple{Float64,Float64},true,Nothing,ODEFunction{true,typeof(f),LinearAlgebra.UniformScaling{Bool},Nothing,Nothing,Nothing,Nothing,Nothing,Nothing,Nothing,Nothing},Nothing,DiffEqBase.StandardODEProblem}) at /home/infvie/.julia/packages/DiffEqBase/PvfXM/src/solve.jl:27",
      " [15] top-level scope at In[8]:10"
     ]
    }
   ],
   "source": [
    "gen_p() = rand()\n",
    "\n",
    "function f(du,u,p,t)\n",
    "    du = p*u + exp(gen_p())\n",
    "end\n",
    "\n",
    "u0 = 1/2\n",
    "tspan = (0.0,1.0)\n",
    "prob = ODEProblem(f,u0,tspan)\n",
    "sol = solve(prob)"
   ]
  },
  {
   "cell_type": "code",
   "execution_count": null,
   "metadata": {},
   "outputs": [],
   "source": []
  }
 ],
 "metadata": {
  "kernelspec": {
   "display_name": "Julia 1.0.3",
   "language": "julia",
   "name": "julia-1.0"
  },
  "language_info": {
   "file_extension": ".jl",
   "mimetype": "application/julia",
   "name": "julia",
   "version": "1.0.3"
  }
 },
 "nbformat": 4,
 "nbformat_minor": 2
}
