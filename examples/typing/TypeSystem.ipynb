{
 "cells": [
  {
   "cell_type": "markdown",
   "metadata": {},
   "source": [
    "# TypeCtx SRC\n",
    "We will first take a script and add the Cassette logic to get the information from the stack trace."
   ]
  },
  {
   "cell_type": "code",
   "execution_count": 1,
   "metadata": {},
   "outputs": [],
   "source": [
    "using Cassette;\n",
    "using DifferentialEquations: ODEProblem, solve"
   ]
  },
  {
   "cell_type": "code",
   "execution_count": 2,
   "metadata": {},
   "outputs": [
    {
     "data": {
      "text/plain": [
       "main (generic function with 1 method)"
      ]
     },
     "execution_count": 2,
     "metadata": {},
     "output_type": "execute_result"
    }
   ],
   "source": [
    "function main()\n",
    "    \n",
    "    # define our ode\n",
    "    function sir_ode(du, u, p, t)  \n",
    "        #Infected per-Capita Rate\n",
    "        β = p[1]\n",
    "        #Recover per-capita rate\n",
    "        γ = p[2]\n",
    "        #Susceptible Individuals\n",
    "        S = u[1]\n",
    "        #Infected by Infected Individuals\n",
    "        I = u[2]\n",
    "\n",
    "        du[1] = -β * S * I\n",
    "        du[2] = β * S * I - γ * I\n",
    "        du[3] = γ * I\n",
    "    end\n",
    "\n",
    "    #Pram = (Infected Per Capita Rate, Recover Per Capita Rate)\n",
    "    pram = [0.1,0.05]\n",
    "    #Initial Prams = (Susceptible Individuals, Infected by Infected Individuals)\n",
    "    init = [0.99,0.01,0.0]\n",
    "    tspan = (0.0,200.0)\n",
    "    \n",
    "    # create a var to our problem\n",
    "    sir_prob = ODEProblem(sir_ode, init, tspan, pram)\n",
    "    solution = solve(sir_prob)\n",
    "    \n",
    "end"
   ]
  },
  {
   "cell_type": "code",
   "execution_count": 2,
   "metadata": {},
   "outputs": [],
   "source": [
    "mutable struct FCollector{I,F,C}\n",
    "    depth::I\n",
    "    frame::F\n",
    "    data::Vector{C}\n",
    "end"
   ]
  },
  {
   "cell_type": "code",
   "execution_count": 3,
   "metadata": {},
   "outputs": [
    {
     "data": {
      "text/plain": [
       "FCollector"
      ]
     },
     "execution_count": 3,
     "metadata": {},
     "output_type": "execute_result"
    }
   ],
   "source": [
    "function FCollector(d::Int, f)\n",
    "    FCollector(d, f, FCollector[])\n",
    "end"
   ]
  },
  {
   "cell_type": "code",
   "execution_count": 4,
   "metadata": {},
   "outputs": [
    {
     "data": {
      "text/plain": [
       "Frame"
      ]
     },
     "execution_count": 4,
     "metadata": {},
     "output_type": "execute_result"
    }
   ],
   "source": [
    "\"\"\" \n",
    "Frame(func, args, ret, subtrace)\n",
    "\n",
    "a structure to hold metadata for recursive type information\n",
    "\"\"\"\n",
    "mutable struct Frame{F,T,U}\n",
    "    func::F\n",
    "    args::T\n",
    "    ret::U\n",
    "end"
   ]
  },
  {
   "cell_type": "code",
   "execution_count": 5,
   "metadata": {},
   "outputs": [],
   "source": [
    "# user \n",
    "Cassette.@context TypeCtx;"
   ]
  },
  {
   "cell_type": "code",
   "execution_count": 15,
   "metadata": {},
   "outputs": [
    {
     "data": {
      "text/plain": [
       "FCollector{Int64,Frame{Nothing,Tuple{},Nothing},FCollector}(3, Frame{Nothing,Tuple{},Nothing}(nothing, (), nothing), FCollector[])"
      ]
     },
     "execution_count": 15,
     "metadata": {},
     "output_type": "execute_result"
    }
   ],
   "source": [
    "# user\n",
    "maxdepth =3\n",
    "extractor = FCollector(maxdepth, Frame(nothing, (), nothing,))"
   ]
  },
  {
   "cell_type": "code",
   "execution_count": 16,
   "metadata": {},
   "outputs": [],
   "source": [
    "ctx = TypeCtx(metadata = extractor);"
   ]
  },
  {
   "cell_type": "code",
   "execution_count": 8,
   "metadata": {},
   "outputs": [],
   "source": [
    "# add boilerplate for functionality\n",
    "function Cassette.overdub(ctx::TypeCtx, f, args...)\n",
    "    c = FCollector(ctx.metadata.depth-1, Frame(f, args, Any))\n",
    "    push!(ctx.metadata.data, c)\n",
    "    if c.depth > 0 && Cassette.canrecurse(ctx, f, args...)\n",
    "        newctx = Cassette.similarcontext(ctx, metadata = c)\n",
    "        z = Cassette.recurse(newctx, f, args...)\n",
    "        c.frame.ret = typeof(z)\n",
    "        return z\n",
    "    else\n",
    "        z = Cassette.fallback(ctx, f, args...)\n",
    "        c.frame.ret = typeof(z)\n",
    "        return z\n",
    "    end\n",
    "end"
   ]
  },
  {
   "cell_type": "code",
   "execution_count": 9,
   "metadata": {},
   "outputs": [],
   "source": [
    "Cassette.canrecurse(ctx::TypeCtx,::typeof(ODEProblem), args...) = false\n",
    "Cassette.canrecurse(ctx::TypeCtx,::typeof(Base.vect), args...) = false\n",
    "Cassette.canrecurse(ctx::TypeCtx,::typeof(FCollector)) = false\n",
    "Cassette.canrecurse(ctx::TypeCtx,::typeof(Frame)) = false"
   ]
  },
  {
   "cell_type": "code",
   "execution_count": 17,
   "metadata": {},
   "outputs": [
    {
     "data": {
      "text/plain": [
       "retcode: Success\n",
       "Interpolation: 1st order linear\n",
       "t: 2001-element Array{Float64,1}:\n",
       "   0.0\n",
       "   0.1\n",
       "   0.2\n",
       "   0.3\n",
       "   0.4\n",
       "   0.5\n",
       "   0.6\n",
       "   0.7\n",
       "   0.8\n",
       "   0.9\n",
       "   1.0\n",
       "   1.1\n",
       "   1.2\n",
       "   ⋮  \n",
       " 198.9\n",
       " 199.0\n",
       " 199.1\n",
       " 199.2\n",
       " 199.3\n",
       " 199.4\n",
       " 199.5\n",
       " 199.6\n",
       " 199.7\n",
       " 199.8\n",
       " 199.9\n",
       " 200.0\n",
       "u: 2001-element Array{Array{Float64,1},1}:\n",
       " [0.99, 0.01, 0.0]                 \n",
       " [0.989901, 0.0100491, 5.01227e-5] \n",
       " [0.989801, 0.0100985, 0.000100492]\n",
       " [0.989701, 0.010148, 0.000151108] \n",
       " [0.9896, 0.0101979, 0.000201972]  \n",
       " [0.989499, 0.0102479, 0.000253087]\n",
       " [0.989397, 0.0102982, 0.000304452]\n",
       " [0.989295, 0.0103487, 0.000356069]\n",
       " [0.989193, 0.0103995, 0.000407939]\n",
       " [0.989089, 0.0104504, 0.000460064]\n",
       " [0.988986, 0.0105017, 0.000512444]\n",
       " [0.988882, 0.0105531, 0.000565081]\n",
       " [0.988777, 0.0106049, 0.000617976]\n",
       " ⋮                                 \n",
       " [0.21018, 0.0149422, 0.774878]    \n",
       " [0.210148, 0.014899, 0.774953]    \n",
       " [0.210117, 0.0148558, 0.775027]   \n",
       " [0.210086, 0.0148128, 0.775101]   \n",
       " [0.210055, 0.01477, 0.775175]     \n",
       " [0.210024, 0.0147272, 0.775249]   \n",
       " [0.209993, 0.0146845, 0.775322]   \n",
       " [0.209962, 0.014642, 0.775396]    \n",
       " [0.209932, 0.0145996, 0.775469]   \n",
       " [0.209901, 0.0145573, 0.775542]   \n",
       " [0.209871, 0.0145151, 0.775614]   \n",
       " [0.20984, 0.0144731, 0.775687]    "
      ]
     },
     "execution_count": 17,
     "metadata": {},
     "output_type": "execute_result"
    }
   ],
   "source": [
    "Cassette.overdub(ctx,main)"
   ]
  },
  {
   "cell_type": "code",
   "execution_count": 19,
   "metadata": {},
   "outputs": [],
   "source": [
    "Cassette.overdub(ctx,main);"
   ]
  },
  {
   "cell_type": "code",
   "execution_count": 7,
   "metadata": {},
   "outputs": [],
   "source": [
    "using LightGraphs;\n",
    "using MetaGraphs;"
   ]
  },
  {
   "cell_type": "code",
   "execution_count": 13,
   "metadata": {},
   "outputs": [
    {
     "data": {
      "text/plain": [
       "build_graph (generic function with 1 method)"
      ]
     },
     "execution_count": 13,
     "metadata": {},
     "output_type": "execute_result"
    }
   ],
   "source": [
    "g = MetaDiGraph()\n",
    "function build_graph(collector::FCollector)\n",
    "    add_vertex!(g,:name,collector.frame.args)\n",
    "    add_vertex!(g,:name,collector.frame.ret)\n",
    "    add_edge!(g,nv(g)-1,nv(g),:name,collector.frame.func)\n",
    "    for frame in collector.data\n",
    "        build_graph(frame)\n",
    "    end\n",
    "    return g\n",
    "end"
   ]
  },
  {
   "cell_type": "code",
   "execution_count": 14,
   "metadata": {},
   "outputs": [
    {
     "data": {
      "text/plain": [
       "{8, 4} directed Int64 metagraph with Float64 weights defined by :weight (default weight 1.0)"
      ]
     },
     "execution_count": 14,
     "metadata": {},
     "output_type": "execute_result"
    }
   ],
   "source": [
    "build_graph(extractor)"
   ]
  },
  {
   "cell_type": "code",
   "execution_count": null,
   "metadata": {},
   "outputs": [
    {
     "name": "stderr",
     "output_type": "stream",
     "text": [
      "┌ Info: Recompiling stale cache file /home/infvie/.julia/compiled/v1.0/SemanticModels/0ZHVR.ji for SemanticModels [88974b6f-63f0-5f7a-882c-b779d2960b8e]\n",
      "└ @ Base loading.jl:1190\n"
     ]
    }
   ],
   "source": [
    "using Cassette\n",
    "using SemanticModels.Parsers\n",
    "Cassette.@context TypeCtx\n",
    "            \n",
    "\"\"\"   TypeCtx\n",
    "\n",
    "creates a MetaDiGraph tracking the types of args and ret values throughout a script\n",
    "\n",
    "\"\"\"\n",
    "TypeCtx\n",
    "            \n",
    "            \n",
    "\n",
    "\"\"\"   FCollector(depth::Int,frame::function,data::FCollector)\n",
    "\n",
    "struct to collect all the \"frames\" called throughout a script\n",
    "        \n",
    "\"\"\"\n",
    "mutable struct FCollector{I,F,C}\n",
    "    depth::I\n",
    "    frame::F\n",
    "    data::Vector{C}\n",
    "end\n",
    "            \n",
    "\n",
    "\n",
    "\"\"\"   FCollector(depth::Int,frame::Frame)\n",
    "\n",
    "this is an initialization funtion for the FCollector\n",
    "\n",
    "\"\"\"\n",
    "function FCollector(d::Int, f)\n",
    "    FCollector(d, f, FCollector[])\n",
    "end\n",
    "\n",
    "\"\"\" Frame(func, args, ret, subtrace)\n",
    "\n",
    "a structure to hold metadata for recursive type information for each function call\n",
    "Every frame can be thought of as a single stack frame when a function is called\n",
    "            \n",
    "\"\"\"\n",
    "mutable struct Frame{F,T,U}\n",
    "    func::F\n",
    "    args::T\n",
    "    ret::U\n",
    "end\n",
    "            \n",
    "function Cassette.overdub(ctx::TypeCtx, f, args...) # add boilerplate for functionality\n",
    "    c = FCollector(ctx.metadata.depth-1, Frame(f, args, Any))\n",
    "    push!(ctx.metadata.data, c)\n",
    "    if c.depth > 0 && Cassette.canrecurse(ctx, f, args...)\n",
    "        newctx = Cassette.similarcontext(ctx, metadata = c)\n",
    "        z = Cassette.recurse(newctx, f, args...)\n",
    "        c.frame.ret = typeof(z)\n",
    "        return z\n",
    "    else\n",
    "        z = Cassette.fallback(ctx, f, args...)\n",
    "        c.frame.ret = typeof(z)\n",
    "        return z\n",
    "    end\n",
    "end\n",
    "\n",
    "Cassette.canrecurse(ctx::TypeCtx,::typeof(Base.vect), args...) = false # limit the stacktrace in terms of which to recurse on\n",
    "Cassette.canrecurse(ctx::TypeCtx,::typeof(FCollector)) = false\n",
    "Cassette.canrecurse(ctx::TypeCtx,::typeof(Frame)) = false\n",
    "     \n",
    "\"\"\"    buildgraph\n",
    "\n",
    "internal function used in the typegraphfrompath\n",
    "takes the collector object and returns a metagraph\n",
    "            \n",
    "\"\"\"\n",
    "function buildgraph(g,collector)\n",
    "    try\n",
    "        add_vertex!(g,:name,collector.frame.args)\n",
    "    catch\n",
    "        nothing\n",
    "    end\n",
    "    try\n",
    "        add_vertex!(g,:name,collector.frame.ret)\n",
    "    catch\n",
    "        nothing\n",
    "    end\n",
    "    try\n",
    "        add_edge!(g,g[collector.frame.args,:name],g[collector.frame.ret,:name],:name,collector.frame.func)\n",
    "    catch\n",
    "        nothing\n",
    "    end\n",
    "    for frame in collector.data\n",
    "        buildgraph(g,frame)\n",
    "    end\n",
    "    return g\n",
    "end\n",
    "\n",
    "\"\"\"    typegraph(path::AbstractString,maxdepth::Int)\n",
    "            \n",
    "This is a function that takes in an array of script and produces a MetaDiGraph descibing the system.\n",
    "takes in optional parameter of recursion depth on the stacktrace defaulted to 3\n",
    "\n",
    "\"\"\"\n",
    "function typegraph(path::Module,maxdepth::Int=3)\n",
    "    \n",
    "    extractor = FCollector(maxdepth, Frame(nothing, (), nothing,)) # init the collector object     \n",
    "    ctx = TypeCtx(metadata = extractor);     # init the context we want             \n",
    "    Cassette.overdub(ctx,m.main);    # run the script internally and build the extractor data structure\n",
    "    g = MetaDiGraph()    # crete a graph where we will init our tree\n",
    "    set_indexing_prop!(g,:name)    # we want to set this metagraph to be able to index by the names\n",
    "    return buildgraph(g,extractor)    # pass the collector ds to make the acutal metagraph\n",
    "    \n",
    "end"
   ]
  },
  {
   "cell_type": "markdown",
   "metadata": {},
   "source": [
    "# SRC Evaluation"
   ]
  },
  {
   "cell_type": "code",
   "execution_count": 1,
   "metadata": {},
   "outputs": [
    {
     "name": "stderr",
     "output_type": "stream",
     "text": [
      "┌ Info: Precompiling SemanticModels [88974b6f-63f0-5f7a-882c-b779d2960b8e]\n",
      "└ @ Base loading.jl:1192\n",
      "WARNING: Method definition canrecurse(Cassette.Context{getfield(SemanticModels.Dubstep, Symbol(\"##TypeCtx#Name\")), M, T, P, B, H} where H<:Union{Cassette.DisableHooks, Nothing} where B<:Union{Nothing, Base.IdDict{Module, Base.Dict{Symbol, Cassette.BindingMeta}}} where P<:Cassette.AbstractPass where T<:Union{Nothing, Cassette.Tag{N, X, E} where E where X where N<:Cassette.AbstractContextName} where M, UnionAll) in module Dubstep at /home/infvie/.julia/dev/SemanticModels/src/cassette.jl:197 overwritten at /home/infvie/.julia/dev/SemanticModels/src/cassette.jl:198.\n"
     ]
    },
    {
     "name": "stdout",
     "output_type": "stream",
     "text": [
      "loaded\n"
     ]
    }
   ],
   "source": [
    "using SemanticModels.Dubstep"
   ]
  },
  {
   "cell_type": "code",
   "execution_count": 4,
   "metadata": {},
   "outputs": [
    {
     "data": {
      "text/plain": [
       "16-element Array{String,1}:\n",
       " \"files/.ipynb_checkpoints\"                     \n",
       " \"files/ContinuousTimeSIR.jl\"                   \n",
       " \"files/DiscreteStochErlangEpidModel.jl\"        \n",
       " \"files/DiscreteTimeSIR.jl\"                     \n",
       " \"files/ExactRecursiveExpressions-checkpoint.jl\"\n",
       " \"files/ExactRecursiveExpressions.jl\"           \n",
       " \"files/MacroParasiteModel.jl\"                  \n",
       " \"files/NHosts1Vector.jl\"                       \n",
       " \"files/NHostsMVectors.jl\"                      \n",
       " \"files/OneHostSEIR1Vect.jl\"                    \n",
       " \"files/SEIRmodel.jl\"                           \n",
       " \"files/SIRModel.jl\"                            \n",
       " \"files/SIRSDynamicsLargePopulationsJulia.jl\"   \n",
       " \"files/SISModel.jl\"                            \n",
       " \"files/ScalingModel.jl\"                        \n",
       " \"files/SemiParamSIRJulia.jl\"                   "
      ]
     },
     "execution_count": 4,
     "metadata": {},
     "output_type": "execute_result"
    }
   ],
   "source": [
    "files = [\"files/$file\" for file in readdir(\"./files\")]"
   ]
  },
  {
   "cell_type": "code",
   "execution_count": 2,
   "metadata": {},
   "outputs": [
    {
     "data": {
      "text/plain": [
       "{2, 1} directed Int64 metagraph with Float64 weights defined by :weight (default weight 1.0)"
      ]
     },
     "execution_count": 2,
     "metadata": {},
     "output_type": "execute_result"
    }
   ],
   "source": [
    "typegraph(\"sir.jl\")"
   ]
  },
  {
   "cell_type": "code",
   "execution_count": 17,
   "metadata": {},
   "outputs": [
    {
     "name": "stderr",
     "output_type": "stream",
     "text": [
      "WARNING: replacing module Modeling.\n",
      "WARNING: replacing module Modeling.\n"
     ]
    },
    {
     "data": {
      "text/plain": [
       "{6, 3} directed Int64 metagraph with Float64 weights defined by :weight (default weight 1.0)"
      ]
     },
     "execution_count": 17,
     "metadata": {},
     "output_type": "execute_result"
    }
   ],
   "source": [
    "typegraph(files[3])"
   ]
  },
  {
   "cell_type": "code",
   "execution_count": 18,
   "metadata": {},
   "outputs": [
    {
     "name": "stderr",
     "output_type": "stream",
     "text": [
      "WARNING: replacing module Modeling.\n",
      "WARNING: replacing module Modeling.\n"
     ]
    },
    {
     "data": {
      "text/plain": [
       "{6, 3} directed Int64 metagraph with Float64 weights defined by :weight (default weight 1.0)"
      ]
     },
     "execution_count": 18,
     "metadata": {},
     "output_type": "execute_result"
    }
   ],
   "source": [
    "typegraph(files[4])"
   ]
  },
  {
   "cell_type": "markdown",
   "metadata": {},
   "source": [
    "# Flat linear tests"
   ]
  },
  {
   "cell_type": "code",
   "execution_count": 1,
   "metadata": {},
   "outputs": [
    {
     "data": {
      "text/plain": [
       "typegraph"
      ]
     },
     "execution_count": 1,
     "metadata": {},
     "output_type": "execute_result"
    }
   ],
   "source": [
    "using Cassette\n",
    "using LightGraphs;\n",
    "using MetaGraphs;\n",
    "function parsefile(path, modprefix=\"Modeling\")\n",
    "    s = read(path, String)\n",
    "    try\n",
    "        expr = Meta.parse(s)\n",
    "        return expr\n",
    "    catch\n",
    "        s = \"module $modprefix\\n$s \\nend\"\n",
    "        expr = Meta.parse(s)\n",
    "        return expr\n",
    "    end\n",
    "end\n",
    "\n",
    "Cassette.@context TypeCtx\n",
    "            \n",
    "\"\"\"   TypeCtx\n",
    "\n",
    "creates a MetaDiGraph tracking the types of args and ret values throughout a script\n",
    "\n",
    "\"\"\"\n",
    "TypeCtx\n",
    "            \n",
    "            \n",
    "\n",
    "\"\"\"   FCollector(depth::Int,frame::function,data::FCollector)\n",
    "\n",
    "struct to collect all the \"frames\" called throughout a script\n",
    "        \n",
    "\"\"\"\n",
    "mutable struct FCollector{I,F,C}\n",
    "    depth::I\n",
    "    frame::F\n",
    "    data::Vector{C}\n",
    "end\n",
    "            \n",
    "\n",
    "\n",
    "\"\"\"   FCollector(depth::Int,frame::Frame)\n",
    "\n",
    "this is an initialization funtion for the FCollector\n",
    "\n",
    "\"\"\"\n",
    "function FCollector(d::Int, f)\n",
    "    FCollector(d, f, FCollector[])\n",
    "end\n",
    "\n",
    "\"\"\" Frame(func, args, ret, subtrace)\n",
    "\n",
    "a structure to hold metadata for recursive type information for each function call\n",
    "Every frame can be thought of as a single stack frame when a function is called\n",
    "            \n",
    "\"\"\"\n",
    "mutable struct Frame{F,T,U}\n",
    "    func::F\n",
    "    args::T\n",
    "    ret::U\n",
    "end\n",
    "            \n",
    "function Cassette.overdub(ctx::TypeCtx, f, args...) # add boilerplate for functionality\n",
    "    c = FCollector(ctx.metadata.depth-1, Frame(f, args, Any))\n",
    "    push!(ctx.metadata.data, c)\n",
    "    if c.depth > 0 && Cassette.canrecurse(ctx, f, args...)\n",
    "        newctx = Cassette.similarcontext(ctx, metadata = c)\n",
    "        z = Cassette.recurse(newctx, f, args...)\n",
    "        c.frame.ret = typeof(z)\n",
    "        return z\n",
    "    else\n",
    "        z = Cassette.fallback(ctx, f, args...)\n",
    "        c.frame.ret = typeof(z)\n",
    "        return z\n",
    "    end\n",
    "end\n",
    "\n",
    "Cassette.canrecurse(ctx::TypeCtx,::typeof(Base.vect), args...) = false # limit the stacktrace in terms of which to recurse on\n",
    "Cassette.canrecurse(ctx::TypeCtx,::typeof(FCollector)) = false\n",
    "Cassette.canrecurse(ctx::TypeCtx,::typeof(Frame)) = false\n",
    "     \n",
    "\"\"\"    buildgraph\n",
    "\n",
    "internal function used in the typegraphfrompath\n",
    "takes the collector object and returns a metagraph\n",
    "            \n",
    "\"\"\"\n",
    "function buildgraph(g,collector)\n",
    "    try\n",
    "        add_vertex!(g,:name,collector.frame.args)\n",
    "    catch\n",
    "        nothing\n",
    "    end\n",
    "    try\n",
    "        add_vertex!(g,:name,collector.frame.ret)\n",
    "    catch\n",
    "        nothing\n",
    "    end\n",
    "    try\n",
    "        add_edge!(g,g[collector.frame.args,:name],g[collector.frame.ret,:name],:name,collector.frame.func)\n",
    "    catch\n",
    "        nothing\n",
    "    end\n",
    "    for frame in collector.data\n",
    "        buildgraph(g,frame)\n",
    "    end\n",
    "    return g\n",
    "end"
   ]
  },
  {
   "cell_type": "code",
   "execution_count": 2,
   "metadata": {},
   "outputs": [
    {
     "data": {
      "text/plain": [
       "\"sir.jl\""
      ]
     },
     "execution_count": 2,
     "metadata": {},
     "output_type": "execute_result"
    }
   ],
   "source": [
    "path = \"sir.jl\""
   ]
  },
  {
   "cell_type": "code",
   "execution_count": 3,
   "metadata": {},
   "outputs": [
    {
     "name": "stderr",
     "output_type": "stream",
     "text": [
      "WARNING: replacing module test.\n"
     ]
    },
    {
     "data": {
      "text/plain": [
       "{104, 31} directed Int64 metagraph with Float64 weights defined by :weight (default weight 1.0)"
      ]
     },
     "execution_count": 3,
     "metadata": {},
     "output_type": "execute_result"
    }
   ],
   "source": [
    "s = read(path, String)\n",
    "ast = Meta.parse(s)\n",
    "m = eval(ast)\n",
    "Cassette.@context TypeCtx;\n",
    "extractor = FCollector(3, Frame(nothing, (), nothing,)) # init the collector object     \n",
    "ctx = TypeCtx(metadata = extractor);     # init the context we want         \n",
    "ast = parsefile(path)    # this makes the path we are evaling into a mod if it isnt already\n",
    "m = eval(ast)  # compile the funcs - requires main function in script\n",
    "Cassette.overdub(ctx,m.main);    # run the script internally and build the extractor data structure\n",
    "g = MetaDiGraph()    # crete a graph where we will init our tree\n",
    "set_indexing_prop!(g,:name)    # we want to set this metagraph to be able to index by the names\n",
    "buildgraph(g,extractor)    # pass the collector ds to make the acutal metagraph"
   ]
  },
  {
   "cell_type": "markdown",
   "metadata": {},
   "source": [
    "# Memoize"
   ]
  },
  {
   "cell_type": "code",
   "execution_count": 1,
   "metadata": {},
   "outputs": [],
   "source": [
    "using Cassette;\n",
    "using LightGraphs;\n",
    "using MetaGraphs;"
   ]
  },
  {
   "cell_type": "code",
   "execution_count": 15,
   "metadata": {},
   "outputs": [
    {
     "data": {
      "text/plain": [
       "typegraph"
      ]
     },
     "execution_count": 15,
     "metadata": {},
     "output_type": "execute_result"
    }
   ],
   "source": [
    "\n",
    "#---------------------------------------------------------------------------\n",
    "            \n",
    "Cassette.@context TypeCtx\n",
    "            \n",
    "\"\"\"   TypeCtx\n",
    "\n",
    "creates a MetaDiGraph tracking the types of args and ret values throughout a script\n",
    "\n",
    "\"\"\"\n",
    "TypeCtx\n",
    "            \n",
    "            \n",
    "\n",
    "\"\"\"   FCollector(depth::Int,frame::function,data::FCollector)\n",
    "\n",
    "struct to collect all the \"frames\" called throughout a script\n",
    "        \n",
    "\"\"\"\n",
    "mutable struct FCollector{I,F,C}\n",
    "    depth::I\n",
    "    frame::F\n",
    "    data::Vector{C}\n",
    "end\n",
    "            \n",
    "\n",
    "\n",
    "\"\"\"   FCollector(depth::Int,frame::Frame)\n",
    "\n",
    "this is an initialization funtion for the FCollector\n",
    "\n",
    "\"\"\"\n",
    "function FCollector(d::Int, f)\n",
    "    FCollector(d, f, FCollector[])\n",
    "end\n",
    "\n",
    "\"\"\"    Frame(func, args, ret)\n",
    "\n",
    "a structure to hold metadata for recursive type information for each function call\n",
    "Every frame can be thought of as a single stack frame when a function is called\n",
    "            \n",
    "\"\"\"\n",
    "mutable struct Frame{F,T,U}\n",
    "    func::F\n",
    "    args::T\n",
    "    ret::Vector{U}\n",
    "end\n",
    "    \n",
    "\"\"\"    memo_dict((func,typeof.(args))=>ret)   \n",
    "\n",
    "A dictionary that we use to memoize the edge list as we go to save space in the overall collection.\n",
    "\n",
    "\"\"\"\n",
    "memo_dict = Dict()\n",
    "            \n",
    "function Cassette.overdub(ctx::TypeCtx, f, args...) # add boilerplate for functionality\n",
    "    c = FCollector(ctx.metadata.depth-1, Frame(f, typeof.(args), []) )\n",
    "    if !haskey(memo_dict,(f,typeof.(args)))\n",
    "        push!(ctx.metadata.data, c)\n",
    "    end\n",
    "    if c.depth > 0 && Cassette.canrecurse(ctx, f, args...)\n",
    "        newctx = Cassette.similarcontext(ctx, metadata = c)\n",
    "        z = Cassette.recurse(newctx, f, args...)\n",
    "        push!(c.frame.ret, typeof(z))\n",
    "        return z\n",
    "    else\n",
    "        z = Cassette.fallback(ctx, f, args...)\n",
    "        push!(c.frame.ret, typeof(z))\n",
    "        return z\n",
    "    end\n",
    "end\n",
    "\n",
    "Cassette.canrecurse(ctx::Type{TypeCtx},::typeof(Base.vect), args...) = false # limit the stacktrace in terms of which to recurse on\n",
    "Cassette.canrecurse(ctx::Type{TypeCtx},::typeof(FCollector)) = false\n",
    "function Cassette.canrecurse(ctx::TypeCtx,\n",
    "                             f::Union{typeof(+), typeof(*), typeof(/), typeof(-),typeof(Base.iterate),\n",
    "                                      typeof(Base.sum),\n",
    "                                      typeof(Base.mapreduce),\n",
    "                                      typeof(Base.Broadcast.copy),\n",
    "                                      typeof(Base.Broadcast.instantiate),\n",
    "                                      typeof(Base.Math.throw_complex_domainerror),\n",
    "                                      typeof(Base.Broadcast.broadcasted)},\n",
    "                             args...)\n",
    "    return false\n",
    "end\n",
    "                \n",
    "\"\"\"    buildgraph\n",
    "\n",
    "internal function used in the typegraphfrompath\n",
    "takes the collector object and returns a metagraph\n",
    "            \n",
    "\"\"\"\n",
    "function buildgraph(g,collector)\n",
    "    try\n",
    "        g[collector.frame.args,:label]\n",
    "    catch\n",
    "        add_vertex!(g,:label,collector.frame.args)\n",
    "    end\n",
    "\n",
    "    try \n",
    "        g[collector.frame.ret,:label]\n",
    "    catch\n",
    "        add_vertex!(g,:label,collector.frame.ret)\n",
    "    end\n",
    "    \n",
    "    if !has_edge(g,g[collector.frame.args,:label],g[collector.frame.ret,:label])    \n",
    "        add_edge!(g,g[collector.frame.args,:label],g[collector.frame.ret,:label],:label,collector.frame.func)\n",
    "    end\n",
    "                    \n",
    "    for frame in collector.data\n",
    "        buildgraph(g,frame)\n",
    "    end\n",
    "                    \n",
    "    return g\n",
    "end\n",
    "\n",
    "\"\"\"    cleangraph(g::MetaDiGraph)\n",
    "\n",
    "removes the nothings to replace them with strings for outputing an image\n",
    "\"\"\"\n",
    "function cleangraph!(mg::MetaDiGraph)\n",
    "    for vertex in vertices(mg)\n",
    "        if get_prop(mg,vertex,:label) == nothing\n",
    "            set_prop!(mg,vertex,:label,\"missing\")\n",
    "        end\n",
    "    end\n",
    "    \n",
    "    for edge in edges(mg)\n",
    "        if get_prop(mg,edge,:label) == nothing\n",
    "            set_prop!(mg,edge,:label,\"missing\")\n",
    "        end\n",
    "    end\n",
    "end\n",
    "                            \n",
    "\n",
    "\"\"\"    typegraph(path::AbstractString,maxdepth::Int)\n",
    "            \n",
    "This is a function that takes in an array of script and produces a MetaDiGraph descibing the system.\n",
    "takes in optional parameter of recursion depth on the stacktrace defaulted to 3\n",
    "\n",
    "\"\"\"\n",
    "function typegraph(m::Module,maxdepth::Int=3)\n",
    "    \n",
    "    extractor = FCollector(maxdepth, Frame(nothing, (), nothing,)) # init the collector object     \n",
    "    ctx = TypeCtx(metadata = extractor);     # init the context we want             \n",
    "    Cassette.overdub(ctx,m.main);    # run the script internally and build the extractor data structure\n",
    "    g = MetaDiGraph()    # crete a graph where we will init our tree\n",
    "    set_indexing_prop!(g,:label)    # we want to set this metagraph to be able to index by the names\n",
    "    g = buildgraph(g,extractor)    # pass the collector ds to make the acutal metagraph\n",
    "    return cleangraph!(g)\n",
    "    \n",
    "end"
   ]
  },
  {
   "cell_type": "code",
   "execution_count": 5,
   "metadata": {},
   "outputs": [
    {
     "name": "stderr",
     "output_type": "stream",
     "text": [
      "WARNING: replacing module test.\n"
     ]
    }
   ],
   "source": [
    "module test\n",
    "\n",
    "function f(x)\n",
    "    if x > 3 \n",
    "        x *= 6\n",
    "    else\n",
    "        x += 1\n",
    "    end\n",
    "end\n",
    "\n",
    "function g(y)\n",
    "    (f(y)/2)*2\n",
    "end\n",
    "\n",
    "function main()\n",
    "    sum([g(i) for i in 1:100])\n",
    "end\n",
    "    \n",
    "end # mod\n",
    "\n",
    "using Main.test"
   ]
  },
  {
   "cell_type": "code",
   "execution_count": 16,
   "metadata": {},
   "outputs": [
    {
     "data": {
      "text/plain": [
       "30273.0"
      ]
     },
     "execution_count": 16,
     "metadata": {},
     "output_type": "execute_result"
    }
   ],
   "source": [
    "extractor = FCollector(100,Frame(nothing,(),[]))\n",
    "ctx = TypeCtx(metadata=extractor)\n",
    "Cassette.overdub(ctx,Main.test.main)"
   ]
  },
  {
   "cell_type": "code",
   "execution_count": 17,
   "metadata": {},
   "outputs": [
    {
     "data": {
      "text/plain": [
       "FCollector{Int64,Frame{Nothing,Tuple{},Any},FCollector}(100, Frame{Nothing,Tuple{},Any}(nothing, (), Any[]), FCollector[FCollector{Int64,Frame{typeof(main),Tuple{},Any},FCollector}(99, Frame{typeof(main),Tuple{},Any}(main, (), Any[Float64]), FCollector[FCollector{Int64,Frame{Colon,Tuple{DataType,DataType},Any},FCollector}(98, Frame{Colon,Tuple{DataType,DataType},Any}(Colon(), (Int64, Int64), Any[UnitRange{Int64}]), FCollector[FCollector{Int64,Frame{typeof(apply_type),Tuple{DataType,DataType},Any},FCollector}(97, Frame{typeof(apply_type),Tuple{DataType,DataType},Any}(apply_type, (UnionAll, DataType), Any[DataType]), FCollector[]), FCollector{Int64,Frame{DataType,Tuple{DataType,DataType},Any},FCollector}(97, Frame{DataType,Tuple{DataType,DataType},Any}(UnitRange{Int64}, (Int64, Int64), Any[UnitRange{Int64}]), FCollector[FCollector{Int64,Frame{typeof(apply_type),Tuple{DataType,DataType},Any},FCollector}(96, Frame{typeof(apply_type),Tuple{DataType,DataType},Any}(apply_type, (UnionAll, DataType), Any[DataType]), FCollector[]), FCollector{Int64,Frame{typeof(convert),Tuple{DataType,DataType},Any},FCollector}(96, Frame{typeof(convert),Tuple{DataType,DataType},Any}(convert, (DataType, Int64), Any[Int64]), FCollector[]), FCollector{Int64,Frame{typeof(unitrange_last),Tuple{DataType,DataType},Any},FCollector}(96, Frame{typeof(unitrange_last),Tuple{DataType,DataType},Any}(unitrange_last, (Int64, Int64), Any[Int64]), FCollector[FCollector{Int64,Frame{typeof(>=),Tuple{DataType,DataType},Any},FCollector}(95, Frame{typeof(>=),Tuple{DataType,DataType},Any}(>=, (Int64, Int64), Any[Bool]), FCollector[FCollector{Int64,Frame{typeof(<=),Tuple{DataType,DataType},Any},FCollector}(94, Frame{typeof(<=),Tuple{DataType,DataType},Any}(<=, (Int64, Int64), Any[Bool]), FCollector[FCollector{Int64,Frame{IntrinsicFunction,Tuple{DataType,DataType},Any},FCollector}(93, Frame{IntrinsicFunction,Tuple{DataType,DataType},Any}(sle_int, (Int64, Int64), Any[Bool]), FCollector[])])]), FCollector{Int64,Frame{typeof(-),Tuple{DataType,DataType},Any},FCollector}(95, Frame{typeof(-),Tuple{DataType,DataType},Any}(-, (Int64, Int64), Any[Int64]), FCollector[]), FCollector{Int64,Frame{typeof(oneunit),Tuple{DataType},Any},FCollector}(95, Frame{typeof(oneunit),Tuple{DataType},Any}(oneunit, (Int64,), Any[Int64]), FCollector[FCollector{Int64,Frame{typeof(one),Tuple{DataType},Any},FCollector}(94, Frame{typeof(one),Tuple{DataType},Any}(one, (Int64,), Any[Int64]), FCollector[FCollector{Int64,Frame{typeof(one),Tuple{DataType},Any},FCollector}(93, Frame{typeof(one),Tuple{DataType},Any}(one, (DataType,), Any[Int64]), FCollector[FCollector{Int64,Frame{typeof(convert),Tuple{DataType,DataType},Any},FCollector}(92, Frame{typeof(convert),Tuple{DataType,DataType},Any}(convert, (DataType, Int64), Any[Int64]), FCollector[])])]), FCollector{Int64,Frame{DataType,Tuple{DataType},Any},FCollector}(94, Frame{DataType,Tuple{DataType},Any}(Int64, (Int64,), Any[Int64]), FCollector[FCollector{Int64,Frame{typeof(toInt64),Tuple{DataType},Any},FCollector}(93, Frame{typeof(toInt64),Tuple{DataType},Any}(toInt64, (Int64,), Any[Int64]), FCollector[]), FCollector{Int64,Frame{typeof(typeassert),Tuple{DataType,DataType},Any},FCollector}(93, Frame{typeof(typeassert),Tuple{DataType,DataType},Any}(typeassert, (Int64, DataType), Any[Int64]), FCollector[])])]), FCollector{Int64,Frame{typeof(-),Tuple{DataType,DataType},Any},FCollector}(95, Frame{typeof(-),Tuple{DataType,DataType},Any}(-, (Int64, Int64), Any[Int64]), FCollector[]), FCollector{Int64,Frame{typeof(convert),Tuple{DataType,DataType},Any},FCollector}(95, Frame{typeof(convert),Tuple{DataType,DataType},Any}(convert, (DataType, Int64), Any[Int64]), FCollector[]), FCollector{Int64,Frame{typeof(ifelse),Tuple{DataType,DataType,DataType},Any},FCollector}(95, Frame{typeof(ifelse),Tuple{DataType,DataType,DataType},Any}(ifelse, (Bool, Int64, Int64), Any[Int64]), FCollector[])]), FCollector{Int64,Frame{typeof(convert),Tuple{DataType,DataType},Any},FCollector}(96, Frame{typeof(convert),Tuple{DataType,DataType},Any}(convert, (DataType, Int64), Any[Int64]), FCollector[])])]), FCollector{Int64,Frame{UnionAll,Tuple{DataType,DataType},Any},FCollector}(98, Frame{UnionAll,Tuple{DataType,DataType},Any}(Generator, (typeof(g), UnitRange{Int64}), Any[Generator{UnitRange{Int64},typeof(g)}]), FCollector[FCollector{Int64,Frame{typeof(apply_type),Tuple{DataType,DataType,DataType},Any},FCollector}(97, Frame{typeof(apply_type),Tuple{DataType,DataType,DataType},Any}(apply_type, (UnionAll, DataType, DataType), Any[DataType]), FCollector[]), FCollector{Int64,Frame{DataType,Tuple{DataType,DataType},Any},FCollector}(97, Frame{DataType,Tuple{DataType,DataType},Any}(Generator{UnitRange{Int64},typeof(g)}, (typeof(g), UnitRange{Int64}), Any[Generator{UnitRange{Int64},typeof(g)}]), FCollector[FCollector{Int64,Frame{typeof(apply_type),Tuple{DataType,DataType,DataType},Any},FCollector}(96, Frame{typeof(apply_type),Tuple{DataType,DataType,DataType},Any}(apply_type, (UnionAll, DataType, DataType), Any[DataType]), FCollector[]), FCollector{Int64,Frame{typeof(convert),Tuple{DataType,DataType},Any},FCollector}(96, Frame{typeof(convert),Tuple{DataType,DataType},Any}(convert, (DataType, typeof(g)), Any[typeof(g)]), FCollector[]), FCollector{Int64,Frame{typeof(convert),Tuple{DataType,DataType},Any},FCollector}(96, Frame{typeof(convert),Tuple{DataType,DataType},Any}(convert, (DataType, UnitRange{Int64}), Any[UnitRange{Int64}]), FCollector[FCollector{Int64,Frame{typeof(isa),Tuple{DataType,DataType},Any},FCollector}(95, Frame{typeof(isa),Tuple{DataType,DataType},Any}(isa, (UnitRange{Int64}, DataType), Any[Bool]), FCollector[])])])]), FCollector{Int64,Frame{typeof(collect),Tuple{DataType},Any},FCollector}(98, Frame{typeof(collect),Tuple{DataType},Any}(collect, (Generator{UnitRange{Int64},typeof(g)},), Any[Array{Float64,1}]), FCollector[FCollector{Int64,Frame{DataType,Tuple{DataType},Any},FCollector}(97, Frame{DataType,Tuple{DataType},Any}(IteratorSize, (UnitRange{Int64},), Any[HasShape{1}]), FCollector[FCollector{Int64,Frame{typeof(typeof),Tuple{DataType},Any},FCollector}(96, Frame{typeof(typeof),Tuple{DataType},Any}(typeof, (UnitRange{Int64},), Any[DataType]), FCollector[]), FCollector{Int64,Frame{DataType,Tuple{DataType},Any},FCollector}(96, Frame{DataType,Tuple{DataType},Any}(IteratorSize, (DataType,), Any[HasShape{1}]), FCollector[FCollector{Int64,Frame{typeof(apply_type),Tuple{DataType,DataType},Any},FCollector}(95, Frame{typeof(apply_type),Tuple{DataType,DataType},Any}(apply_type, (UnionAll, Int64), Any[DataType]), FCollector[]), FCollector{Int64,Frame{DataType,Tuple{},Any},FCollector}(95, Frame{DataType,Tuple{},Any}(HasShape{1}, (), Any[HasShape{1}]), FCollector[FCollector{Int64,Frame{typeof(apply_type),Tuple{DataType,DataType},Any},FCollector}(94, Frame{typeof(apply_type),Tuple{DataType,DataType},Any}(apply_type, (UnionAll, Int64), Any[DataType]), FCollector[])])])]), FCollector{Int64,Frame{typeof(isa),Tuple{DataType,DataType},Any},FCollector}(97, Frame{typeof(isa),Tuple{DataType,DataType},Any}(isa, (Generator{UnitRange{Int64},typeof(g)}, UnionAll), Any[Bool]), FCollector[]), FCollector{Int64,Frame{typeof(isa),Tuple{DataType,DataType},Any},FCollector}(97, Frame{typeof(isa),Tuple{DataType,DataType},Any}(isa, (typeof(g), UnionAll), Any[Bool]), FCollector[]), FCollector{Int64,Frame{typeof(typeof),Tuple{DataType},Any},FCollector}(97, Frame{typeof(typeof),Tuple{DataType},Any}(typeof, (Generator{UnitRange{Int64},typeof(g)},), Any[DataType]), FCollector[]), FCollector{Int64,Frame{typeof(apply_type),Tuple{DataType,DataType},Any},FCollector}(97, Frame{typeof(apply_type),Tuple{DataType,DataType},Any}(apply_type, (DataType, DataType), Any[DataType]), FCollector[]), FCollector{Int64,Frame{typeof(return_type),Tuple{DataType,DataType},Any},FCollector}(97, Frame{typeof(return_type),Tuple{DataType,DataType},Any}(return_type, (typeof(first), DataType), Any[DataType]), FCollector[]), FCollector{Int64,Frame{typeof(isa),Tuple{DataType,DataType},Any},FCollector}(97, Frame{typeof(isa),Tuple{DataType,DataType},Any}(isa, (HasShape{1}, DataType), Any[Bool]), FCollector[]), FCollector{Int64,Frame{typeof(iterate),Tuple{DataType},Any},FCollector}(97, Frame{typeof(iterate),Tuple{DataType},Any}(iterate, (Generator{UnitRange{Int64},typeof(g)},), Any[Tuple{Float64,Int64}]), FCollector[]), FCollector{Int64,Frame{typeof(===),Tuple{DataType,DataType},Any},FCollector}(97, Frame{typeof(===),Tuple{DataType,DataType},Any}(===, (Tuple{Float64,Int64}, Nothing), Any[Bool]), FCollector[]), FCollector{Int64,Frame{typeof(indexed_iterate),Tuple{DataType,DataType},Any},FCollector}(97, Frame{typeof(indexed_iterate),Tuple{DataType,DataType},Any}(indexed_iterate, (Tuple{Float64,Int64}, Int64), Any[Tuple{Float64,Int64}]), FCollector[FCollector{Int64,Frame{typeof(indexed_iterate),Tuple{DataType,DataType,DataType},Any},FCollector}(96, Frame{typeof(indexed_iterate),Tuple{DataType,DataType,DataType},Any}(indexed_iterate, (Tuple{Float64,Int64}, Int64, Int64), Any[Tuple{Float64,Int64}]), FCollector[FCollector{Int64,Frame{typeof(getfield),Tuple{DataType,DataType},Any},FCollector}(95, Frame{typeof(getfield),Tuple{DataType,DataType},Any}(getfield, (Tuple{Float64,Int64}, Int64), Any[Float64]), FCollector[]), FCollector{Int64,Frame{typeof(+),Tuple{DataType,DataType},Any},FCollector}(95, Frame{typeof(+),Tuple{DataType,DataType},Any}(+, (Int64, Int64), Any[Int64]), FCollector[]), FCollector{Int64,Frame{typeof(tuple),Tuple{DataType,DataType},Any},FCollector}(95, Frame{typeof(tuple),Tuple{DataType,DataType},Any}(tuple, (Float64, Int64), Any[Tuple{Float64,Int64}]), FCollector[])])]), FCollector{Int64,Frame{typeof(getfield),Tuple{DataType,DataType},Any},FCollector}(97, Frame{typeof(getfield),Tuple{DataType,DataType},Any}(getfield, (Tuple{Float64,Int64}, Int64), Any[Float64]), FCollector[]), FCollector{Int64,Frame{typeof(getfield),Tuple{DataType,DataType},Any},FCollector}(97, Frame{typeof(getfield),Tuple{DataType,DataType},Any}(getfield, (Tuple{Float64,Int64}, Int64), Any[Int64]), FCollector[]), FCollector{Int64,Frame{typeof(indexed_iterate),Tuple{DataType,DataType,DataType},Any},FCollector}(97, Frame{typeof(indexed_iterate),Tuple{DataType,DataType,DataType},Any}(indexed_iterate, (Tuple{Float64,Int64}, Int64, Int64), Any[Tuple{Int64,Int64}]), FCollector[FCollector{Int64,Frame{typeof(getfield),Tuple{DataType,DataType},Any},FCollector}(96, Frame{typeof(getfield),Tuple{DataType,DataType},Any}(getfield, (Tuple{Float64,Int64}, Int64), Any[Int64]), FCollector[]), FCollector{Int64,Frame{typeof(+),Tuple{DataType,DataType},Any},FCollector}(96, Frame{typeof(+),Tuple{DataType,DataType},Any}(+, (Int64, Int64), Any[Int64]), FCollector[]), FCollector{Int64,Frame{typeof(tuple),Tuple{DataType,DataType},Any},FCollector}(96, Frame{typeof(tuple),Tuple{DataType,DataType},Any}(tuple, (Int64, Int64), Any[Tuple{Int64,Int64}]), FCollector[])]), FCollector{Int64,Frame{typeof(getfield),Tuple{DataType,DataType},Any},FCollector}(97, Frame{typeof(getfield),Tuple{DataType,DataType},Any}(getfield, (Tuple{Int64,Int64}, Int64), Any[Int64]), FCollector[]), FCollector{Int64,Frame{typeof(typeof),Tuple{DataType},Any},FCollector}(97, Frame{typeof(typeof),Tuple{DataType},Any}(typeof, (Float64,), Any[DataType]), FCollector[]), FCollector{Int64,Frame{typeof(_array_for),Tuple{DataType,DataType,DataType},Any},FCollector}(97, Frame{typeof(_array_for),Tuple{DataType,DataType,DataType},Any}(_array_for, (DataType, UnitRange{Int64}, HasShape{1}), Any[Array{Float64,1}]), FCollector[FCollector{Int64,Frame{typeof(apply_type),Tuple{DataType,DataType,DataType},Any},FCollector}(96, Frame{typeof(apply_type),Tuple{DataType,DataType,DataType},Any}(apply_type, (UnionAll, DataType, Int64), Any[DataType]), FCollector[]), FCollector{Int64,Frame{typeof(axes),Tuple{DataType},Any},FCollector}(96, Frame{typeof(axes),Tuple{DataType},Any}(axes, (UnitRange{Int64},), Any[Tuple{OneTo{Int64}}]), FCollector[FCollector{Int64,Frame{typeof(size),Tuple{DataType},Any},FCollector}(95, Frame{typeof(size),Tuple{DataType},Any}(size, (UnitRange{Int64},), Any[Tuple{Int64}]), FCollector[FCollector{Int64,Frame{typeof(length),Tuple{DataType},Any},FCollector}(94, Frame{typeof(length),Tuple{DataType},Any}(length, (UnitRange{Int64},), Any[Int64]), FCollector[FCollector{Int64,Frame{typeof(last),Tuple{DataType},Any},FCollector}(93, Frame{typeof(last),Tuple{DataType},Any}(last, (UnitRange{Int64},), Any[Int64]), FCollector[FCollector{Int64,Frame{typeof(convert),Tuple{DataType,DataType},Any},FCollector}(92, Frame{typeof(convert),Tuple{DataType,DataType},Any}(convert, (DataType, Int64), Any[Int64]), FCollector[])]), FCollector{Int64,Frame{typeof(first),Tuple{DataType},Any},FCollector}(93, Frame{typeof(first),Tuple{DataType},Any}(first, (UnitRange{Int64},), Any[Int64]), FCollector[FCollector{Int64,Frame{typeof(convert),Tuple{DataType,DataType},Any},FCollector}(92, Frame{typeof(convert),Tuple{DataType,DataType},Any}(convert, (DataType, Int64), Any[Int64]), FCollector[])]), FCollector{Int64,Frame{typeof(checked_sub),Tuple{DataType,DataType},Any},FCollector}(93, Frame{typeof(checked_sub),Tuple{DataType,DataType},Any}(checked_sub, (Int64, Int64), Any[Int64]), FCollector[FCollector{Int64,Frame{typeof(sub_with_overflow),Tuple{DataType,DataType},Any},FCollector}(92, Frame{typeof(sub_with_overflow),Tuple{DataType,DataType},Any}(sub_with_overflow, (Int64, Int64), Any[Tuple{Int64,Bool}]), FCollector[FCollector{Int64,Frame{IntrinsicFunction,Tuple{DataType,DataType},Any},FCollector}(91, Frame{IntrinsicFunction,Tuple{DataType,DataType},Any}(checked_ssub_int, (Int64, Int64), Any[Tuple{Int64,Bool}]), FCollector[])]), FCollector{Int64,Frame{typeof(indexed_iterate),Tuple{DataType,DataType},Any},FCollector}(92, Frame{typeof(indexed_iterate),Tuple{DataType,DataType},Any}(indexed_iterate, (Tuple{Int64,Bool}, Int64), Any[Tuple{Int64,Int64}]), FCollector[FCollector{Int64,Frame{typeof(indexed_iterate),Tuple{DataType,DataType,DataType},Any},FCollector}(91, Frame{typeof(indexed_iterate),Tuple{DataType,DataType,DataType},Any}(indexed_iterate, (Tuple{Int64,Bool}, Int64, Int64), Any[Tuple{Int64,Int64}]), FCollector[FCollector{Int64,Frame{typeof(getfield),Tuple{DataType,DataType},Any},FCollector}(90, Frame{typeof(getfield),Tuple{DataType,DataType},Any}(getfield, (Tuple{Int64,Bool}, Int64), Any[Int64]), FCollector[]), FCollector{Int64,Frame{typeof(+),Tuple{DataType,DataType},Any},FCollector}(90, Frame{typeof(+),Tuple{DataType,DataType},Any}(+, (Int64, Int64), Any[Int64]), FCollector[]), FCollector{Int64,Frame{typeof(tuple),Tuple{DataType,DataType},Any},FCollector}(90, Frame{typeof(tuple),Tuple{DataType,DataType},Any}(tuple, (Int64, Int64), Any[Tuple{Int64,Int64}]), FCollector[])])]), FCollector{Int64,Frame{typeof(getfield),Tuple{DataType,DataType},Any},FCollector}(92, Frame{typeof(getfield),Tuple{DataType,DataType},Any}(getfield, (Tuple{Int64,Int64}, Int64), Any[Int64]), FCollector[]), FCollector{Int64,Frame{typeof(getfield),Tuple{DataType,DataType},Any},FCollector}(92, Frame{typeof(getfield),Tuple{DataType,DataType},Any}(getfield, (Tuple{Int64,Int64}, Int64), Any[Int64]), FCollector[]), FCollector{Int64,Frame{typeof(indexed_iterate),Tuple{DataType,DataType,DataType},Any},FCollector}(92, Frame{typeof(indexed_iterate),Tuple{DataType,DataType,DataType},Any}(indexed_iterate, (Tuple{Int64,Bool}, Int64, Int64), Any[Tuple{Bool,Int64}]), FCollector[FCollector{Int64,Frame{typeof(getfield),Tuple{DataType,DataType},Any},FCollector}(91, Frame{typeof(getfield),Tuple{DataType,DataType},Any}(getfield, (Tuple{Int64,Bool}, Int64), Any[Bool]), FCollector[]), FCollector{Int64,Frame{typeof(+),Tuple{DataType,DataType},Any},FCollector}(91, Frame{typeof(+),Tuple{DataType,DataType},Any}(+, (Int64, Int64), Any[Int64]), FCollector[]), FCollector{Int64,Frame{typeof(tuple),Tuple{DataType,DataType},Any},FCollector}(91, Frame{typeof(tuple),Tuple{DataType,DataType},Any}(tuple, (Bool, Int64), Any[Tuple{Bool,Int64}]), FCollector[])]), FCollector{Int64,Frame{typeof(getfield),Tuple{DataType,DataType},Any},FCollector}(92, Frame{typeof(getfield),Tuple{DataType,DataType},Any}(getfield, (Tuple{Bool,Int64}, Int64), Any[Bool]), FCollector[])]), FCollector{Int64,Frame{typeof(one),Tuple{DataType},Any},FCollector}(93, Frame{typeof(one),Tuple{DataType},Any}(one, (DataType,), Any[Int64]), FCollector[FCollector{Int64,Frame{typeof(convert),Tuple{DataType,DataType},Any},FCollector}(92, Frame{typeof(convert),Tuple{DataType,DataType},Any}(convert, (DataType, Int64), Any[Int64]), FCollector[])]), FCollector{Int64,Frame{typeof(checked_add),Tuple{DataType,DataType},Any},FCollector}(93, Frame{typeof(checked_add),Tuple{DataType,DataType},Any}(checked_add, (Int64, Int64), Any[Int64]), FCollector[FCollector{Int64,Frame{typeof(add_with_overflow),Tuple{DataType,DataType},Any},FCollector}(92, Frame{typeof(add_with_overflow),Tuple{DataType,DataType},Any}(add_with_overflow, (Int64, Int64), Any[Tuple{Int64,Bool}]), FCollector[FCollector{Int64,Frame{IntrinsicFunction,Tuple{DataType,DataType},Any},FCollector}(91, Frame{IntrinsicFunction,Tuple{DataType,DataType},Any}(checked_sadd_int, (Int64, Int64), Any[Tuple{Int64,Bool}]), FCollector[])]), FCollector{Int64,Frame{typeof(indexed_iterate),Tuple{DataType,DataType},Any},FCollector}(92, Frame{typeof(indexed_iterate),Tuple{DataType,DataType},Any}(indexed_iterate, (Tuple{Int64,Bool}, Int64), Any[Tuple{Int64,Int64}]), FCollector[FCollector{Int64,Frame{typeof(indexed_iterate),Tuple{DataType,DataType,DataType},Any},FCollector}(91, Frame{typeof(indexed_iterate),Tuple{DataType,DataType,DataType},Any}(indexed_iterate, (Tuple{Int64,Bool}, Int64, Int64), Any[Tuple{Int64,Int64}]), FCollector[FCollector{Int64,Frame{typeof(getfield),Tuple{DataType,DataType},Any},FCollector}(90, Frame{typeof(getfield),Tuple{DataType,DataType},Any}(getfield, (Tuple{Int64,Bool}, Int64), Any[Int64]), FCollector[]), FCollector{Int64,Frame{typeof(+),Tuple{DataType,DataType},Any},FCollector}(90, Frame{typeof(+),Tuple{DataType,DataType},Any}(+, (Int64, Int64), Any[Int64]), FCollector[]), FCollector{Int64,Frame{typeof(tuple),Tuple{DataType,DataType},Any},FCollector}(90, Frame{typeof(tuple),Tuple{DataType,DataType},Any}(tuple, (Int64, Int64), Any[Tuple{Int64,Int64}]), FCollector[])])]), FCollector{Int64,Frame{typeof(getfield),Tuple{DataType,DataType},Any},FCollector}(92, Frame{typeof(getfield),Tuple{DataType,DataType},Any}(getfield, (Tuple{Int64,Int64}, Int64), Any[Int64]), FCollector[]), FCollector{Int64,Frame{typeof(getfield),Tuple{DataType,DataType},Any},FCollector}(92, Frame{typeof(getfield),Tuple{DataType,DataType},Any}(getfield, (Tuple{Int64,Int64}, Int64), Any[Int64]), FCollector[]), FCollector{Int64,Frame{typeof(indexed_iterate),Tuple{DataType,DataType,DataType},Any},FCollector}(92, Frame{typeof(indexed_iterate),Tuple{DataType,DataType,DataType},Any}(indexed_iterate, (Tuple{Int64,Bool}, Int64, Int64), Any[Tuple{Bool,Int64}]), FCollector[FCollector{Int64,Frame{typeof(getfield),Tuple{DataType,DataType},Any},FCollector}(91, Frame{typeof(getfield),Tuple{DataType,DataType},Any}(getfield, (Tuple{Int64,Bool}, Int64), Any[Bool]), FCollector[]), FCollector{Int64,Frame{typeof(+),Tuple{DataType,DataType},Any},FCollector}(91, Frame{typeof(+),Tuple{DataType,DataType},Any}(+, (Int64, Int64), Any[Int64]), FCollector[]), FCollector{Int64,Frame{typeof(tuple),Tuple{DataType,DataType},Any},FCollector}(91, Frame{typeof(tuple),Tuple{DataType,DataType},Any}(tuple, (Bool, Int64), Any[Tuple{Bool,Int64}]), FCollector[])]), FCollector{Int64,Frame{typeof(getfield),Tuple{DataType,DataType},Any},FCollector}(92, Frame{typeof(getfield),Tuple{DataType,DataType},Any}(getfield, (Tuple{Bool,Int64}, Int64), Any[Bool]), FCollector[])])]), FCollector{Int64,Frame{typeof(tuple),Tuple{DataType},Any},FCollector}(94, Frame{typeof(tuple),Tuple{DataType},Any}(tuple, (Int64,), Any[Tuple{Int64}]), FCollector[])]), FCollector{Int64,Frame{typeof(map),Tuple{DataType,DataType},Any},FCollector}(95, Frame{typeof(map),Tuple{DataType,DataType},Any}(map, (UnionAll, Tuple{Int64}), Any[Tuple{OneTo{Int64}}]), FCollector[FCollector{Int64,Frame{typeof(getindex),Tuple{DataType,DataType},Any},FCollector}(94, Frame{typeof(getindex),Tuple{DataType,DataType},Any}(getindex, (Tuple{Int64}, Int64), Any[Int64]), FCollector[FCollector{Int64,Frame{typeof(getfield),Tuple{DataType,DataType,DataType},Any},FCollector}(93, Frame{typeof(getfield),Tuple{DataType,DataType,DataType},Any}(getfield, (Tuple{Int64}, Int64, Bool), Any[Int64]), FCollector[])]), FCollector{Int64,Frame{UnionAll,Tuple{DataType},Any},FCollector}(94, Frame{UnionAll,Tuple{DataType},Any}(OneTo, (Int64,), Any[OneTo{Int64}]), FCollector[FCollector{Int64,Frame{typeof(apply_type),Tuple{DataType,DataType},Any},FCollector}(93, Frame{typeof(apply_type),Tuple{DataType,DataType},Any}(apply_type, (UnionAll, DataType), Any[DataType]), FCollector[]), FCollector{Int64,Frame{DataType,Tuple{DataType},Any},FCollector}(93, Frame{DataType,Tuple{DataType},Any}(OneTo{Int64}, (Int64,), Any[OneTo{Int64}]), FCollector[FCollector{Int64,Frame{typeof(apply_type),Tuple{DataType,DataType},Any},FCollector}(92, Frame{typeof(apply_type),Tuple{DataType,DataType},Any}(apply_type, (UnionAll, DataType), Any[DataType]), FCollector[]), FCollector{Int64,Frame{typeof(zero),Tuple{DataType},Any},FCollector}(92, Frame{typeof(zero),Tuple{DataType},Any}(zero, (DataType,), Any[Int64]), FCollector[FCollector{Int64,Frame{typeof(convert),Tuple{DataType,DataType},Any},FCollector}(91, Frame{typeof(convert),Tuple{DataType,DataType},Any}(convert, (DataType, Int64), Any[Int64]), FCollector[])]), FCollector{Int64,Frame{typeof(max),Tuple{DataType,DataType},Any},FCollector}(92, Frame{typeof(max),Tuple{DataType,DataType},Any}(max, (Int64, Int64), Any[Int64]), FCollector[FCollector{Int64,Frame{typeof(<),Tuple{DataType,DataType},Any},FCollector}(91, Frame{typeof(<),Tuple{DataType,DataType},Any}(<, (Int64, Int64), Any[Bool]), FCollector[FCollector{Int64,Frame{IntrinsicFunction,Tuple{DataType,DataType},Any},FCollector}(90, Frame{IntrinsicFunction,Tuple{DataType,DataType},Any}(slt_int, (Int64, Int64), Any[Bool]), FCollector[])]), FCollector{Int64,Frame{typeof(ifelse),Tuple{DataType,DataType,DataType},Any},FCollector}(91, Frame{typeof(ifelse),Tuple{DataType,DataType,DataType},Any}(ifelse, (Bool, Int64, Int64), Any[Int64]), FCollector[])]), FCollector{Int64,Frame{typeof(convert),Tuple{DataType,DataType},Any},FCollector}(92, Frame{typeof(convert),Tuple{DataType,DataType},Any}(convert, (DataType, Int64), Any[Int64]), FCollector[])])]), FCollector{Int64,Frame{typeof(tuple),Tuple{DataType},Any},FCollector}(94, Frame{typeof(tuple),Tuple{DataType},Any}(tuple, (OneTo{Int64},), Any[Tuple{OneTo{Int64}}]), FCollector[])])]), FCollector{Int64,Frame{typeof(similar),Tuple{DataType,DataType},Any},FCollector}(96, Frame{typeof(similar),Tuple{DataType,DataType},Any}(similar, (DataType, Tuple{OneTo{Int64}}), Any[Array{Float64,1}]), FCollector[FCollector{Int64,Frame{typeof(to_shape),Tuple{DataType},Any},FCollector}(95, Frame{typeof(to_shape),Tuple{DataType},Any}(to_shape, (Tuple{OneTo{Int64}},), Any[Tuple{Int64}]), FCollector[FCollector{Int64,Frame{typeof(map),Tuple{DataType,DataType},Any},FCollector}(94, Frame{typeof(map),Tuple{DataType,DataType},Any}(map, (typeof(to_shape), Tuple{OneTo{Int64}}), Any[Tuple{Int64}]), FCollector[FCollector{Int64,Frame{typeof(getindex),Tuple{DataType,DataType},Any},FCollector}(93, Frame{typeof(getindex),Tuple{DataType,DataType},Any}(getindex, (Tuple{OneTo{Int64}}, Int64), Any[OneTo{Int64}]), FCollector[FCollector{Int64,Frame{typeof(getfield),Tuple{DataType,DataType,DataType},Any},FCollector}(92, Frame{typeof(getfield),Tuple{DataType,DataType,DataType},Any}(getfield, (Tuple{OneTo{Int64}}, Int64, Bool), Any[OneTo{Int64}]), FCollector[])]), FCollector{Int64,Frame{typeof(to_shape),Tuple{DataType},Any},FCollector}(93, Frame{typeof(to_shape),Tuple{DataType},Any}(to_shape, (OneTo{Int64},), Any[Int64]), FCollector[FCollector{Int64,Frame{typeof(last),Tuple{DataType},Any},FCollector}(92, Frame{typeof(last),Tuple{DataType},Any}(last, (OneTo{Int64},), Any[Int64]), FCollector[FCollector{Int64,Frame{typeof(convert),Tuple{DataType,DataType},Any},FCollector}(91, Frame{typeof(convert),Tuple{DataType,DataType},Any}(convert, (DataType, Int64), Any[Int64]), FCollector[])]), FCollector{Int64,Frame{DataType,Tuple{DataType},Any},FCollector}(92, Frame{DataType,Tuple{DataType},Any}(Int64, (Int64,), Any[Int64]), FCollector[FCollector{Int64,Frame{typeof(toInt64),Tuple{DataType},Any},FCollector}(91, Frame{typeof(toInt64),Tuple{DataType},Any}(toInt64, (Int64,), Any[Int64]), FCollector[]), FCollector{Int64,Frame{typeof(typeassert),Tuple{DataType,DataType},Any},FCollector}(91, Frame{typeof(typeassert),Tuple{DataType,DataType},Any}(typeassert, (Int64, DataType), Any[Int64]), FCollector[])])]), FCollector{Int64,Frame{typeof(tuple),Tuple{DataType},Any},FCollector}(93, Frame{typeof(tuple),Tuple{DataType},Any}(tuple, (Int64,), Any[Tuple{Int64}]), FCollector[])]), FCollector{Int64,Frame{typeof(typeassert),Tuple{DataType,DataType},Any},FCollector}(94, Frame{typeof(typeassert),Tuple{DataType,DataType},Any}(typeassert, (Tuple{Int64}, UnionAll), Any[Tuple{Int64}]), FCollector[])]), FCollector{Int64,Frame{typeof(similar),Tuple{DataType,DataType},Any},FCollector}(95, Frame{typeof(similar),Tuple{DataType,DataType},Any}(similar, (DataType, Tuple{Int64}), Any[Array{Float64,1}]), FCollector[FCollector{Int64,Frame{DataType,Tuple{DataType,DataType},Any},FCollector}(94, Frame{DataType,Tuple{DataType,DataType},Any}(Array{Float64,1}, (UndefInitializer, Tuple{Int64}), Any[Array{Float64,1}]), FCollector[FCollector{Int64,Frame{typeof(apply_type),Tuple{DataType,DataType,DataType},Any},FCollector}(93, Frame{typeof(apply_type),Tuple{DataType,DataType,DataType},Any}(apply_type, (UnionAll, DataType, Int64), Any[DataType]), FCollector[]), FCollector{Int64,Frame{typeof(getfield),Tuple{DataType,DataType},Any},FCollector}(93, Frame{typeof(getfield),Tuple{DataType,DataType},Any}(getfield, (Tuple{Int64}, Int64), Any[Int64]), FCollector[]), FCollector{Int64,Frame{DataType,Tuple{DataType,DataType},Any},FCollector}(93, Frame{DataType,Tuple{DataType,DataType},Any}(Array{Float64,1}, (UndefInitializer, Int64), Any[Array{Float64,1}]), FCollector[FCollector{Int64,Frame{typeof(cconvert),Tuple{DataType,DataType},Any},FCollector}(92, Frame{typeof(cconvert),Tuple{DataType,DataType},Any}(cconvert, (DataType, Int64), Any[Int64]), FCollector[FCollector{Int64,Frame{typeof(convert),Tuple{DataType,DataType},Any},FCollector}(91, Frame{typeof(convert),Tuple{DataType,DataType},Any}(convert, (DataType, Int64), Any[Int64]), FCollector[])]), FCollector{Int64,Frame{typeof(apply_type),Tuple{DataType,DataType,DataType},Any},FCollector}(92, Frame{typeof(apply_type),Tuple{DataType,DataType,DataType},Any}(apply_type, (UnionAll, DataType, Int64), Any[DataType]), FCollector[]), FCollector{Int64,Frame{typeof(unsafe_convert),Tuple{DataType,DataType},Any},FCollector}(92, Frame{typeof(unsafe_convert),Tuple{DataType,DataType},Any}(unsafe_convert, (DataType, Int64), Any[Int64]), FCollector[])])])])])]), FCollector{Int64,Frame{typeof(collect_to_with_first!),NTuple{4,DataType},Any},FCollector}(97, Frame{typeof(collect_to_with_first!),NTuple{4,DataType},Any}(collect_to_with_first!, (Array{Float64,1}, Float64, Generator{UnitRange{Int64},typeof(g)}, Int64), Any[Array{Float64,1}]), FCollector[FCollector{Int64,Frame{UnionAll,Tuple{DataType},Any},FCollector}(96, Frame{UnionAll,Tuple{DataType},Any}(LinearIndices, (Array{Float64,1},), Any[LinearIndices{1,Tuple{OneTo{Int64}}}]), FCollector[FCollector{Int64,Frame{typeof(axes),Tuple{DataType},Any},FCollector}(95, Frame{typeof(axes),Tuple{DataType},Any}(axes, (Array{Float64,1},), Any[Tuple{OneTo{Int64}}]), FCollector[FCollector{Int64,Frame{typeof(size),Tuple{DataType},Any},FCollector}(94, Frame{typeof(size),Tuple{DataType},Any}(size, (Array{Float64,1},), Any[Tuple{Int64}]), FCollector[FCollector{Int64,Frame{typeof(arraysize),Tuple{DataType,DataType},Any},FCollector}(93, Frame{typeof(arraysize),Tuple{DataType,DataType},Any}(arraysize, (Array{Float64,1}, Int64), Any[Int64]), FCollector[]), FCollector{Int64,Frame{typeof(tuple),Tuple{DataType},Any},FCollector}(93, Frame{typeof(tuple),Tuple{DataType},Any}(tuple, (Int64,), Any[Tuple{Int64}]), FCollector[])]), FCollector{Int64,Frame{typeof(map),Tuple{DataType,DataType},Any},FCollector}(94, Frame{typeof(map),Tuple{DataType,DataType},Any}(map, (UnionAll, Tuple{Int64}), Any[Tuple{OneTo{Int64}}]), FCollector[FCollector{Int64,Frame{typeof(getindex),Tuple{DataType,DataType},Any},FCollector}(93, Frame{typeof(getindex),Tuple{DataType,DataType},Any}(getindex, (Tuple{Int64}, Int64), Any[Int64]), FCollector[FCollector{Int64,Frame{typeof(getfield),Tuple{DataType,DataType,DataType},Any},FCollector}(92, Frame{typeof(getfield),Tuple{DataType,DataType,DataType},Any}(getfield, (Tuple{Int64}, Int64, Bool), Any[Int64]), FCollector[])]), FCollector{Int64,Frame{UnionAll,Tuple{DataType},Any},FCollector}(93, Frame{UnionAll,Tuple{DataType},Any}(OneTo, (Int64,), Any[OneTo{Int64}]), FCollector[FCollector{Int64,Frame{typeof(apply_type),Tuple{DataType,DataType},Any},FCollector}(92, Frame{typeof(apply_type),Tuple{DataType,DataType},Any}(apply_type, (UnionAll, DataType), Any[DataType]), FCollector[]), FCollector{Int64,Frame{DataType,Tuple{DataType},Any},FCollector}(92, Frame{DataType,Tuple{DataType},Any}(OneTo{Int64}, (Int64,), Any[OneTo{Int64}]), FCollector[FCollector{Int64,Frame{typeof(apply_type),Tuple{DataType,DataType},Any},FCollector}(91, Frame{typeof(apply_type),Tuple{DataType,DataType},Any}(apply_type, (UnionAll, DataType), Any[DataType]), FCollector[]), FCollector{Int64,Frame{typeof(zero),Tuple{DataType},Any},FCollector}(91, Frame{typeof(zero),Tuple{DataType},Any}(zero, (DataType,), Any[Int64]), FCollector[FCollector{Int64,Frame{typeof(convert),Tuple{DataType,DataType},Any},FCollector}(90, Frame{typeof(convert),Tuple{DataType,DataType},Any}(convert, (DataType, Int64), Any[Int64]), FCollector[])]), FCollector{Int64,Frame{typeof(max),Tuple{DataType,DataType},Any},FCollector}(91, Frame{typeof(max),Tuple{DataType,DataType},Any}(max, (Int64, Int64), Any[Int64]), FCollector[FCollector{Int64,Frame{typeof(<),Tuple{DataType,DataType},Any},FCollector}(90, Frame{typeof(<),Tuple{DataType,DataType},Any}(<, (Int64, Int64), Any[Bool]), FCollector[FCollector{Int64,Frame{IntrinsicFunction,Tuple{DataType,DataType},Any},FCollector}(89, Frame{IntrinsicFunction,Tuple{DataType,DataType},Any}(slt_int, (Int64, Int64), Any[Bool]), FCollector[])]), FCollector{Int64,Frame{typeof(ifelse),Tuple{DataType,DataType,DataType},Any},FCollector}(90, Frame{typeof(ifelse),Tuple{DataType,DataType,DataType},Any}(ifelse, (Bool, Int64, Int64), Any[Int64]), FCollector[])]), FCollector{Int64,Frame{typeof(convert),Tuple{DataType,DataType},Any},FCollector}(91, Frame{typeof(convert),Tuple{DataType,DataType},Any}(convert, (DataType, Int64), Any[Int64]), FCollector[])])]), FCollector{Int64,Frame{typeof(tuple),Tuple{DataType},Any},FCollector}(93, Frame{typeof(tuple),Tuple{DataType},Any}(tuple, (OneTo{Int64},), Any[Tuple{OneTo{Int64}}]), FCollector[])])]), FCollector{Int64,Frame{UnionAll,Tuple{DataType},Any},FCollector}(95, Frame{UnionAll,Tuple{DataType},Any}(LinearIndices, (Tuple{OneTo{Int64}},), Any[LinearIndices{1,Tuple{OneTo{Int64}}}]), FCollector[FCollector{Int64,Frame{typeof(apply_type),Tuple{DataType,DataType,DataType},Any},FCollector}(94, Frame{typeof(apply_type),Tuple{DataType,DataType,DataType},Any}(apply_type, (UnionAll, Int64, DataType), Any[DataType]), FCollector[]), FCollector{Int64,Frame{DataType,Tuple{DataType},Any},FCollector}(94, Frame{DataType,Tuple{DataType},Any}(LinearIndices{1,Tuple{OneTo{Int64}}}, (Tuple{OneTo{Int64}},), Any[LinearIndices{1,Tuple{OneTo{Int64}}}]), FCollector[FCollector{Int64,Frame{typeof(apply_type),Tuple{DataType,DataType,DataType},Any},FCollector}(93, Frame{typeof(apply_type),Tuple{DataType,DataType,DataType},Any}(apply_type, (UnionAll, Int64, DataType), Any[DataType]), FCollector[])])])]), FCollector{Int64,Frame{typeof(first),Tuple{DataType},Any},FCollector}(96, Frame{typeof(first),Tuple{DataType},Any}(first, (LinearIndices{1,Tuple{OneTo{Int64}}},), Any[Int64]), FCollector[FCollector{Int64,Frame{typeof(getindex),Tuple{DataType,DataType},Any},FCollector}(95, Frame{typeof(getindex),Tuple{DataType,DataType},Any}(getindex, (Tuple{OneTo{Int64}}, Int64), Any[OneTo{Int64}]), FCollector[FCollector{Int64,Frame{typeof(getfield),Tuple{DataType,DataType,DataType},Any},FCollector}(94, Frame{typeof(getfield),Tuple{DataType,DataType,DataType},Any}(getfield, (Tuple{OneTo{Int64}}, Int64, Bool), Any[OneTo{Int64}]), FCollector[])]), FCollector{Int64,Frame{typeof(axes1),Tuple{DataType},Any},FCollector}(95, Frame{typeof(axes1),Tuple{DataType},Any}(axes1, (OneTo{Int64},), Any[OneTo{Int64}]), FCollector[FCollector{Int64,Frame{typeof(axes),Tuple{DataType},Any},FCollector}(94, Frame{typeof(axes),Tuple{DataType},Any}(axes, (OneTo{Int64},), Any[Tuple{OneTo{Int64}}]), FCollector[FCollector{Int64,Frame{typeof(size),Tuple{DataType},Any},FCollector}(93, Frame{typeof(size),Tuple{DataType},Any}(size, (OneTo{Int64},), Any[Tuple{Int64}]), FCollector[FCollector{Int64,Frame{typeof(length),Tuple{DataType},Any},FCollector}(92, Frame{typeof(length),Tuple{DataType},Any}(length, (OneTo{Int64},), Any[Int64]), FCollector[FCollector{Int64,Frame{DataType,Tuple{DataType},Any},FCollector}(91, Frame{DataType,Tuple{DataType},Any}(Int64, (Int64,), Any[Int64]), FCollector[FCollector{Int64,Frame{typeof(toInt64),Tuple{DataType},Any},FCollector}(90, Frame{typeof(toInt64),Tuple{DataType},Any}(toInt64, (Int64,), Any[Int64]), FCollector[]), FCollector{Int64,Frame{typeof(typeassert),Tuple{DataType,DataType},Any},FCollector}(90, Frame{typeof(typeassert),Tuple{DataType,DataType},Any}(typeassert, (Int64, DataType), Any[Int64]), FCollector[])])]), FCollector{Int64,Frame{typeof(tuple),Tuple{DataType},Any},FCollector}(92, Frame{typeof(tuple),Tuple{DataType},Any}(tuple, (Int64,), Any[Tuple{Int64}]), FCollector[])]), FCollector{Int64,Frame{typeof(map),Tuple{DataType,DataType},Any},FCollector}(93, Frame{typeof(map),Tuple{DataType,DataType},Any}(map, (UnionAll, Tuple{Int64}), Any[Tuple{OneTo{Int64}}]), FCollector[FCollector{Int64,Frame{typeof(getindex),Tuple{DataType,DataType},Any},FCollector}(92, Frame{typeof(getindex),Tuple{DataType,DataType},Any}(getindex, (Tuple{Int64}, Int64), Any[Int64]), FCollector[FCollector{Int64,Frame{typeof(getfield),Tuple{DataType,DataType,DataType},Any},FCollector}(91, Frame{typeof(getfield),Tuple{DataType,DataType,DataType},Any}(getfield, (Tuple{Int64}, Int64, Bool), Any[Int64]), FCollector[])]), FCollector{Int64,Frame{UnionAll,Tuple{DataType},Any},FCollector}(92, Frame{UnionAll,Tuple{DataType},Any}(OneTo, (Int64,), Any[OneTo{Int64}]), FCollector[FCollector{Int64,Frame{typeof(apply_type),Tuple{DataType,DataType},Any},FCollector}(91, Frame{typeof(apply_type),Tuple{DataType,DataType},Any}(apply_type, (UnionAll, DataType), Any[DataType]), FCollector[]), FCollector{Int64,Frame{DataType,Tuple{DataType},Any},FCollector}(91, Frame{DataType,Tuple{DataType},Any}(OneTo{Int64}, (Int64,), Any[OneTo{Int64}]), FCollector[FCollector{Int64,Frame{typeof(apply_type),Tuple{DataType,DataType},Any},FCollector}(90, Frame{typeof(apply_type),Tuple{DataType,DataType},Any}(apply_type, (UnionAll, DataType), Any[DataType]), FCollector[]), FCollector{Int64,Frame{typeof(zero),Tuple{DataType},Any},FCollector}(90, Frame{typeof(zero),Tuple{DataType},Any}(zero, (DataType,), Any[Int64]), FCollector[FCollector{Int64,Frame{typeof(convert),Tuple{DataType,DataType},Any},FCollector}(89, Frame{typeof(convert),Tuple{DataType,DataType},Any}(convert, (DataType, Int64), Any[Int64]), FCollector[])]), FCollector{Int64,Frame{typeof(max),Tuple{DataType,DataType},Any},FCollector}(90, Frame{typeof(max),Tuple{DataType,DataType},Any}(max, (Int64, Int64), Any[Int64]), FCollector[FCollector{Int64,Frame{typeof(<),Tuple{DataType,DataType},Any},FCollector}(89, Frame{typeof(<),Tuple{DataType,DataType},Any}(<, (Int64, Int64), Any[Bool]), FCollector[FCollector{Int64,Frame{IntrinsicFunction,Tuple{DataType,DataType},Any},FCollector}(88, Frame{IntrinsicFunction,Tuple{DataType,DataType},Any}(slt_int, (Int64, Int64), Any[Bool]), FCollector[])]), FCollector{Int64,Frame{typeof(ifelse),Tuple{DataType,DataType,DataType},Any},FCollector}(89, Frame{typeof(ifelse),Tuple{DataType,DataType,DataType},Any}(ifelse, (Bool, Int64, Int64), Any[Int64]), FCollector[])]), FCollector{Int64,Frame{typeof(convert),Tuple{DataType,DataType},Any},FCollector}(90, Frame{typeof(convert),Tuple{DataType,DataType},Any}(convert, (DataType, Int64), Any[Int64]), FCollector[])])]), FCollector{Int64,Frame{typeof(tuple),Tuple{DataType},Any},FCollector}(92, Frame{typeof(tuple),Tuple{DataType},Any}(tuple, (OneTo{Int64},), Any[Tuple{OneTo{Int64}}]), FCollector[])])]), FCollector{Int64,Frame{typeof(getindex),Tuple{DataType,DataType},Any},FCollector}(94, Frame{typeof(getindex),Tuple{DataType,DataType},Any}(getindex, (Tuple{OneTo{Int64}}, Int64), Any[OneTo{Int64}]), FCollector[FCollector{Int64,Frame{typeof(getfield),Tuple{DataType,DataType,DataType},Any},FCollector}(93, Frame{typeof(getfield),Tuple{DataType,DataType,DataType},Any}(getfield, (Tuple{OneTo{Int64}}, Int64, Bool), Any[OneTo{Int64}]), FCollector[])])]), FCollector{Int64,Frame{typeof(first),Tuple{DataType},Any},FCollector}(95, Frame{typeof(first),Tuple{DataType},Any}(first, (OneTo{Int64},), Any[Int64]), FCollector[FCollector{Int64,Frame{typeof(oneunit),Tuple{DataType},Any},FCollector}(94, Frame{typeof(oneunit),Tuple{DataType},Any}(oneunit, (DataType,), Any[Int64]), FCollector[FCollector{Int64,Frame{typeof(one),Tuple{DataType},Any},FCollector}(93, Frame{typeof(one),Tuple{DataType},Any}(one, (DataType,), Any[Int64]), FCollector[FCollector{Int64,Frame{typeof(convert),Tuple{DataType,DataType},Any},FCollector}(92, Frame{typeof(convert),Tuple{DataType,DataType},Any}(convert, (DataType, Int64), Any[Int64]), FCollector[])]), FCollector{Int64,Frame{DataType,Tuple{DataType},Any},FCollector}(93, Frame{DataType,Tuple{DataType},Any}(Int64, (Int64,), Any[Int64]), FCollector[FCollector{Int64,Frame{typeof(toInt64),Tuple{DataType},Any},FCollector}(92, Frame{typeof(toInt64),Tuple{DataType},Any}(toInt64, (Int64,), Any[Int64]), FCollector[]), FCollector{Int64,Frame{typeof(typeassert),Tuple{DataType,DataType},Any},FCollector}(92, Frame{typeof(typeassert),Tuple{DataType,DataType},Any}(typeassert, (Int64, DataType), Any[Int64]), FCollector[])])])])]), FCollector{Int64,Frame{typeof(setindex!),Tuple{DataType,DataType,DataType},Any},FCollector}(96, Frame{typeof(setindex!),Tuple{DataType,DataType,DataType},Any}(setindex!, (Array{Float64,1}, Float64, Int64), Any[Array{Float64,1}]), FCollector[FCollector{Int64,Frame{typeof(convert),Tuple{DataType,DataType},Any},FCollector}(95, Frame{typeof(convert),Tuple{DataType,DataType},Any}(convert, (DataType, Float64), Any[Float64]), FCollector[]), FCollector{Int64,Frame{typeof(typeassert),Tuple{DataType,DataType},Any},FCollector}(95, Frame{typeof(typeassert),Tuple{DataType,DataType},Any}(typeassert, (Float64, DataType), Any[Float64]), FCollector[]), FCollector{Int64,Frame{typeof(arrayset),NTuple{4,DataType},Any},FCollector}(95, Frame{typeof(arrayset),NTuple{4,DataType},Any}(arrayset, (Bool, Array{Float64,1}, Float64, Int64), Any[Array{Float64,1}]), FCollector[])]), FCollector{Int64,Frame{typeof(+),Tuple{DataType,DataType},Any},FCollector}(96, Frame{typeof(+),Tuple{DataType,DataType},Any}(+, (Int64, Int64), Any[Int64]), FCollector[]), FCollector{Int64,Frame{typeof(collect_to!),NTuple{4,DataType},Any},FCollector}(96, Frame{typeof(collect_to!),NTuple{4,DataType},Any}(collect_to!, (Array{Float64,1}, Generator{UnitRange{Int64},typeof(g)}, Int64, Int64), Any[Array{Float64,1}]), FCollector[FCollector{Int64,Frame{typeof(iterate),Tuple{DataType,DataType},Any},FCollector}(95, Frame{typeof(iterate),Tuple{DataType,DataType},Any}(iterate, (Generator{UnitRange{Int64},typeof(g)}, Int64), Any[Tuple{Float64,Int64}]), FCollector[]), FCollector{Int64,Frame{typeof(===),Tuple{DataType,DataType},Any},FCollector}(95, Frame{typeof(===),Tuple{DataType,DataType},Any}(===, (Tuple{Float64,Int64}, Nothing), Any[Bool]), FCollector[]), FCollector{Int64,Frame{typeof(indexed_iterate),Tuple{DataType,DataType},Any},FCollector}(95, Frame{typeof(indexed_iterate),Tuple{DataType,DataType},Any}(indexed_iterate, (Tuple{Float64,Int64}, Int64), Any[Tuple{Float64,Int64}]), FCollector[FCollector{Int64,Frame{typeof(indexed_iterate),Tuple{DataType,DataType,DataType},Any},FCollector}(94, Frame{typeof(indexed_iterate),Tuple{DataType,DataType,DataType},Any}(indexed_iterate, (Tuple{Float64,Int64}, Int64, Int64), Any[Tuple{Float64,Int64}]), FCollector[FCollector{Int64,Frame{typeof(getfield),Tuple{DataType,DataType},Any},FCollector}(93, Frame{typeof(getfield),Tuple{DataType,DataType},Any}(getfield, (Tuple{Float64,Int64}, Int64), Any[Float64]), FCollector[]), FCollector{Int64,Frame{typeof(+),Tuple{DataType,DataType},Any},FCollector}(93, Frame{typeof(+),Tuple{DataType,DataType},Any}(+, (Int64, Int64), Any[Int64]), FCollector[]), FCollector{Int64,Frame{typeof(tuple),Tuple{DataType,DataType},Any},FCollector}(93, Frame{typeof(tuple),Tuple{DataType,DataType},Any}(tuple, (Float64, Int64), Any[Tuple{Float64,Int64}]), FCollector[])])]), FCollector{Int64,Frame{typeof(getfield),Tuple{DataType,DataType},Any},FCollector}(95, Frame{typeof(getfield),Tuple{DataType,DataType},Any}(getfield, (Tuple{Float64,Int64}, Int64), Any[Float64]), FCollector[]), FCollector{Int64,Frame{typeof(getfield),Tuple{DataType,DataType},Any},FCollector}(95, Frame{typeof(getfield),Tuple{DataType,DataType},Any}(getfield, (Tuple{Float64,Int64}, Int64), Any[Int64]), FCollector[]), FCollector{Int64,Frame{typeof(indexed_iterate),Tuple{DataType,DataType,DataType},Any},FCollector}(95, Frame{typeof(indexed_iterate),Tuple{DataType,DataType,DataType},Any}(indexed_iterate, (Tuple{Float64,Int64}, Int64, Int64), Any[Tuple{Int64,Int64}]), FCollector[FCollector{Int64,Frame{typeof(getfield),Tuple{DataType,DataType},Any},FCollector}(94, Frame{typeof(getfield),Tuple{DataType,DataType},Any}(getfield, (Tuple{Float64,Int64}, Int64), Any[Int64]), FCollector[]), FCollector{Int64,Frame{typeof(+),Tuple{DataType,DataType},Any},FCollector}(94, Frame{typeof(+),Tuple{DataType,DataType},Any}(+, (Int64, Int64), Any[Int64]), FCollector[]), FCollector{Int64,Frame{typeof(tuple),Tuple{DataType,DataType},Any},FCollector}(94, Frame{typeof(tuple),Tuple{DataType,DataType},Any}(tuple, (Int64, Int64), Any[Tuple{Int64,Int64}]), FCollector[])]), FCollector{Int64,Frame{typeof(getfield),Tuple{DataType,DataType},Any},FCollector}(95, Frame{typeof(getfield),Tuple{DataType,DataType},Any}(getfield, (Tuple{Int64,Int64}, Int64), Any[Int64]), FCollector[]), FCollector{Int64,Frame{typeof(isa),Tuple{DataType,DataType},Any},FCollector}(95, Frame{typeof(isa),Tuple{DataType,DataType},Any}(isa, (Float64, DataType), Any[Bool]), FCollector[]), FCollector{Int64,Frame{typeof(typeassert),Tuple{DataType,DataType},Any},FCollector}(95, Frame{typeof(typeassert),Tuple{DataType,DataType},Any}(typeassert, (Float64, DataType), Any[Float64]), FCollector[]), FCollector{Int64,Frame{typeof(setindex!),Tuple{DataType,DataType,DataType},Any},FCollector}(95, Frame{typeof(setindex!),Tuple{DataType,DataType,DataType},Any}(setindex!, (Array{Float64,1}, Float64, Int64), Any[Array{Float64,1}]), FCollector[FCollector{Int64,Frame{typeof(convert),Tuple{DataType,DataType},Any},FCollector}(94, Frame{typeof(convert),Tuple{DataType,DataType},Any}(convert, (DataType, Float64), Any[Float64]), FCollector[]), FCollector{Int64,Frame{typeof(typeassert),Tuple{DataType,DataType},Any},FCollector}(94, Frame{typeof(typeassert),Tuple{DataType,DataType},Any}(typeassert, (Float64, DataType), Any[Float64]), FCollector[]), FCollector{Int64,Frame{typeof(arrayset),NTuple{4,DataType},Any},FCollector}(94, Frame{typeof(arrayset),NTuple{4,DataType},Any}(arrayset, (Bool, Array{Float64,1}, Float64, Int64), Any[Array{Float64,1}]), FCollector[])])  …  FCollector{Int64,Frame{typeof(getfield),Tuple{DataType,DataType},Any},FCollector}(95, Frame{typeof(getfield),Tuple{DataType,DataType},Any}(getfield, (Tuple{Float64,Int64}, Int64), Any[Float64]), FCollector[]), FCollector{Int64,Frame{typeof(getfield),Tuple{DataType,DataType},Any},FCollector}(95, Frame{typeof(getfield),Tuple{DataType,DataType},Any}(getfield, (Tuple{Float64,Int64}, Int64), Any[Int64]), FCollector[]), FCollector{Int64,Frame{typeof(indexed_iterate),Tuple{DataType,DataType,DataType},Any},FCollector}(95, Frame{typeof(indexed_iterate),Tuple{DataType,DataType,DataType},Any}(indexed_iterate, (Tuple{Float64,Int64}, Int64, Int64), Any[Tuple{Int64,Int64}]), FCollector[FCollector{Int64,Frame{typeof(getfield),Tuple{DataType,DataType},Any},FCollector}(94, Frame{typeof(getfield),Tuple{DataType,DataType},Any}(getfield, (Tuple{Float64,Int64}, Int64), Any[Int64]), FCollector[]), FCollector{Int64,Frame{typeof(+),Tuple{DataType,DataType},Any},FCollector}(94, Frame{typeof(+),Tuple{DataType,DataType},Any}(+, (Int64, Int64), Any[Int64]), FCollector[]), FCollector{Int64,Frame{typeof(tuple),Tuple{DataType,DataType},Any},FCollector}(94, Frame{typeof(tuple),Tuple{DataType,DataType},Any}(tuple, (Int64, Int64), Any[Tuple{Int64,Int64}]), FCollector[])]), FCollector{Int64,Frame{typeof(getfield),Tuple{DataType,DataType},Any},FCollector}(95, Frame{typeof(getfield),Tuple{DataType,DataType},Any}(getfield, (Tuple{Int64,Int64}, Int64), Any[Int64]), FCollector[]), FCollector{Int64,Frame{typeof(isa),Tuple{DataType,DataType},Any},FCollector}(95, Frame{typeof(isa),Tuple{DataType,DataType},Any}(isa, (Float64, DataType), Any[Bool]), FCollector[]), FCollector{Int64,Frame{typeof(typeassert),Tuple{DataType,DataType},Any},FCollector}(95, Frame{typeof(typeassert),Tuple{DataType,DataType},Any}(typeassert, (Float64, DataType), Any[Float64]), FCollector[]), FCollector{Int64,Frame{typeof(setindex!),Tuple{DataType,DataType,DataType},Any},FCollector}(95, Frame{typeof(setindex!),Tuple{DataType,DataType,DataType},Any}(setindex!, (Array{Float64,1}, Float64, Int64), Any[Array{Float64,1}]), FCollector[FCollector{Int64,Frame{typeof(convert),Tuple{DataType,DataType},Any},FCollector}(94, Frame{typeof(convert),Tuple{DataType,DataType},Any}(convert, (DataType, Float64), Any[Float64]), FCollector[]), FCollector{Int64,Frame{typeof(typeassert),Tuple{DataType,DataType},Any},FCollector}(94, Frame{typeof(typeassert),Tuple{DataType,DataType},Any}(typeassert, (Float64, DataType), Any[Float64]), FCollector[]), FCollector{Int64,Frame{typeof(arrayset),NTuple{4,DataType},Any},FCollector}(94, Frame{typeof(arrayset),NTuple{4,DataType},Any}(arrayset, (Bool, Array{Float64,1}, Float64, Int64), Any[Array{Float64,1}]), FCollector[])]), FCollector{Int64,Frame{typeof(+),Tuple{DataType,DataType},Any},FCollector}(95, Frame{typeof(+),Tuple{DataType,DataType},Any}(+, (Int64, Int64), Any[Int64]), FCollector[]), FCollector{Int64,Frame{typeof(iterate),Tuple{DataType,DataType},Any},FCollector}(95, Frame{typeof(iterate),Tuple{DataType,DataType},Any}(iterate, (Generator{UnitRange{Int64},typeof(g)}, Int64), Any[Nothing]), FCollector[]), FCollector{Int64,Frame{typeof(===),Tuple{DataType,DataType},Any},FCollector}(95, Frame{typeof(===),Tuple{DataType,DataType},Any}(===, (Nothing, Nothing), Any[Bool]), FCollector[])])])]), FCollector{Int64,Frame{typeof(sum),Tuple{DataType},Any},FCollector}(98, Frame{typeof(sum),Tuple{DataType},Any}(sum, (Array{Float64,1},), Any[Float64]), FCollector[])])])"
      ]
     },
     "execution_count": 17,
     "metadata": {},
     "output_type": "execute_result"
    }
   ],
   "source": [
    "typegraph(Main.test,100)"
   ]
  },
  {
   "cell_type": "code",
   "execution_count": 20,
   "metadata": {},
   "outputs": [
    {
     "data": {
      "text/plain": [
       "Frame{Nothing,Tuple{},Any}(nothing, (), Any[])"
      ]
     },
     "execution_count": 20,
     "metadata": {},
     "output_type": "execute_result"
    }
   ],
   "source": [
    "extractor.frame"
   ]
  },
  {
   "cell_type": "code",
   "execution_count": 28,
   "metadata": {},
   "outputs": [
    {
     "data": {
      "text/plain": [
       "foo (generic function with 1 method)"
      ]
     },
     "execution_count": 28,
     "metadata": {},
     "output_type": "execute_result"
    }
   ],
   "source": [
    "function foo(a,b)\n",
    "    a + b\n",
    "end"
   ]
  },
  {
   "cell_type": "code",
   "execution_count": 31,
   "metadata": {},
   "outputs": [
    {
     "data": {
      "text/plain": [
       "CodeInfo(\n",
       "\u001b[90m\u001b[77G│\u001b[1G\u001b[39m\u001b[90m2 \u001b[39m1 ─ %1 = a + b\n",
       "\u001b[90m\u001b[77G│\u001b[1G\u001b[39m\u001b[90m  \u001b[39m└──      return %1\n",
       ")"
      ]
     },
     "execution_count": 31,
     "metadata": {},
     "output_type": "execute_result"
    }
   ],
   "source": [
    "@code_lowered foo(1,2)"
   ]
  },
  {
   "cell_type": "code",
   "execution_count": 32,
   "metadata": {},
   "outputs": [
    {
     "data": {
      "text/plain": [
       "CodeInfo(\n",
       "\u001b[90m\u001b[77G│\u001b[1G\u001b[39m\u001b[90m53 \u001b[39m1 ─ %1 = (Base.add_int)(x, y)\n",
       "\u001b[90m\u001b[77G│\u001b[1G\u001b[39m\u001b[90m   \u001b[39m└──      return %1\n",
       ")"
      ]
     },
     "execution_count": 32,
     "metadata": {},
     "output_type": "execute_result"
    }
   ],
   "source": [
    "@code_lowered 1 + 2 "
   ]
  }
 ],
 "metadata": {
  "kernelspec": {
   "display_name": "Julia 1.0.3",
   "language": "julia",
   "name": "julia-1.0"
  },
  "language_info": {
   "file_extension": ".jl",
   "mimetype": "application/julia",
   "name": "julia",
   "version": "1.0.3"
  }
 },
 "nbformat": 4,
 "nbformat_minor": 2
}
