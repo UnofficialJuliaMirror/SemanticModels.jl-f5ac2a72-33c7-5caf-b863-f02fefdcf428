{
 "cells": [
  {
   "cell_type": "markdown",
   "metadata": {},
   "source": [
    "### Example\n",
    "This is an example of how we will be returning the type of the args to a function."
   ]
  },
  {
   "cell_type": "code",
   "execution_count": 1,
   "metadata": {},
   "outputs": [],
   "source": [
    "using Cassette;"
   ]
  },
  {
   "cell_type": "code",
   "execution_count": 2,
   "metadata": {},
   "outputs": [],
   "source": [
    "Cassette.@context typCtx\n",
    "\n",
    "function Cassette.overdub(ctx::typCtx, args...)\n",
    "    if Cassette.canrecurse(ctx, args...)\n",
    "        newctx = Cassette.similarcontext(ctx, metadata = ctx.metadata)\n",
    "        return Cassette.recurse(newctx, args...)\n",
    "    else\n",
    "        return Cassette.fallback(ctx, args...)\n",
    "    end\n",
    "end"
   ]
  },
  {
   "cell_type": "code",
   "execution_count": 3,
   "metadata": {},
   "outputs": [
    {
     "data": {
      "text/plain": [
       "calculator (generic function with 1 method)"
      ]
     },
     "execution_count": 3,
     "metadata": {},
     "output_type": "execute_result"
    }
   ],
   "source": [
    "function calculator(a,b)\n",
    "    a + b\n",
    "end "
   ]
  },
  {
   "cell_type": "code",
   "execution_count": 4,
   "metadata": {},
   "outputs": [],
   "source": [
    "Cassette.overdub(::typCtx, f, args...) = println(typeof(args))"
   ]
  },
  {
   "cell_type": "code",
   "execution_count": 5,
   "metadata": {},
   "outputs": [
    {
     "name": "stdout",
     "output_type": "stream",
     "text": [
      "Tuple{Float64,Int64}\n"
     ]
    }
   ],
   "source": [
    "Cassette.overdub(typCtx(),calculator,19.5,3)"
   ]
  },
  {
   "cell_type": "code",
   "execution_count": 6,
   "metadata": {},
   "outputs": [
    {
     "name": "stdout",
     "output_type": "stream",
     "text": [
      "Tuple{Int64,Int64}\n"
     ]
    }
   ],
   "source": [
    "Cassette.overdub(typCtx(),calculator,19,2)"
   ]
  },
  {
   "cell_type": "markdown",
   "metadata": {},
   "source": [
    "### Use Case\n",
    "In this example, we will be using the raw text of the SIR model as a test case."
   ]
  },
  {
   "cell_type": "code",
   "execution_count": 9,
   "metadata": {},
   "outputs": [],
   "source": [
    "using DifferentialEquations\n",
    "\n",
    "function sir_ode(du, u, p, t)  \n",
    "    #Infected per-Capita Rate\n",
    "    β = p[1]\n",
    "    #Recover per-capita rate\n",
    "    γ = p[2]\n",
    "    \n",
    "    #Susceptible Individuals\n",
    "    S = u[1]\n",
    "    #Infected by Infected Individuals\n",
    "    I = u[2]\n",
    "   \n",
    "    du[1] = -β * S * I\n",
    "    du[2] = β * S * I - γ * I\n",
    "    du[3] = γ * I\n",
    "end\n",
    "\n",
    "#Pram = (Infected Per Capita Rate, Recover Per Capita Rate)\n",
    "pram = [0.1,0.05]\n",
    "#Initial Prams = (Susceptible Individuals, Infected by Infected Individuals)\n",
    "init = [0.99,0.01,0.0]\n",
    "tspan = (0.0,200.0)\n",
    "\n",
    "sir_prob = ODEProblem(sir_ode, init, tspan, pram)\n",
    "\n",
    "sir_sol = solve(sir_prob, saveat = 0.1);\n",
    "\n",
    "# Visualization\n",
    "using Plots\n",
    "plot(sir_sol,xlabel=\"Time\",ylabel=\"Number\")\n",
    "\n",
    "function sir_ode2(du,u,p,t)\n",
    "    S,I,R = u\n",
    "    b,g = p\n",
    "    du[1] = -b*S*I\n",
    "    du[2] = b*S*I-g*I\n",
    "    du[3] = g*I\n",
    "end\n",
    "\n",
    "parms = [0.1,0.05]\n",
    "init = [0.99,0.01,0.0]\n",
    "tspan = (0.0,200.0)\n",
    "\n",
    "sir_prob2 = ODEProblem(sir_ode2,init,tspan,parms)\n",
    "sir_sol = solve(sir_prob2,saveat = 0.1);"
   ]
  },
  {
   "cell_type": "code",
   "execution_count": 11,
   "metadata": {},
   "outputs": [
    {
     "name": "stdout",
     "output_type": "stream",
     "text": [
      "Tuple{typeof(sir_ode),Array{Float64,1},Tuple{Float64,Float64},Array{Float64,1}}\n"
     ]
    }
   ],
   "source": [
    "Cassette.overdub(typCtx(),ODEProblem,sir_ode,init,tspan,parms)"
   ]
  }
 ],
 "metadata": {
  "kernelspec": {
   "display_name": "Julia 1.0.3",
   "language": "julia",
   "name": "julia-1.0"
  },
  "language_info": {
   "file_extension": ".jl",
   "mimetype": "application/julia",
   "name": "julia",
   "version": "1.0.3"
  }
 },
 "nbformat": 4,
 "nbformat_minor": 2
}
