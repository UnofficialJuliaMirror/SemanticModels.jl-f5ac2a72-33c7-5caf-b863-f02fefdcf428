{
 "cells": [
  {
   "cell_type": "markdown",
   "metadata": {},
   "source": [
    "# macrotools"
   ]
  },
  {
   "cell_type": "code",
   "execution_count": 2,
   "metadata": {},
   "outputs": [
    {
     "data": {
      "text/plain": [
       "inexpr"
      ]
     },
     "execution_count": 2,
     "metadata": {},
     "output_type": "execute_result"
    }
   ],
   "source": [
    "\"\"\"\n",
    "    postwalk(f, expr)\n",
    "Applies `f` to each node in the given expression tree, returning the result.\n",
    "`f` sees expressions *after* they have been transformed by the walk. See also\n",
    "`prewalk`.\n",
    "\"\"\"\n",
    "postwalk(f, x) = walk(x, x -> postwalk(f, x), f)\n",
    "\n",
    "\"\"\"\n",
    "    prewalk(f, expr)\n",
    "Applies `f` to each node in the given expression tree, returning the result.\n",
    "`f` sees expressions *before* they have been transformed by the walk, and the\n",
    "walk will be applied to whatever `f` returns.\n",
    "This makes `prewalk` somewhat prone to infinite loops; you probably want to try\n",
    "`postwalk` first.\n",
    "\"\"\"\n",
    "prewalk(f, x)  = walk(f(x), x -> prewalk(f, x), identity)\n",
    "\n",
    "replace(ex, s, s′) = prewalk(x -> x == s ? s′ : x, ex)\n",
    "\n",
    "\"\"\"\n",
    "    inexpr(expr, x)\n",
    "Simple expression match; will return `true` if the expression `x` can be found\n",
    "inside `expr`.\n",
    "    inexpr(:(2+2), 2) == true\n",
    "\"\"\"\n",
    "function inexpr(ex, x)\n",
    "  result = false\n",
    "  postwalk(ex) do y\n",
    "    if y == x\n",
    "      result = true\n",
    "    end\n",
    "    return y\n",
    "  end\n",
    "  return result\n",
    "end"
   ]
  },
  {
   "cell_type": "markdown",
   "metadata": {},
   "source": [
    "# modeltool"
   ]
  },
  {
   "cell_type": "code",
   "execution_count": 3,
   "metadata": {},
   "outputs": [
    {
     "data": {
      "text/plain": [
       "setarg!"
      ]
     },
     "execution_count": 3,
     "metadata": {},
     "output_type": "execute_result"
    }
   ],
   "source": [
    "\"\"\"    bodyblock(expr::Expr)\n",
    "get the array of args representing the body of a function definition.\n",
    "\"\"\"\n",
    "function bodyblock(expr::Expr)\n",
    "    expr.head == :function || error(\"$expr is not a function definition\")\n",
    "    return expr.args[2].args\n",
    "end\n",
    "\n",
    "\"\"\"    funclines(expr::Expr, s::Symbol)\n",
    "clean up the lines of a function definition for presentation\n",
    "\"\"\"\n",
    "function funclines(expr::Expr, s::Symbol)\n",
    "    q = Expr(:block)\n",
    "    isexpr(x) = isa(x, Expr)\n",
    "    q.args = (filter(isexpr, findfunc(expr, s))[end]\n",
    "              |> bodyblock\n",
    "              |> arr -> filter(x->!isa(x, LineNumberNode),arr))\n",
    "    return q\n",
    "end\n",
    "\"\"\"    argslist(expr::Expr)\n",
    "get the array of args representing the arguments of a defined function.\n",
    "the first element of this list is the function name\n",
    "See also [`bodyblock`](@ref), [`pusharg!`](@ref),\n",
    "\"\"\"\n",
    "function argslist(expr::Expr)\n",
    "    expr.head == :function || error(\"$expr is not a function definition\")\n",
    "    return expr.args[1].args\n",
    "end\n",
    "\n",
    "\"\"\"    pusharg!(expr::Expr, s::Symbol)\n",
    "push a new argument onto the definition of a function.\n",
    "See also [`argslist`](@ref), [`setarg!`](@ref)\n",
    "\"\"\"\n",
    "function pusharg!(ex::Expr, s::Symbol)\n",
    "    ex.head == :function || error(\"ex is not a function definition\")\n",
    "    push!(argslist(ex), s)\n",
    "    return ex\n",
    "end\n",
    "\n",
    "\"\"\"    setarg!(expr::Expr, s::Symbol)\n",
    "replace the argument in a function call.\n",
    "See also [`argslist`](@ref), [`pusharg!`](@ref)\n",
    "\"\"\"\n",
    "function setarg!(ex::Expr, old, new)\n",
    "    ex.head == :call || error(\"ex is not a function call\")\n",
    "    for (i, x) in enumerate(ex.args)\n",
    "        if x == old\n",
    "            ex.args[i] = new\n",
    "        end\n",
    "    end\n",
    "    return ex\n",
    "end"
   ]
  },
  {
   "cell_type": "markdown",
   "metadata": {},
   "source": [
    "# findfunc"
   ]
  },
  {
   "cell_type": "code",
   "execution_count": 4,
   "metadata": {},
   "outputs": [
    {
     "data": {
      "text/plain": [
       "replacevar (generic function with 2 methods)"
      ]
     },
     "execution_count": 4,
     "metadata": {},
     "output_type": "execute_result"
    }
   ],
   "source": [
    "\"\"\"    findfunc(expr::Expr, name::Symbol)\n",
    "\n",
    "findfunc walks the AST of `expr` to find the definition of function called `name`.\n",
    "\n",
    "This function returns a reference to the original expression so that you can modify it inplace\n",
    "and is intended to help users rewrite the definitions of functions for generating new models.\n",
    "\"\"\"\n",
    "function findfunc(expr::Expr, name::Symbol)\n",
    "    try\n",
    "        expr.head\n",
    "    catch\n",
    "        return nothing\n",
    "    end\n",
    "\n",
    "    if expr.head == :module\n",
    "        return findfunc(expr.args[3], name)\n",
    "    end\n",
    "    if expr.head == :function\n",
    "        # normal function definition syntax ie. function f(x); return y end\n",
    "        if expr.args[1].args[1] == name\n",
    "            return expr\n",
    "        end\n",
    "        return findfunc(expr.args, name)\n",
    "    end\n",
    "    if expr.head == :(=)\n",
    "        if isa(expr.args[1], Symbol)\n",
    "            return nothing\n",
    "        end\n",
    "\n",
    "        if expr.args[1].head == :call\n",
    "            # inline function definition ie. f(x) = y\n",
    "            if expr.args[1].args[1] == name\n",
    "                return expr\n",
    "            end\n",
    "            return findfunc(expr.args, name)\n",
    "        end\n",
    "    end\n",
    "    if expr.head == :block\n",
    "        return findfunc(expr.args, name)\n",
    "    end\n",
    "    return nothing\n",
    "end\n",
    "\n",
    "function findfunc(expr::LineNumberNode, s::Symbol)\n",
    "    return nothing\n",
    "end\n",
    "\n",
    "function findfunc(args::Vector{Any}, name::Symbol)\n",
    "    return filter(x->x!=nothing, [findfunc(a,name) for a in args])\n",
    "end\n",
    "\n",
    "\n",
    "walk(x, inner, outer) = outer(x)\n",
    "walk(x::Expr, inner, outer) = outer(Expr(x.head, map(inner, x.args)...))\n",
    "\n",
    "\"\"\"    findassign(expr::Expr, name::Symbol)\n",
    "\n",
    "findassign walks the AST of `expr` to find the assignments to a variable called `name`.\n",
    "\n",
    "This function returns a reference to the original expression so that you can modify it inplace\n",
    "and is intended to help users rewrite expressions for generating new models.\n",
    "\n",
    "See also: [`findfunc`](@ref).\n",
    "\"\"\"\n",
    "function findassign(expr::Expr, name::Symbol)\n",
    "    # g(y) = filter(x->x!=nothing, y)\n",
    "    matches = Expr[]\n",
    "    g(y::Any) = :()\n",
    "    f(x::Any) = :()\n",
    "    f(x::Expr) = begin\n",
    "        if x.head == :(=)\n",
    "            if x.args[1] == name\n",
    "                push!(matches, x)\n",
    "                return x\n",
    "            end\n",
    "\n",
    "        end\n",
    "        walk(x, f, g)\n",
    "    end\n",
    "    walk(expr, f, g)\n",
    "    return matches\n",
    "end\n",
    "\n",
    "function replacevar(expr::Expr, name::Symbol, newname::Symbol)\n",
    "    g(x::Any) = x\n",
    "    f(x::Any) = x\n",
    "    f(x::Symbol) = (x==name ? newname : x)\n",
    "    f(x::Expr) = walk(x, f, g)\n",
    "    return walk(expr, f, g)\n",
    "end\n",
    "\n",
    "function replacevar(expr::Expr, tr::Dict{Symbol, Any})\n",
    "    g(x::Any) = x\n",
    "    f(x::Any) = x\n",
    "    f(x::Symbol) = get(tr, x, x)\n",
    "    f(x::Expr) = walk(x, f, g)\n",
    "    return walk(expr, f, g)\n",
    "end"
   ]
  },
  {
   "cell_type": "markdown",
   "metadata": {},
   "source": [
    "# parsers"
   ]
  },
  {
   "cell_type": "code",
   "execution_count": 5,
   "metadata": {},
   "outputs": [
    {
     "data": {
      "text/plain": [
       "recurse (generic function with 1 method)"
      ]
     },
     "execution_count": 5,
     "metadata": {},
     "output_type": "execute_result"
    }
   ],
   "source": [
    "using Base.Meta\n",
    "import Base.push!\n",
    "\n",
    "\"\"\"    parsefile(path)\n",
    "\n",
    "read in a julia source file and parse it.\n",
    "\n",
    "Note: If the top level is not a simple expression or module definition the file is wrapped in a Module named modprefix.\n",
    "\"\"\"\n",
    "function parsefile(path, modprefix=\"Modeling\")\n",
    "    s = read(path, String)\n",
    "    # open(path) do fp\n",
    "    #     s = read(String, fp)\n",
    "    # end\n",
    "    try\n",
    "        expr = Base.Meta.parse(s)\n",
    "        return expr\n",
    "    catch\n",
    "        s = \"module $modprefix\\n$s \\nend #module $modprefix\"\n",
    "        expr = Base.Meta.parse(s)\n",
    "        return expr\n",
    "    end\n",
    "end\n",
    "\n",
    "\"\"\"    AbstractCollector\n",
    "\n",
    "subtypes of AbstractCollector support extracting and collecting information\n",
    "from input sources.\n",
    "\"\"\"\n",
    "abstract type AbstractCollector end\n",
    "\n",
    "\n",
    "\"\"\"    FuncCollector{T} <: AbstractCollector\n",
    "\n",
    "collects function definitions and names\n",
    "\"\"\"\n",
    "struct FuncCollector{T} <: AbstractCollector\n",
    "    defs::T\n",
    "end\n",
    "\n",
    "function push!(fc::AbstractCollector, expr::LineNumberNode)\n",
    "    return nothing\n",
    "end\n",
    "\n",
    "function push!(fc::FuncCollector, expr::Expr)\n",
    "    if expr.head == :function\n",
    "        push!(fc.defs, expr.args[1] => expr.args[2])\n",
    "    end\n",
    "end\n",
    "\n",
    "\"\"\"   MetaCollector{T,U,V,W} <: AbstractCollector\n",
    "\n",
    "collects multiple pieces of information such as\n",
    "\n",
    "- exprs: expressions\n",
    "- fc: functions\n",
    "- vc: variable assignments\n",
    "- modc: module imports\n",
    "\"\"\"\n",
    "struct MetaCollector{T,U,V,W} <: AbstractCollector\n",
    "    exprs::V\n",
    "    fc::T\n",
    "    vc::U\n",
    "    modc::W\n",
    "end\n",
    "\n",
    "function push!(mc::MetaCollector, expr::Expr)\n",
    "    push!(mc.exprs, expr)\n",
    "    push!(mc.fc, expr)\n",
    "    if expr.head == :(=)\n",
    "        @debug \"pushing into vc\" expr=expr\n",
    "        push!(mc.vc, expr.args[1]=>expr.args[2])\n",
    "    elseif expr.head == :using\n",
    "        push!(mc.modc, expr.args[1].args)\n",
    "    else\n",
    "        @info \"unknown expr type for metacollector\"\n",
    "        @show expr\n",
    "    end\n",
    "end\n",
    "\n",
    "\n",
    "\"\"\"    funcs(body)\n",
    "\n",
    "collect the function definitions from a module expression.\n",
    "\"\"\"\n",
    "function funcs(body)\n",
    "    fs = FuncCollector([])\n",
    "    for subexpr in body\n",
    "        push!(fs, subexpr)\n",
    "    end\n",
    "    return fs\n",
    "end\n",
    "\n",
    "\"\"\"    defs(body)\n",
    "\n",
    "collect the function definitions and variable assignments from a module expression.\n",
    "\"\"\"\n",
    "function defs(body)\n",
    "    # fs = funcs(body)\n",
    "    mc = MetaCollector(Any[], FuncCollector([]), Any[], Any[])\n",
    "    for expr in body\n",
    "        push!(mc, expr)\n",
    "    end\n",
    "    return mc\n",
    "end\n",
    "\n",
    "function recurse(mc::AbstractCollector)\n",
    "    subdefs = Any[]\n",
    "    funcdefs = mc.fc.defs\n",
    "    @show funcdefs\n",
    "    for def in funcdefs\n",
    "        funcname = def[1]\n",
    "        funcquote = def[2]\n",
    "        push!(subdefs, funcname=>defs(funcquote.args))\n",
    "    end\n",
    "    return subdefs\n",
    "end"
   ]
  },
  {
   "cell_type": "markdown",
   "metadata": {},
   "source": [
    "# call finder "
   ]
  },
  {
   "cell_type": "code",
   "execution_count": 35,
   "metadata": {},
   "outputs": [
    {
     "name": "stdout",
     "output_type": "stream",
     "text": [
      "Expr\n",
      "  head: Symbol module\n",
      "  args: Array{Any}((3,))\n",
      "    1: Bool true\n",
      "    2: Symbol test\n",
      "    3: Expr\n",
      "      head: Symbol block\n",
      "      args: Array{Any}((9,))\n",
      "        1: LineNumberNode\n",
      "          line: Int64 2\n",
      "          file: Symbol none\n",
      "        2: LineNumberNode\n",
      "          line: Int64 3\n",
      "          file: Symbol none\n",
      "        3: Expr\n",
      "          head: Symbol function\n",
      "          args: Array{Any}((2,))\n",
      "            1: Expr\n",
      "              head: Symbol call\n",
      "              args: Array{Any}((2,))\n",
      "                1: Symbol a\n",
      "                2: Symbol x\n",
      "            2: Expr\n",
      "              head: Symbol block\n",
      "              args: Array{Any}((2,))\n",
      "                1: LineNumberNode\n",
      "                2: Expr\n",
      "        4: LineNumberNode\n",
      "          line: Int64 6\n",
      "          file: Symbol none\n",
      "        5: Expr\n",
      "          head: Symbol function\n",
      "          args: Array{Any}((2,))\n",
      "            1: Expr\n",
      "              head: Symbol call\n",
      "              args: Array{Any}((2,))\n",
      "                1: Symbol b\n",
      "                2: Symbol y\n",
      "            2: Expr\n",
      "              head: Symbol block\n",
      "              args: Array{Any}((2,))\n",
      "                1: LineNumberNode\n",
      "                2: Expr\n",
      "        6: LineNumberNode\n",
      "          line: Int64 9\n",
      "          file: Symbol none\n",
      "        7: Expr\n",
      "          head: Symbol function\n",
      "          args: Array{Any}((2,))\n",
      "            1: Expr\n",
      "              head: Symbol call\n",
      "              args: Array{Any}((2,))\n",
      "                1: Symbol main\n",
      "                2: Symbol x\n",
      "            2: Expr\n",
      "              head: Symbol block\n",
      "              args: Array{Any}((2,))\n",
      "                1: LineNumberNode\n",
      "                2: Expr\n",
      "        8: LineNumberNode\n",
      "          line: Int64 12\n",
      "          file: Symbol none\n",
      "        9: Expr\n",
      "          head: Symbol call\n",
      "          args: Array{Any}((2,))\n",
      "            1: Symbol main\n",
      "            2: Int64 1\n"
     ]
    }
   ],
   "source": [
    "s = \n",
    "\"\n",
    "module test\n",
    "   function a(x)\n",
    "       return x+2\n",
    "   end\n",
    "   function b(y)\n",
    "      return y/2\n",
    "   end\n",
    "   function main(x)\n",
    "       println(b(a(x)))\n",
    "   end\n",
    "   main(1)\n",
    "end\n",
    "\"\n",
    "ex = Meta.parse(s)\n",
    "dump(ex)"
   ]
  },
  {
   "cell_type": "markdown",
   "metadata": {},
   "source": [
    "# goal code"
   ]
  },
  {
   "cell_type": "code",
   "execution_count": 25,
   "metadata": {},
   "outputs": [
    {
     "name": "stdout",
     "output_type": "stream",
     "text": [
      "Expr\n",
      "  head: Symbol module\n",
      "  args: Array{Any}((3,))\n",
      "    1: Bool true\n",
      "    2: Symbol test\n",
      "    3: Expr\n",
      "      head: Symbol block\n",
      "      args: Array{Any}((9,))\n",
      "        1: LineNumberNode\n",
      "          line: Int64 2\n",
      "          file: Symbol none\n",
      "        2: LineNumberNode\n",
      "          line: Int64 3\n",
      "          file: Symbol none\n",
      "        3: Expr\n",
      "          head: Symbol =\n",
      "          args: Array{Any}((2,))\n",
      "            1: Symbol d\n",
      "            2: Expr\n",
      "              head: Symbol call\n",
      "              args: Array{Any}((1,))\n",
      "                1: Symbol Dict\n",
      "        4: LineNumberNode\n",
      "          line: Int64 4\n",
      "          file: Symbol none\n",
      "        5: Expr\n",
      "          head: Symbol function\n",
      "          args: Array{Any}((2,))\n",
      "            1: Expr\n",
      "              head: Symbol call\n",
      "              args: Array{Any}((3,))\n",
      "                1: Symbol add\n",
      "                2: Symbol a\n",
      "                3: Symbol b\n",
      "            2: Expr\n",
      "              head: Symbol block\n",
      "              args: Array{Any}((6,))\n",
      "                1: LineNumberNode\n",
      "                2: Expr\n",
      "                3: LineNumberNode\n",
      "                4: Expr\n",
      "                5: LineNumberNode\n",
      "                6: Expr\n",
      "        6: LineNumberNode\n",
      "          line: Int64 9\n",
      "          file: Symbol none\n",
      "        7: Expr\n",
      "          head: Symbol call\n",
      "          args: Array{Any}((3,))\n",
      "            1: Symbol add\n",
      "            2: Int64 1\n",
      "            3: Int64 2\n",
      "        8: LineNumberNode\n",
      "          line: Int64 10\n",
      "          file: Symbol none\n",
      "        9: Expr\n",
      "          head: Symbol call\n",
      "          args: Array{Any}((3,))\n",
      "            1: Symbol push!\n",
      "            2: Symbol d\n",
      "            3: Expr\n",
      "              head: Symbol call\n",
      "              args: Array{Any}((3,))\n",
      "                1: Symbol =>\n",
      "                2: QuoteNode\n",
      "                3: Expr\n"
     ]
    }
   ],
   "source": [
    "s = \"\n",
    "module test\n",
    "d = Dict()\n",
    "function add(a,b)\n",
    "    push!(d,(:a=>typeof(a)))\n",
    "    push!(d,(:b=>typeof(b)))\n",
    "    a + b\n",
    "end\n",
    "add(1,2)\n",
    "push!(d,(:add=>typeof(add(1,2))))\n",
    "end\n",
    "\"\n",
    "e = Meta.parse(s)\n",
    "dump(e)"
   ]
  },
  {
   "cell_type": "code",
   "execution_count": 36,
   "metadata": {},
   "outputs": [],
   "source": [
    "s = \"\n",
    "module test\n",
    "function add(a,b)\n",
    "    a + b\n",
    "end\n",
    "println(add(1,2))\n",
    "end\n",
    "\"\n",
    "\n",
    "e = Meta.parse(s);"
   ]
  },
  {
   "cell_type": "code",
   "execution_count": 37,
   "metadata": {},
   "outputs": [
    {
     "data": {
      "text/plain": [
       "recurser (generic function with 1 method)"
      ]
     },
     "execution_count": 37,
     "metadata": {},
     "output_type": "execute_result"
    }
   ],
   "source": [
    "function recurser(expr::Expr)\n",
    "    out = Expr(expr.head)\n",
    "    for internal in expr.args\n",
    "        if typeof(internal) == Expr\n",
    "            if internal.head == :call\n",
    "                push!(out.args,internal)\n",
    "            else\n",
    "                push!(out.args,recurser(internal))\n",
    "            end\n",
    "        else\n",
    "            push!(out.args,internal)\n",
    "        end\n",
    "    end #for\n",
    "    return out\n",
    "end # recurser "
   ]
  },
  {
   "cell_type": "code",
   "execution_count": 38,
   "metadata": {},
   "outputs": [
    {
     "data": {
      "text/plain": [
       ":(module test\n",
       "  #= none:2 =#\n",
       "  #= none:3 =#\n",
       "  function add(a, b)\n",
       "      #= none:4 =#\n",
       "      a + b\n",
       "  end\n",
       "  #= none:6 =#\n",
       "  println(add(1, 2))\n",
       "  end)"
      ]
     },
     "execution_count": 38,
     "metadata": {},
     "output_type": "execute_result"
    }
   ],
   "source": [
    "function typegraph(expr::Expr)\n",
    "    out = Expr(expr.head)\n",
    "    for internal in expr.args\n",
    "        if typeof(internal) == Expr\n",
    "            if internal.head == :call\n",
    "                push!(out.args,internal)\n",
    "            else\n",
    "                push!(out.args,recurser(internal))\n",
    "            end\n",
    "        else\n",
    "            push!(out.args,internal)\n",
    "        end\n",
    "    end #for\n",
    "    return out\n",
    "end\n",
    "\n",
    "d = typegraph(e)"
   ]
  },
  {
   "cell_type": "code",
   "execution_count": 39,
   "metadata": {},
   "outputs": [
    {
     "data": {
      "text/plain": [
       "true"
      ]
     },
     "execution_count": 39,
     "metadata": {},
     "output_type": "execute_result"
    }
   ],
   "source": []
  },
  {
   "cell_type": "code",
   "execution_count": 353,
   "metadata": {},
   "outputs": [
    {
     "name": "stdout",
     "output_type": "stream",
     "text": [
      "out = getfield(Main, Symbol(\"#f#240\")){Dict{Any,Any},getfield(Main, Symbol(\"#g#239\"))}(Dict{Any,Any}(), getfield(Main, Symbol(\"#g#239\"))(), Core.Box(getfield(Main, Symbol(\"#f#240\")){Dict{Any,Any},getfield(Main, Symbol(\"#g#239\"))}(#= circular reference @-2 =#)))\n"
     ]
    },
    {
     "data": {
      "text/plain": [
       "Dict{Any,Any} with 67 entries:\n",
       "  :map             => DataType[Expr, Expr]\n",
       "  :sam             => DataType[Expr]\n",
       "  :(counts[i])     => DataType[Int64]\n",
       "  :fill            => DataType[QuoteNode, Symbol]\n",
       "  :(#= none:39 =#) => DataType[Expr]\n",
       "  :(a = sm.agents) => DataType[Expr]\n",
       "  :((i, a))        => DataType[Expr]\n",
       "  :(#= none:22 =#) => DataType[Expr, LineNumberNode, Expr, LineNumberNode, Expr…\n",
       "  :counts          => DataType[Expr]\n",
       "  :(d[s])          => DataType[Symbol]\n",
       "  :sm              => DataType[QuoteNode]\n",
       "  :d               => DataType[Symbol]\n",
       "  :(x...)          => DataType[Expr]\n",
       "  :deepcopy        => DataType[Symbol]\n",
       "  :StateModel      => DataType[Expr, Symbol, Symbol]\n",
       "  :(#= none:6 =#)  => DataType[Symbol, LineNumberNode, Symbol, LineNumberNode, …\n",
       "  :newsam          => DataType[Symbol]\n",
       "  :Pair            => DataType[Expr]\n",
       "  :(sm.agents)     => DataType[Symbol]\n",
       "  :zip             => DataType[Expr, Symbol]\n",
       "  :(rand(Bool))    => DataType[QuoteNode, QuoteNode]\n",
       "  :(sm.agents[i])  => DataType[Expr]\n",
       "  :(#= none:1 =#)  => DataType[LineNumberNode, Expr, LineNumberNode, Expr, Line…\n",
       "  :(#= none:14 =#) => DataType[Expr]\n",
       "  :(#= none:12 =#) => DataType[Expr, LineNumberNode, Expr]\n",
       "  ⋮                => ⋮"
      ]
     },
     "execution_count": 353,
     "metadata": {},
     "output_type": "execute_result"
    }
   ],
   "source": [
    "expr = parsefile(\"agentbased.jl\")\n",
    "typegraph(expr)"
   ]
  },
  {
   "cell_type": "code",
   "execution_count": 346,
   "metadata": {},
   "outputs": [],
   "source": [
    "using MetaGraphs;\n",
    "using LightGraphs;"
   ]
  },
  {
   "cell_type": "code",
   "execution_count": null,
   "metadata": {},
   "outputs": [],
   "source": [
    "function buildgraph(funcmap)\n",
    "    mg = MetaDiGraph()\n",
    "    for k\n",
    "\n",
    "end"
   ]
  }
 ],
 "metadata": {
  "kernelspec": {
   "display_name": "Julia 1.0.3",
   "language": "julia",
   "name": "julia-1.0"
  },
  "language_info": {
   "file_extension": ".jl",
   "mimetype": "application/julia",
   "name": "julia",
   "version": "1.0.3"
  }
 },
 "nbformat": 4,
 "nbformat_minor": 2
}
