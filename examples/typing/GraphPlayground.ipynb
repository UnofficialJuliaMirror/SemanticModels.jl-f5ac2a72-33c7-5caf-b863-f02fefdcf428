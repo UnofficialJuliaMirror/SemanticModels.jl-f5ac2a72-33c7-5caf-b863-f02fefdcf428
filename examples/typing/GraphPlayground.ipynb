{
 "cells": [
  {
   "cell_type": "code",
   "execution_count": 13,
   "metadata": {},
   "outputs": [],
   "source": [
    "using LightGraphs;\n",
    "using MetaGraphs;\n",
    "using GraphPlot;"
   ]
  },
  {
   "cell_type": "code",
   "execution_count": 3,
   "metadata": {},
   "outputs": [
    {
     "data": {
      "text/plain": [
       "{0, 0} directed Int64 metagraph with Float64 weights defined by :weight (default weight 1.0)"
      ]
     },
     "execution_count": 3,
     "metadata": {},
     "output_type": "execute_result"
    }
   ],
   "source": [
    "g = MetaDiGraph()"
   ]
  },
  {
   "cell_type": "code",
   "execution_count": 18,
   "metadata": {},
   "outputs": [
    {
     "data": {
      "text/plain": [
       "true"
      ]
     },
     "execution_count": 18,
     "metadata": {},
     "output_type": "execute_result"
    }
   ],
   "source": [
    "add_vertex!(g,Dict(:name=>:fish))"
   ]
  },
  {
   "cell_type": "code",
   "execution_count": 23,
   "metadata": {},
   "outputs": [
    {
     "data": {
      "text/plain": [
       "Dict{Symbol,Any} with 1 entry:\n",
       "  :name => :fish"
      ]
     },
     "execution_count": 23,
     "metadata": {},
     "output_type": "execute_result"
    }
   ],
   "source": [
    "props(g,3)"
   ]
  },
  {
   "cell_type": "code",
   "execution_count": 34,
   "metadata": {},
   "outputs": [
    {
     "ename": "MethodError",
     "evalue": "MethodError: no method matching set_prop!(::MetaDiGraph{Int64,Float64}, ::Symbol)\nClosest candidates are:\n  set_prop!(::AbstractMetaGraph, ::Symbol, !Matched::Any) at /home/infvie/.julia/packages/MetaGraphs/kAvjf/src/MetaGraphs.jl:298\n  set_prop!(::AbstractMetaGraph, !Matched::Integer, !Matched::Symbol, !Matched::Any) at /home/infvie/.julia/packages/MetaGraphs/kAvjf/src/MetaGraphs.jl:299\n  set_prop!(::AbstractMetaGraph, !Matched::LightGraphs.SimpleGraphs.SimpleEdge, !Matched::Symbol, !Matched::Any) at /home/infvie/.julia/packages/MetaGraphs/kAvjf/src/MetaGraphs.jl:306\n  ...",
     "output_type": "error",
     "traceback": [
      "MethodError: no method matching set_prop!(::MetaDiGraph{Int64,Float64}, ::Symbol)\nClosest candidates are:\n  set_prop!(::AbstractMetaGraph, ::Symbol, !Matched::Any) at /home/infvie/.julia/packages/MetaGraphs/kAvjf/src/MetaGraphs.jl:298\n  set_prop!(::AbstractMetaGraph, !Matched::Integer, !Matched::Symbol, !Matched::Any) at /home/infvie/.julia/packages/MetaGraphs/kAvjf/src/MetaGraphs.jl:299\n  set_prop!(::AbstractMetaGraph, !Matched::LightGraphs.SimpleGraphs.SimpleEdge, !Matched::Symbol, !Matched::Any) at /home/infvie/.julia/packages/MetaGraphs/kAvjf/src/MetaGraphs.jl:306\n  ...",
      "",
      "Stacktrace:",
      " [1] top-level scope at In[34]:1"
     ]
    }
   ],
   "source": [
    "set_prop!(g,:name)"
   ]
  },
  {
   "cell_type": "code",
   "execution_count": 28,
   "metadata": {},
   "outputs": [
    {
     "ename": "MethodError",
     "evalue": "MethodError: no method matching default_index_value(::Int64, ::Symbol, ::Set{Symbol}; exclude=nothing)\nClosest candidates are:\n  default_index_value(::Integer, ::Symbol, !Matched::Set{Any}; exclude) at /home/infvie/.julia/packages/MetaGraphs/kAvjf/src/MetaGraphs.jl:332",
     "output_type": "error",
     "traceback": [
      "MethodError: no method matching default_index_value(::Int64, ::Symbol, ::Set{Symbol}; exclude=nothing)\nClosest candidates are:\n  default_index_value(::Integer, ::Symbol, !Matched::Set{Any}; exclude) at /home/infvie/.julia/packages/MetaGraphs/kAvjf/src/MetaGraphs.jl:332",
      "",
      "Stacktrace:",
      " [1] #set_indexing_prop!#6(::Nothing, ::Function, ::MetaDiGraph{Int64,Float64}, ::Symbol) at /home/infvie/.julia/packages/MetaGraphs/kAvjf/src/MetaGraphs.jl:359",
      " [2] set_indexing_prop!(::MetaDiGraph{Int64,Float64}, ::Symbol) at /home/infvie/.julia/packages/MetaGraphs/kAvjf/src/MetaGraphs.jl:351",
      " [3] top-level scope at In[28]:1"
     ]
    }
   ],
   "source": [
    "set_indexing_prop!(g,:name)"
   ]
  },
  {
   "cell_type": "code",
   "execution_count": 32,
   "metadata": {},
   "outputs": [
    {
     "ename": "MethodError",
     "evalue": "MethodError: no method matching default_index_value(::Int64, ::Symbol, ::Set{Symbol}; exclude=nothing)\nClosest candidates are:\n  default_index_value(::Integer, ::Symbol, !Matched::Set{Any}; exclude) at /home/infvie/.julia/packages/MetaGraphs/kAvjf/src/MetaGraphs.jl:332",
     "output_type": "error",
     "traceback": [
      "MethodError: no method matching default_index_value(::Int64, ::Symbol, ::Set{Symbol}; exclude=nothing)\nClosest candidates are:\n  default_index_value(::Integer, ::Symbol, !Matched::Set{Any}; exclude) at /home/infvie/.julia/packages/MetaGraphs/kAvjf/src/MetaGraphs.jl:332",
      "",
      "Stacktrace:",
      " [1] #set_indexing_prop!#6(::Nothing, ::Function, ::MetaDiGraph{Int64,Float64}, ::Symbol) at /home/infvie/.julia/packages/MetaGraphs/kAvjf/src/MetaGraphs.jl:359",
      " [2] set_indexing_prop!(::MetaDiGraph{Int64,Float64}, ::Symbol) at /home/infvie/.julia/packages/MetaGraphs/kAvjf/src/MetaGraphs.jl:351",
      " [3] top-level scope at In[32]:2"
     ]
    }
   ],
   "source": [
    "set_indexing_prop!(g, :name)"
   ]
  },
  {
   "cell_type": "code",
   "execution_count": 16,
   "metadata": {},
   "outputs": [
    {
     "data": {
      "text/latex": [
       "\\begin{verbatim}\n",
       "add_vertex!(g)\n",
       "\\end{verbatim}\n",
       "Add a new vertex to the graph \\texttt{g}. Return \\texttt{true} if addition was successful.\n",
       "\n",
       "\\section{Examples}\n",
       "\\begin{verbatim}\n",
       "julia> using LightGraphs\n",
       "\n",
       "julia> g = SimpleGraph(Int8(typemax(Int8) - 1))\n",
       "{126, 0} undirected simple Int8 graph\n",
       "\n",
       "julia> add_vertex!(g)\n",
       "true\n",
       "\n",
       "julia> add_vertex!(g)\n",
       "false\n",
       "\\end{verbatim}\n",
       "\\rule{\\textwidth}{1pt}\n",
       "\\begin{verbatim}\n",
       "add_vertex!(g)\n",
       "add_vertex!(g, s, v)\n",
       "add_vertex!(g, d)\n",
       "\n",
       "Add a vertex to MetaGraph `g` with optional property `s` having value `v`,\n",
       "or properties given by an optional Dicitionary `d` mapping symbols to values.\n",
       "\n",
       "return true if the vertex has been added, false otherwise.\n",
       "\\end{verbatim}\n"
      ],
      "text/markdown": [
       "```\n",
       "add_vertex!(g)\n",
       "```\n",
       "\n",
       "Add a new vertex to the graph `g`. Return `true` if addition was successful.\n",
       "\n",
       "# Examples\n",
       "\n",
       "```jldoctest\n",
       "julia> using LightGraphs\n",
       "\n",
       "julia> g = SimpleGraph(Int8(typemax(Int8) - 1))\n",
       "{126, 0} undirected simple Int8 graph\n",
       "\n",
       "julia> add_vertex!(g)\n",
       "true\n",
       "\n",
       "julia> add_vertex!(g)\n",
       "false\n",
       "```\n",
       "\n",
       "---\n",
       "\n",
       "```\n",
       "add_vertex!(g)\n",
       "add_vertex!(g, s, v)\n",
       "add_vertex!(g, d)\n",
       "\n",
       "Add a vertex to MetaGraph `g` with optional property `s` having value `v`,\n",
       "or properties given by an optional Dicitionary `d` mapping symbols to values.\n",
       "\n",
       "return true if the vertex has been added, false otherwise.\n",
       "```\n"
      ],
      "text/plain": [
       "\u001b[36m  add_vertex!(g)\u001b[39m\n",
       "\n",
       "  Add a new vertex to the graph \u001b[36mg\u001b[39m. Return \u001b[36mtrue\u001b[39m if addition was successful.\n",
       "\n",
       "\u001b[1m  Examples\u001b[22m\n",
       "\u001b[1m  ≡≡≡≡≡≡≡≡≡≡\u001b[22m\n",
       "\n",
       "\u001b[36m  julia> using LightGraphs\u001b[39m\n",
       "\u001b[36m  \u001b[39m\n",
       "\u001b[36m  julia> g = SimpleGraph(Int8(typemax(Int8) - 1))\u001b[39m\n",
       "\u001b[36m  {126, 0} undirected simple Int8 graph\u001b[39m\n",
       "\u001b[36m  \u001b[39m\n",
       "\u001b[36m  julia> add_vertex!(g)\u001b[39m\n",
       "\u001b[36m  true\u001b[39m\n",
       "\u001b[36m  \u001b[39m\n",
       "\u001b[36m  julia> add_vertex!(g)\u001b[39m\n",
       "\u001b[36m  false\u001b[39m\n",
       "\n",
       "  ────────────────────────────────────────────────────────────────────────────\n",
       "\n",
       "\u001b[36m  add_vertex!(g)\u001b[39m\n",
       "\u001b[36m  add_vertex!(g, s, v)\u001b[39m\n",
       "\u001b[36m  add_vertex!(g, d)\u001b[39m\n",
       "\u001b[36m  \u001b[39m\n",
       "\u001b[36m  Add a vertex to MetaGraph `g` with optional property `s` having value `v`,\u001b[39m\n",
       "\u001b[36m  or properties given by an optional Dicitionary `d` mapping symbols to values.\u001b[39m\n",
       "\u001b[36m  \u001b[39m\n",
       "\u001b[36m  return true if the vertex has been added, false otherwise.\u001b[39m"
      ]
     },
     "execution_count": 16,
     "metadata": {},
     "output_type": "execute_result"
    }
   ],
   "source": [
    "?add_vertex!()"
   ]
  },
  {
   "cell_type": "code",
   "execution_count": 38,
   "metadata": {},
   "outputs": [
    {
     "data": {
      "text/plain": [
       "Set(Symbol[:name])"
      ]
     },
     "execution_count": 38,
     "metadata": {},
     "output_type": "execute_result"
    }
   ],
   "source": [
    "mg = MetaGraph(100)\n",
    "for i in 1:100\n",
    "    set_prop!(mg, i, :name, \"node$i\")\n",
    "end\n",
    "set_indexing_prop!(mg, :name)"
   ]
  },
  {
   "cell_type": "code",
   "execution_count": null,
   "metadata": {},
   "outputs": [],
   "source": []
  }
 ],
 "metadata": {
  "kernelspec": {
   "display_name": "Julia 1.0.3",
   "language": "julia",
   "name": "julia-1.0"
  },
  "language_info": {
   "file_extension": ".jl",
   "mimetype": "application/julia",
   "name": "julia",
   "version": "1.0.3"
  }
 },
 "nbformat": 4,
 "nbformat_minor": 2
}
