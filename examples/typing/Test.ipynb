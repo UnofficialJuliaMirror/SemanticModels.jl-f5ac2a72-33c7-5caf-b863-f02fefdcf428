{
 "cells": [
  {
   "cell_type": "markdown",
   "metadata": {},
   "source": [
    "# Single File"
   ]
  },
  {
   "cell_type": "code",
   "execution_count": 1,
   "metadata": {},
   "outputs": [
    {
     "name": "stdout",
     "output_type": "stream",
     "text": [
      "loaded\n"
     ]
    }
   ],
   "source": [
    "using SemanticModels.Dubstep\n",
    "using Cassette\n",
    "using LightGraphs\n",
    "using MetaGraphs"
   ]
  },
  {
   "cell_type": "code",
   "execution_count": 2,
   "metadata": {},
   "outputs": [
    {
     "ename": "UndefVarError",
     "evalue": "UndefVarError: ODEProblem not defined",
     "output_type": "error",
     "traceback": [
      "UndefVarError: ODEProblem not defined",
      "",
      "Stacktrace:",
      " [1] top-level scope at In[2]:1"
     ]
    }
   ],
   "source": [
    "Cassette.canrecurse( ctx::TypeCtx, f::typeof(ODEProblem))  = false\n",
    "Cassette.canrecurse( ctx::TypeCtx, f::typeof(solve))  = false\n",
    "Cassette.canrecurse( ctx::TypeCtx, f::typeof(pairs))  = false\n",
    "Cassette.canrecurse( ctx::TypeCtx, f::typeof(Base.vect)) = false\n",
    "Cassette.canrecurse( ctx::TypeCtx, f::typeof(OrdinaryDiffEq.ODECompositeSolution)) = false"
   ]
  },
  {
   "cell_type": "code",
   "execution_count": 2,
   "metadata": {},
   "outputs": [
    {
     "data": {
      "text/plain": [
       "Main.test"
      ]
     },
     "execution_count": 2,
     "metadata": {},
     "output_type": "execute_result"
    }
   ],
   "source": [
    "m = include(\"sir.jl\")"
   ]
  },
  {
   "cell_type": "code",
   "execution_count": 3,
   "metadata": {},
   "outputs": [],
   "source": [
    "using Main.test"
   ]
  },
  {
   "cell_type": "code",
   "execution_count": 52,
   "metadata": {},
   "outputs": [
    {
     "data": {
      "text/plain": [
       "{1474, 1897} directed Int64 metagraph with Float64 weights defined by :weight (default weight 1.0)"
      ]
     },
     "execution_count": 52,
     "metadata": {},
     "output_type": "execute_result"
    }
   ],
   "source": [
    "mg = typegraph(Main.test,100)"
   ]
  },
  {
   "cell_type": "code",
   "execution_count": 7,
   "metadata": {},
   "outputs": [
    {
     "name": "stdout",
     "output_type": "stream",
     "text": [
      "get_prop(mg, edge, :label) = \"missing\"\n",
      "get_prop(mg, edge, :label) = Main.test.main\n",
      "get_prop(mg, edge, :label) = NamedTuple\n",
      "get_prop(mg, edge, :label) = Base.vect\n",
      "get_prop(mg, edge, :label) = tuple\n",
      "get_prop(mg, edge, :label) = length\n",
      "get_prop(mg, edge, :label) = add_int\n",
      "get_prop(mg, edge, :label) = Colon()\n",
      "get_prop(mg, edge, :label) = Base.IteratorSize\n",
      "get_prop(mg, edge, :label) = axes\n",
      "get_prop(mg, edge, :label) = iterate\n",
      "get_prop(mg, edge, :label) = isa\n",
      "get_prop(mg, edge, :label) = isa\n",
      "get_prop(mg, edge, :label) = Core.apply_type\n",
      "get_prop(mg, edge, :label) = similar\n",
      "get_prop(mg, edge, :label) = LinearIndices\n",
      "get_prop(mg, edge, :label) = first\n",
      "get_prop(mg, edge, :label) = ===\n",
      "get_prop(mg, edge, :label) = not_int\n",
      "get_prop(mg, edge, :label) = getfield\n",
      "get_prop(mg, edge, :label) = getindex\n",
      "get_prop(mg, edge, :label) = setindex!\n",
      "get_prop(mg, edge, :label) = iterate\n",
      "get_prop(mg, edge, :label) = iterate\n",
      "get_prop(mg, edge, :label) = ===\n",
      "get_prop(mg, edge, :label) = Base.vect\n",
      "get_prop(mg, edge, :label) = length\n",
      "get_prop(mg, edge, :label) = getindex\n",
      "get_prop(mg, edge, :label) = DiffEqBase.ODEProblem\n",
      "get_prop(mg, edge, :label) = pairs\n",
      "get_prop(mg, edge, :label) = DiffEqBase.#ODEProblem#304\n",
      "get_prop(mg, edge, :label) = Core.apply_type\n",
      "get_prop(mg, edge, :label) = tuple\n",
      "get_prop(mg, edge, :label) = NamedTuple{(:saveat,),T} where T<:Tuple\n",
      "get_prop(mg, edge, :label) = typeof\n",
      "get_prop(mg, edge, :label) = Core.apply_type\n",
      "get_prop(mg, edge, :label) = Core.kwfunc\n",
      "get_prop(mg, edge, :label) = getfield(DiffEqBase, Symbol(\"#kw##solve\"))()\n",
      "get_prop(mg, edge, :label) = DiffEqBase.get_concrete_problem\n",
      "get_prop(mg, edge, :label) = haskey\n",
      "get_prop(mg, edge, :label) = isempty\n",
      "get_prop(mg, edge, :label) = merge\n",
      "get_prop(mg, edge, :label) = isempty\n",
      "get_prop(mg, edge, :label) = Core.kwfunc\n",
      "get_prop(mg, edge, :label) = getfield(DiffEqBase, Symbol(\"#kw##__solve\"))()\n",
      "get_prop(mg, edge, :label) = tuple\n"
     ]
    }
   ],
   "source": [
    "for edge in edges(mg)\n",
    "    @show get_prop(mg,edge,:label)\n",
    "end"
   ]
  },
  {
   "cell_type": "code",
   "execution_count": 8,
   "metadata": {},
   "outputs": [
    {
     "name": "stdout",
     "output_type": "stream",
     "text": [
      "get_prop(mg, vertex, :label) = ()\n",
      "get_prop(mg, vertex, :label) = \"missing\"\n",
      "get_prop(mg, vertex, :label) = OrdinaryDiffEq.ODECompositeSolution{Float64,2,Array{Array{Float64,1},1},Nothing,Nothing,Array{Float64,1},Array{Array{Array{Float64,1},1},1},DiffEqBase.ODEProblem{Array{Float64,1},Tuple{Float64,Float64},true,Array{Float64,1},DiffEqBase.ODEFunction{true,getfield(Main.test, Symbol(\"#sir_ode#1\")),LinearAlgebra.UniformScaling{Bool},Nothing,Nothing,Nothing,Nothing,Nothing,Nothing,Nothing,Nothing},Nothing,DiffEqBase.StandardODEProblem},OrdinaryDiffEq.CompositeAlgorithm{Tuple{OrdinaryDiffEq.Tsit5,OrdinaryDiffEq.Rosenbrock23{0,false,DiffEqBase.LinSolveFactorize{typeof(LinearAlgebra.lu!)},DataType}},OrdinaryDiffEq.AutoSwitch{OrdinaryDiffEq.Tsit5,OrdinaryDiffEq.Rosenbrock23{0,false,DiffEqBase.LinSolveFactorize{typeof(LinearAlgebra.lu!)},DataType},Rational{Int64},Float64}},OrdinaryDiffEq.CompositeInterpolationData{DiffEqBase.ODEFunction{true,getfield(Main.test, Symbol(\"#sir_ode#1\")),LinearAlgebra.UniformScaling{Bool},Nothing,Nothing,Nothing,Nothing,Nothing,Nothing,Nothing,Nothing},Array{Array{Float64,1},1},Array{Float64,1},Array{Array{Array{Float64,1},1},1},OrdinaryDiffEq.CompositeCache{Tuple{OrdinaryDiffEq.Tsit5Cache{Array{Float64,1},Array{Float64,1},Array{Float64,1},OrdinaryDiffEq.Tsit5ConstantCache{Float64,Float64}},OrdinaryDiffEq.Rosenbrock23Cache{Array{Float64,1},Array{Float64,1},Array{Float64,2},Array{Float64,2},OrdinaryDiffEq.Rosenbrock23ConstantCache{Float64,typeof(identity),typeof(identity)},DiffEqDiffTools.TimeGradientWrapper{DiffEqBase.ODEFunction{true,getfield(Main.test, Symbol(\"#sir_ode#1\")),LinearAlgebra.UniformScaling{Bool},Nothing,Nothing,Nothing,Nothing,Nothing,Nothing,Nothing,Nothing},Array{Float64,1},Array{Float64,1}},DiffEqDiffTools.UJacobianWrapper{DiffEqBase.ODEFunction{true,getfield(Main.test, Symbol(\"#sir_ode#1\")),LinearAlgebra.UniformScaling{Bool},Nothing,Nothing,Nothing,Nothing,Nothing,Nothing,Nothing,Nothing},Float64,Array{Float64,1}},DiffEqBase.LinSolveFactorize{typeof(LinearAlgebra.lu!)},DiffEqDiffTools.JacobianCache{Array{Float64,1},Array{Float64,1},Array{Float64,1},Val{:central},Float64,Val{true}},DiffEqDiffTools.GradientCache{Nothing,Array{Float64,1},Array{Float64,1},Val{:central},Float64,Val{true}}}},OrdinaryDiffEq.AutoSwitch{OrdinaryDiffEq.Tsit5,OrdinaryDiffEq.Rosenbrock23{0,false,DiffEqBase.LinSolveFactorize{typeof(LinearAlgebra.lu!)},DataType},Rational{Int64},Float64}}}}\n",
      "get_prop(mg, vertex, :label) = (Float64, Float64)\n",
      "get_prop(mg, vertex, :label) = Array{Float64,1}\n",
      "get_prop(mg, vertex, :label) = (Tuple{Float64,Float64},)\n",
      "get_prop(mg, vertex, :label) = Int64\n",
      "get_prop(mg, vertex, :label) = (Int64, Int64)\n",
      "get_prop(mg, vertex, :label) = UnitRange{Int64}\n",
      "get_prop(mg, vertex, :label) = (UnitRange{Int64},)\n",
      "get_prop(mg, vertex, :label) = Base.HasShape{1}\n",
      "get_prop(mg, vertex, :label) = (Base.HasShape{1}, DataType)\n",
      "get_prop(mg, vertex, :label) = Bool\n",
      "get_prop(mg, vertex, :label) = (Base.HasShape{1}, UnionAll)\n",
      "get_prop(mg, vertex, :label) = (UnionAll, DataType)\n",
      "get_prop(mg, vertex, :label) = UnionAll\n",
      "get_prop(mg, vertex, :label) = Tuple{Base.OneTo{Int64}}\n",
      "get_prop(mg, vertex, :label) = (UnionAll, Tuple{Base.OneTo{Int64}})\n",
      "get_prop(mg, vertex, :label) = (Array{Float64,1},)\n",
      "get_prop(mg, vertex, :label) = LinearIndices{1,Tuple{Base.OneTo{Int64}}}\n",
      "get_prop(mg, vertex, :label) = (LinearIndices{1,Tuple{Base.OneTo{Int64}}},)\n",
      "get_prop(mg, vertex, :label) = Tuple{Int64,Int64}\n",
      "get_prop(mg, vertex, :label) = (Tuple{Int64,Int64}, Nothing)\n",
      "get_prop(mg, vertex, :label) = (Bool,)\n",
      "get_prop(mg, vertex, :label) = (Tuple{Int64,Int64}, Int64)\n",
      "get_prop(mg, vertex, :label) = (Tuple{Float64,Float64}, Int64)\n",
      "get_prop(mg, vertex, :label) = Float64\n",
      "get_prop(mg, vertex, :label) = (Array{Float64,1}, Float64, Int64)\n",
      "get_prop(mg, vertex, :label) = (UnitRange{Int64}, Int64)\n",
      "get_prop(mg, vertex, :label) = Nothing\n",
      "get_prop(mg, vertex, :label) = (Nothing, Nothing)\n",
      "get_prop(mg, vertex, :label) = (Float64, Float64, Float64)\n",
      "get_prop(mg, vertex, :label) = (Tuple{Float64,Float64,Float64},)\n",
      "get_prop(mg, vertex, :label) = (Tuple{Float64,Float64,Float64}, Int64)\n",
      "get_prop(mg, vertex, :label) = Tuple{Float64,Float64}\n",
      "get_prop(mg, vertex, :label) = (getfield(Main.test, Symbol(\"#sir_ode#1\")), Array{Float64,1}, Tuple{Float64,Float64}, Array{Float64,1})\n",
      "get_prop(mg, vertex, :label) = DiffEqBase.ODEProblem{Array{Float64,1},Tuple{Float64,Float64},true,Array{Float64,1},DiffEqBase.ODEFunction{true,getfield(Main.test, Symbol(\"#sir_ode#1\")),LinearAlgebra.UniformScaling{Bool},Nothing,Nothing,Nothing,Nothing,Nothing,Nothing,Nothing,Nothing},Nothing,DiffEqBase.StandardODEProblem}\n",
      "get_prop(mg, vertex, :label) = NamedTuple{(),Tuple{}}\n",
      "get_prop(mg, vertex, :label) = (NamedTuple{(),Tuple{}},)\n",
      "get_prop(mg, vertex, :label) = Base.Iterators.Pairs{Union{},Union{},Tuple{},NamedTuple{(),Tuple{}}}\n",
      "get_prop(mg, vertex, :label) = (Base.Iterators.Pairs{Union{},Union{},Tuple{},NamedTuple{(),Tuple{}}}, UnionAll, getfield(Main.test, Symbol(\"#sir_ode#1\")), Array{Float64,1}, Tuple{Float64,Float64}, Array{Float64,1})\n",
      "get_prop(mg, vertex, :label) = (UnionAll, Tuple{Symbol})\n",
      "get_prop(mg, vertex, :label) = (Float64,)\n",
      "get_prop(mg, vertex, :label) = Tuple{Float64}\n",
      "get_prop(mg, vertex, :label) = (Tuple{Float64},)\n",
      "get_prop(mg, vertex, :label) = NamedTuple{(:saveat,),Tuple{Float64}}\n",
      "get_prop(mg, vertex, :label) = DataType\n",
      "get_prop(mg, vertex, :label) = (UnionAll, Tuple{Symbol}, DataType)\n",
      "get_prop(mg, vertex, :label) = (typeof(DiffEqBase.solve),)\n",
      "get_prop(mg, vertex, :label) = getfield(DiffEqBase, Symbol(\"#kw##solve\"))\n",
      "get_prop(mg, vertex, :label) = (NamedTuple{(:saveat,),Tuple{Float64}}, typeof(DiffEqBase.solve), DiffEqBase.ODEProblem{Array{Float64,1},Tuple{Float64,Float64},true,Array{Float64,1},DiffEqBase.ODEFunction{true,getfield(Main.test, Symbol(\"#sir_ode#1\")),LinearAlgebra.UniformScaling{Bool},Nothing,Nothing,Nothing,Nothing,Nothing,Nothing,Nothing,Nothing},Nothing,DiffEqBase.StandardODEProblem})\n",
      "get_prop(mg, vertex, :label) = (DiffEqBase.ODEProblem{Array{Float64,1},Tuple{Float64,Float64},true,Array{Float64,1},DiffEqBase.ODEFunction{true,getfield(Main.test, Symbol(\"#sir_ode#1\")),LinearAlgebra.UniformScaling{Bool},Nothing,Nothing,Nothing,Nothing,Nothing,Nothing,Nothing,Nothing},Nothing,DiffEqBase.StandardODEProblem}, Base.Iterators.Pairs{Symbol,Float64,Tuple{Symbol},NamedTuple{(:saveat,),Tuple{Float64}}})\n",
      "get_prop(mg, vertex, :label) = (Base.Iterators.Pairs{Symbol,Float64,Tuple{Symbol},NamedTuple{(:saveat,),Tuple{Float64}}}, Symbol)\n",
      "get_prop(mg, vertex, :label) = (Tuple{},)\n",
      "get_prop(mg, vertex, :label) = (NamedTuple{(),Tuple{}}, Base.Iterators.Pairs{Symbol,Float64,Tuple{Symbol},NamedTuple{(:saveat,),Tuple{Float64}}})\n",
      "get_prop(mg, vertex, :label) = (NamedTuple{(:saveat,),Tuple{Float64}},)\n",
      "get_prop(mg, vertex, :label) = (typeof(DiffEqBase.__solve),)\n",
      "get_prop(mg, vertex, :label) = getfield(DiffEqBase, Symbol(\"#kw##__solve\"))\n",
      "get_prop(mg, vertex, :label) = (NamedTuple{(:saveat,),Tuple{Float64}}, typeof(DiffEqBase.__solve), DiffEqBase.ODEProblem{Array{Float64,1},Tuple{Float64,Float64},true,Array{Float64,1},DiffEqBase.ODEFunction{true,getfield(Main.test, Symbol(\"#sir_ode#1\")),LinearAlgebra.UniformScaling{Bool},Nothing,Nothing,Nothing,Nothing,Nothing,Nothing,Nothing,Nothing},Nothing,DiffEqBase.StandardODEProblem})\n",
      "get_prop(mg, vertex, :label) = Tuple{NamedTuple{(:saveat,),Tuple{Float64}},typeof(DiffEqBase.__solve),DiffEqBase.ODEProblem{Array{Float64,1},Tuple{Float64,Float64},true,Array{Float64,1},DiffEqBase.ODEFunction{true,getfield(Main.test, Symbol(\"#sir_ode#1\")),LinearAlgebra.UniformScaling{Bool},Nothing,Nothing,Nothing,Nothing,Nothing,Nothing,Nothing,Nothing},Nothing,DiffEqBase.StandardODEProblem}}\n"
     ]
    }
   ],
   "source": [
    "for vertex in vertices(mg)\n",
    "    @show get_prop(mg,vertex,:label)\n",
    "end"
   ]
  },
  {
   "cell_type": "code",
   "execution_count": 3,
   "metadata": {},
   "outputs": [
    {
     "data": {
      "text/plain": [
       "savegraph (generic function with 1 method)"
      ]
     },
     "execution_count": 3,
     "metadata": {},
     "output_type": "execute_result"
    }
   ],
   "source": [
    "\"\"\"\n",
    "escapeHTML(i::String)\n",
    "Returns a string with special HTML characters escaped: &, <, >, \", '\n",
    "\"\"\"\n",
    "function escapehtml(i::AbstractString)\n",
    "    # Refer to http://stackoverflow.com/a/7382028/3822752 for spec. links\n",
    "    o = replace(i, \"&\" =>\"&amp;\")\n",
    "    o = replace(o, \"\\\"\"=>\"&quot;\")\n",
    "    o = replace(o, \"'\" =>\"&#39;\")\n",
    "    o = replace(o, \"<\" =>\"&lt;\")\n",
    "    o = replace(o, \">\" =>\"&gt;\")\n",
    "    return o\n",
    "end\n",
    "\n",
    "function savedot(io::IOStream, g::MetaDiGraph)\n",
    "    write(io, \"digraph G {\\nrankdir=\\\"LR\\\";\\n\")\n",
    "    for p in props(g)\n",
    "        write(io, \"$(p[1])=$(escapehtml(string(p[2])));\\n\")\n",
    "    end\n",
    "\n",
    "    for v in vertices(g)\n",
    "        write(io, \"$v\")\n",
    "        if length(props(g, v)) > 0\n",
    "            write(io, \" [ \")\n",
    "        end\n",
    "        for p in props(g, v)\n",
    "            key = p[1]\n",
    "            write(io, \"$key=\\\"$(escapehtml(string(p[2])))\\\",\")\n",
    "        end\n",
    "        if length(props(g, v)) > 0\n",
    "            write(io, \"];\")\n",
    "        end\n",
    "        write(io, \"\\n\")\n",
    "    end\n",
    "\n",
    "    for e in edges(g)\n",
    "        write(io, \"$(src(e)) -> $(dst(e)) [ \")\n",
    "        for p in props(g,e)\n",
    "            write(io, \"$(p[1])=\\\"$(escapehtml(string(p[2])))\\\", \")\n",
    "        end\n",
    "        write(io, \"]\\n\")\n",
    "    end\n",
    "    write(io, \"}\\n\")\n",
    "end\n",
    "\n",
    "function savegraph(fn::AbstractString, g::AbstractMetaGraph, ::DOTFormat)\n",
    "    open(fn, \"w\") do fp \n",
    "        savedot(fp, g)\n",
    "    end\n",
    "end"
   ]
  },
  {
   "cell_type": "code",
   "execution_count": 48,
   "metadata": {},
   "outputs": [
    {
     "data": {
      "text/plain": [
       "2"
      ]
     },
     "execution_count": 48,
     "metadata": {},
     "output_type": "execute_result"
    }
   ],
   "source": [
    "savegraph(\"sir.dot\",mg,DOTFormat())"
   ]
  },
  {
   "cell_type": "code",
   "execution_count": 59,
   "metadata": {},
   "outputs": [
    {
     "data": {
      "text/plain": [
       "Process(`\u001b[4mdot\u001b[24m \u001b[4m-Tsvg\u001b[24m \u001b[4m-O\u001b[24m \u001b[4msir_edit.dot\u001b[24m`, ProcessExited(0))"
      ]
     },
     "execution_count": 59,
     "metadata": {},
     "output_type": "execute_result"
    }
   ],
   "source": [
    "run(`dot -Tsvg -O sir_edit.dot`)"
   ]
  },
  {
   "cell_type": "markdown",
   "metadata": {},
   "source": [
    "# Directory"
   ]
  },
  {
   "cell_type": "code",
   "execution_count": 5,
   "metadata": {},
   "outputs": [
    {
     "data": {
      "text/plain": [
       "14-element Array{String,1}:\n",
       " \"ContinuousTimeSIR.jl\"                \n",
       " \"DiscreteStochErlangEpidModel.jl\"     \n",
       " \"DiscreteTimeSIR.jl\"                  \n",
       " \"ExactRecursiveExpressions.jl\"        \n",
       " \"MacroParasiteModel.jl\"               \n",
       " \"NHosts1Vector.jl\"                    \n",
       " \"NHostsMVectors.jl\"                   \n",
       " \"OneHostSEIR1Vect.jl\"                 \n",
       " \"SEIRmodel.jl\"                        \n",
       " \"SIRModel.jl\"                         \n",
       " \"SIRSDynamicsLargePopulationsJulia.jl\"\n",
       " \"SISModel.jl\"                         \n",
       " \"ScalingModel.jl\"                     \n",
       " \"SemiParamSIRJulia.jl\"                "
      ]
     },
     "execution_count": 5,
     "metadata": {},
     "output_type": "execute_result"
    }
   ],
   "source": [
    "files = readdir(\"files\")"
   ]
  },
  {
   "cell_type": "code",
   "execution_count": 1,
   "metadata": {},
   "outputs": [
    {
     "name": "stdout",
     "output_type": "stream",
     "text": [
      "loaded\n"
     ]
    }
   ],
   "source": [
    "using SemanticModels.Dubstep\n",
    "using Cassette\n",
    "using LightGraphs\n",
    "using MetaGraphs"
   ]
  },
  {
   "cell_type": "code",
   "execution_count": 2,
   "metadata": {},
   "outputs": [
    {
     "data": {
      "text/plain": [
       "savegraph (generic function with 1 method)"
      ]
     },
     "execution_count": 2,
     "metadata": {},
     "output_type": "execute_result"
    }
   ],
   "source": [
    "function escapehtml(i::AbstractString)\n",
    "    # Refer to http://stackoverflow.com/a/7382028/3822752 for spec. links\n",
    "    o = replace(i, \"&\" =>\"&amp;\")\n",
    "    o = replace(o, \"\\\"\"=>\"&quot;\")\n",
    "    o = replace(o, \"'\" =>\"&#39;\")\n",
    "    o = replace(o, \"<\" =>\"&lt;\")\n",
    "    o = replace(o, \">\" =>\"&gt;\")\n",
    "    return o\n",
    "end\n",
    "\n",
    "function savedot(io::IOStream, g::MetaDiGraph)\n",
    "    write(io, \"digraph G {\\nrankdir=\\\"LR\\\";\\n\")\n",
    "    for p in props(g)\n",
    "        write(io, \"$(p[1])=$(escapehtml(string(p[2])));\\n\")\n",
    "    end\n",
    "\n",
    "    for v in vertices(g)\n",
    "        write(io, \"$v\")\n",
    "        if length(props(g, v)) > 0\n",
    "            write(io, \" [ \")\n",
    "        end\n",
    "        for p in props(g, v)\n",
    "            key = p[1]\n",
    "            write(io, \"$key=\\\"$(escapehtml(string(p[2])))\\\",\")\n",
    "        end\n",
    "        if length(props(g, v)) > 0\n",
    "            write(io, \"];\")\n",
    "        end\n",
    "        write(io, \"\\n\")\n",
    "    end\n",
    "\n",
    "    for e in edges(g)\n",
    "        write(io, \"$(src(e)) -> $(dst(e)) [ \")\n",
    "        for p in props(g,e)\n",
    "            write(io, \"$(p[1])=\\\"$(escapehtml(string(p[2])))\\\", \")\n",
    "        end\n",
    "        write(io, \"]\\n\")\n",
    "    end\n",
    "    write(io, \"}\\n\")\n",
    "end\n",
    "\n",
    "function savegraph(fn::AbstractString, g::AbstractMetaGraph, ::DOTFormat)\n",
    "    open(fn, \"w\") do fp \n",
    "        savedot(fp, g)\n",
    "    end\n",
    "end"
   ]
  },
  {
   "cell_type": "code",
   "execution_count": 3,
   "metadata": {},
   "outputs": [
    {
     "data": {
      "text/plain": [
       "\"NHosts1Vector.jl\""
      ]
     },
     "execution_count": 3,
     "metadata": {},
     "output_type": "execute_result"
    }
   ],
   "source": [
    "file = \"NHosts1Vector.jl\""
   ]
  },
  {
   "cell_type": "code",
   "execution_count": null,
   "metadata": {},
   "outputs": [],
   "source": [
    "include(\"./files/$file\")\n",
    "using Main.Example\n",
    "mg = typegraph(Main.Example,100)\n",
    "savegraph(\"$(file[1:end-3]).dot\",mg,DOTFormat())"
   ]
  },
  {
   "cell_type": "code",
   "execution_count": null,
   "metadata": {},
   "outputs": [],
   "source": []
  }
 ],
 "metadata": {
  "kernelspec": {
   "display_name": "Julia 1.0.3",
   "language": "julia",
   "name": "julia-1.0"
  },
  "language_info": {
   "file_extension": ".jl",
   "mimetype": "application/julia",
   "name": "julia",
   "version": "1.0.3"
  }
 },
 "nbformat": 4,
 "nbformat_minor": 2
}
