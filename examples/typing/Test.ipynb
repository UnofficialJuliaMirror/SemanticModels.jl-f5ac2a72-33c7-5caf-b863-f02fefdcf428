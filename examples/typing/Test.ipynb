{
 "cells": [
  {
   "cell_type": "markdown",
   "metadata": {},
   "source": [
    "# Single File"
   ]
  },
  {
   "cell_type": "code",
   "execution_count": 1,
   "metadata": {},
   "outputs": [
    {
     "name": "stderr",
     "output_type": "stream",
     "text": [
      "┌ Info: Recompiling stale cache file /home/infvie/.julia/compiled/v1.0/SemanticModels/0ZHVR.ji for SemanticModels [88974b6f-63f0-5f7a-882c-b779d2960b8e]\n",
      "└ @ Base loading.jl:1190\n"
     ]
    },
    {
     "name": "stdout",
     "output_type": "stream",
     "text": [
      "loaded\n"
     ]
    }
   ],
   "source": [
    "using SemanticModels.Dubstep\n",
    "using DifferentialEquations\n",
    "using Cassette"
   ]
  },
  {
   "cell_type": "code",
   "execution_count": 2,
   "metadata": {},
   "outputs": [],
   "source": [
    "Cassette.canrecurse( ctx::TypeCtx, f::typeof(ODEProblem))  = false\n",
    "Cassette.canrecurse( ctx::TypeCtx, f::typeof(solve))  = false\n",
    "Cassette.canrecurse( ctx::TypeCtx, f::typeof(pairs))  = false\n",
    "Cassette.canrecurse( ctx::TypeCtx, f::typeof(Base.vect)) = false"
   ]
  },
  {
   "cell_type": "code",
   "execution_count": 3,
   "metadata": {},
   "outputs": [
    {
     "data": {
      "text/plain": [
       "Main.test"
      ]
     },
     "execution_count": 3,
     "metadata": {},
     "output_type": "execute_result"
    }
   ],
   "source": [
    "m = include(\"sir.jl\")"
   ]
  },
  {
   "cell_type": "code",
   "execution_count": 4,
   "metadata": {},
   "outputs": [],
   "source": [
    "using Main.test"
   ]
  },
  {
   "cell_type": "code",
   "execution_count": 5,
   "metadata": {},
   "outputs": [
    {
     "data": {
      "text/plain": [
       "{18, 11} directed Int64 metagraph with Float64 weights defined by :weight (default weight 1.0)"
      ]
     },
     "execution_count": 5,
     "metadata": {},
     "output_type": "execute_result"
    }
   ],
   "source": [
    "mg = typegraph(Main.test,2)"
   ]
  },
  {
   "cell_type": "code",
   "execution_count": 7,
   "metadata": {},
   "outputs": [],
   "source": [
    "using MetaGraphs\n",
    "using LightGraphs"
   ]
  },
  {
   "cell_type": "code",
   "execution_count": 24,
   "metadata": {},
   "outputs": [
    {
     "name": "stdout",
     "output_type": "stream",
     "text": [
      "get_prop(mg, edge, :name) = nothing\n",
      "get_prop(mg, edge, :name) = Main.test.main\n",
      "get_prop(mg, edge, :name) = Base.vect\n",
      "get_prop(mg, edge, :name) = tuple\n",
      "get_prop(mg, edge, :name) = Base.vect\n",
      "get_prop(mg, edge, :name) = ODEProblem\n",
      "get_prop(mg, edge, :name) = Core.apply_type\n",
      "get_prop(mg, edge, :name) = tuple\n",
      "get_prop(mg, edge, :name) = NamedTuple{(:saveat,),T} where T<:Tuple\n",
      "get_prop(mg, edge, :name) = Core.kwfunc\n",
      "get_prop(mg, edge, :name) = getfield(DiffEqBase, Symbol(\"#kw##solve\"))()\n"
     ]
    }
   ],
   "source": [
    "for edge in edges(mg)\n",
    "    @show get_prop(mg,edge,:name)\n",
    "end"
   ]
  },
  {
   "cell_type": "code",
   "execution_count": 25,
   "metadata": {},
   "outputs": [],
   "source": [
    "for edge in edges(mg)\n",
    "    if get_prop(mg,edge,:name) == nothing\n",
    "        set_prop!(mg,edge,:name,\"missing\")\n",
    "    end\n",
    "end"
   ]
  },
  {
   "cell_type": "code",
   "execution_count": 26,
   "metadata": {},
   "outputs": [
    {
     "name": "stdout",
     "output_type": "stream",
     "text": [
      "get_prop(mg, edge, :name) = \"missing\"\n",
      "get_prop(mg, edge, :name) = Main.test.main\n",
      "get_prop(mg, edge, :name) = Base.vect\n",
      "get_prop(mg, edge, :name) = tuple\n",
      "get_prop(mg, edge, :name) = Base.vect\n",
      "get_prop(mg, edge, :name) = ODEProblem\n",
      "get_prop(mg, edge, :name) = Core.apply_type\n",
      "get_prop(mg, edge, :name) = tuple\n",
      "get_prop(mg, edge, :name) = NamedTuple{(:saveat,),T} where T<:Tuple\n",
      "get_prop(mg, edge, :name) = Core.kwfunc\n",
      "get_prop(mg, edge, :name) = getfield(DiffEqBase, Symbol(\"#kw##solve\"))()\n"
     ]
    }
   ],
   "source": [
    "for edge in edges(mg)\n",
    "    @show get_prop(mg,edge,:name)\n",
    "end"
   ]
  },
  {
   "cell_type": "code",
   "execution_count": 28,
   "metadata": {},
   "outputs": [
    {
     "name": "stdout",
     "output_type": "stream",
     "text": [
      "get_prop(mg, vertex, :name) = ()\n",
      "get_prop(mg, vertex, :name) = nothing\n",
      "get_prop(mg, vertex, :name) = OrdinaryDiffEq.ODECompositeSolution{Float64,2,Array{Array{Float64,1},1},Nothing,Nothing,Array{Float64,1},Array{Array{Array{Float64,1},1},1},ODEProblem{Array{Float64,1},Tuple{Float64,Float64},true,Array{Float64,1},ODEFunction{true,typeof(Main.test.sir_ode),LinearAlgebra.UniformScaling{Bool},Nothing,Nothing,Nothing,Nothing,Nothing,Nothing,Nothing,Nothing},Nothing,DiffEqBase.StandardODEProblem},CompositeAlgorithm{Tuple{Tsit5,Rosenbrock23{0,false,LinSolveFactorize{typeof(LinearAlgebra.lu!)},DataType}},AutoSwitch{Tsit5,Rosenbrock23{0,false,LinSolveFactorize{typeof(LinearAlgebra.lu!)},DataType},Rational{Int64},Float64}},OrdinaryDiffEq.CompositeInterpolationData{ODEFunction{true,typeof(Main.test.sir_ode),LinearAlgebra.UniformScaling{Bool},Nothing,Nothing,Nothing,Nothing,Nothing,Nothing,Nothing,Nothing},Array{Array{Float64,1},1},Array{Float64,1},Array{Array{Array{Float64,1},1},1},OrdinaryDiffEq.CompositeCache{Tuple{OrdinaryDiffEq.Tsit5Cache{Array{Float64,1},Array{Float64,1},Array{Float64,1},OrdinaryDiffEq.Tsit5ConstantCache{Float64,Float64}},OrdinaryDiffEq.Rosenbrock23Cache{Array{Float64,1},Array{Float64,1},Array{Float64,2},Array{Float64,2},OrdinaryDiffEq.Rosenbrock23ConstantCache{Float64,typeof(identity),typeof(identity)},DiffEqDiffTools.TimeGradientWrapper{ODEFunction{true,typeof(Main.test.sir_ode),LinearAlgebra.UniformScaling{Bool},Nothing,Nothing,Nothing,Nothing,Nothing,Nothing,Nothing,Nothing},Array{Float64,1},Array{Float64,1}},DiffEqDiffTools.UJacobianWrapper{ODEFunction{true,typeof(Main.test.sir_ode),LinearAlgebra.UniformScaling{Bool},Nothing,Nothing,Nothing,Nothing,Nothing,Nothing,Nothing,Nothing},Float64,Array{Float64,1}},LinSolveFactorize{typeof(LinearAlgebra.lu!)},DiffEqDiffTools.JacobianCache{Array{Float64,1},Array{Float64,1},Array{Float64,1},Val{:central},Float64,Val{true}},DiffEqDiffTools.GradientCache{Nothing,Array{Float64,1},Array{Float64,1},Val{:central},Float64,Val{true}}}},AutoSwitch{Tsit5,Rosenbrock23{0,false,LinSolveFactorize{typeof(LinearAlgebra.lu!)},DataType},Rational{Int64},Float64}}}}\n",
      "get_prop(mg, vertex, :name) = (Float64, Float64)\n",
      "get_prop(mg, vertex, :name) = Array{Float64,1}\n",
      "get_prop(mg, vertex, :name) = (Float64, Float64, Float64)\n",
      "get_prop(mg, vertex, :name) = Tuple{Float64,Float64}\n",
      "get_prop(mg, vertex, :name) = (typeof(Main.test.sir_ode), Array{Float64,1}, Tuple{Float64,Float64}, Array{Float64,1})\n",
      "get_prop(mg, vertex, :name) = ODEProblem{Array{Float64,1},Tuple{Float64,Float64},true,Array{Float64,1},ODEFunction{true,typeof(Main.test.sir_ode),LinearAlgebra.UniformScaling{Bool},Nothing,Nothing,Nothing,Nothing,Nothing,Nothing,Nothing,Nothing},Nothing,DiffEqBase.StandardODEProblem}\n",
      "get_prop(mg, vertex, :name) = (UnionAll, Tuple{Symbol})\n",
      "get_prop(mg, vertex, :name) = UnionAll\n",
      "get_prop(mg, vertex, :name) = (Float64,)\n",
      "get_prop(mg, vertex, :name) = Tuple{Float64}\n",
      "get_prop(mg, vertex, :name) = (Tuple{Float64},)\n",
      "get_prop(mg, vertex, :name) = NamedTuple{(:saveat,),Tuple{Float64}}\n",
      "get_prop(mg, vertex, :name) = (typeof(solve),)\n",
      "get_prop(mg, vertex, :name) = getfield(DiffEqBase, Symbol(\"#kw##solve\"))\n",
      "get_prop(mg, vertex, :name) = (NamedTuple{(:saveat,),Tuple{Float64}}, typeof(solve), ODEProblem{Array{Float64,1},Tuple{Float64,Float64},true,Array{Float64,1},ODEFunction{true,typeof(Main.test.sir_ode),LinearAlgebra.UniformScaling{Bool},Nothing,Nothing,Nothing,Nothing,Nothing,Nothing,Nothing,Nothing},Nothing,DiffEqBase.StandardODEProblem})\n"
     ]
    }
   ],
   "source": [
    "for vertex in vertices(mg)\n",
    "    @show get_prop(mg,vertex,:name)\n",
    "end"
   ]
  },
  {
   "cell_type": "code",
   "execution_count": 31,
   "metadata": {},
   "outputs": [],
   "source": [
    "for vertex in vertices(mg)\n",
    "    if get_prop(mg,vertex,:name) == nothing\n",
    "        set_prop!(mg,vertex,:name,\"missing\")\n",
    "    end\n",
    "end"
   ]
  },
  {
   "cell_type": "code",
   "execution_count": 32,
   "metadata": {},
   "outputs": [
    {
     "name": "stdout",
     "output_type": "stream",
     "text": [
      "get_prop(mg, vertex, :name) = ()\n",
      "get_prop(mg, vertex, :name) = \"missing\"\n",
      "get_prop(mg, vertex, :name) = OrdinaryDiffEq.ODECompositeSolution{Float64,2,Array{Array{Float64,1},1},Nothing,Nothing,Array{Float64,1},Array{Array{Array{Float64,1},1},1},ODEProblem{Array{Float64,1},Tuple{Float64,Float64},true,Array{Float64,1},ODEFunction{true,typeof(Main.test.sir_ode),LinearAlgebra.UniformScaling{Bool},Nothing,Nothing,Nothing,Nothing,Nothing,Nothing,Nothing,Nothing},Nothing,DiffEqBase.StandardODEProblem},CompositeAlgorithm{Tuple{Tsit5,Rosenbrock23{0,false,LinSolveFactorize{typeof(LinearAlgebra.lu!)},DataType}},AutoSwitch{Tsit5,Rosenbrock23{0,false,LinSolveFactorize{typeof(LinearAlgebra.lu!)},DataType},Rational{Int64},Float64}},OrdinaryDiffEq.CompositeInterpolationData{ODEFunction{true,typeof(Main.test.sir_ode),LinearAlgebra.UniformScaling{Bool},Nothing,Nothing,Nothing,Nothing,Nothing,Nothing,Nothing,Nothing},Array{Array{Float64,1},1},Array{Float64,1},Array{Array{Array{Float64,1},1},1},OrdinaryDiffEq.CompositeCache{Tuple{OrdinaryDiffEq.Tsit5Cache{Array{Float64,1},Array{Float64,1},Array{Float64,1},OrdinaryDiffEq.Tsit5ConstantCache{Float64,Float64}},OrdinaryDiffEq.Rosenbrock23Cache{Array{Float64,1},Array{Float64,1},Array{Float64,2},Array{Float64,2},OrdinaryDiffEq.Rosenbrock23ConstantCache{Float64,typeof(identity),typeof(identity)},DiffEqDiffTools.TimeGradientWrapper{ODEFunction{true,typeof(Main.test.sir_ode),LinearAlgebra.UniformScaling{Bool},Nothing,Nothing,Nothing,Nothing,Nothing,Nothing,Nothing,Nothing},Array{Float64,1},Array{Float64,1}},DiffEqDiffTools.UJacobianWrapper{ODEFunction{true,typeof(Main.test.sir_ode),LinearAlgebra.UniformScaling{Bool},Nothing,Nothing,Nothing,Nothing,Nothing,Nothing,Nothing,Nothing},Float64,Array{Float64,1}},LinSolveFactorize{typeof(LinearAlgebra.lu!)},DiffEqDiffTools.JacobianCache{Array{Float64,1},Array{Float64,1},Array{Float64,1},Val{:central},Float64,Val{true}},DiffEqDiffTools.GradientCache{Nothing,Array{Float64,1},Array{Float64,1},Val{:central},Float64,Val{true}}}},AutoSwitch{Tsit5,Rosenbrock23{0,false,LinSolveFactorize{typeof(LinearAlgebra.lu!)},DataType},Rational{Int64},Float64}}}}\n",
      "get_prop(mg, vertex, :name) = (Float64, Float64)\n",
      "get_prop(mg, vertex, :name) = Array{Float64,1}\n",
      "get_prop(mg, vertex, :name) = (Float64, Float64, Float64)\n",
      "get_prop(mg, vertex, :name) = Tuple{Float64,Float64}\n",
      "get_prop(mg, vertex, :name) = (typeof(Main.test.sir_ode), Array{Float64,1}, Tuple{Float64,Float64}, Array{Float64,1})\n",
      "get_prop(mg, vertex, :name) = ODEProblem{Array{Float64,1},Tuple{Float64,Float64},true,Array{Float64,1},ODEFunction{true,typeof(Main.test.sir_ode),LinearAlgebra.UniformScaling{Bool},Nothing,Nothing,Nothing,Nothing,Nothing,Nothing,Nothing,Nothing},Nothing,DiffEqBase.StandardODEProblem}\n",
      "get_prop(mg, vertex, :name) = (UnionAll, Tuple{Symbol})\n",
      "get_prop(mg, vertex, :name) = UnionAll\n",
      "get_prop(mg, vertex, :name) = (Float64,)\n",
      "get_prop(mg, vertex, :name) = Tuple{Float64}\n",
      "get_prop(mg, vertex, :name) = (Tuple{Float64},)\n",
      "get_prop(mg, vertex, :name) = NamedTuple{(:saveat,),Tuple{Float64}}\n",
      "get_prop(mg, vertex, :name) = (typeof(solve),)\n",
      "get_prop(mg, vertex, :name) = getfield(DiffEqBase, Symbol(\"#kw##solve\"))\n",
      "get_prop(mg, vertex, :name) = (NamedTuple{(:saveat,),Tuple{Float64}}, typeof(solve), ODEProblem{Array{Float64,1},Tuple{Float64,Float64},true,Array{Float64,1},ODEFunction{true,typeof(Main.test.sir_ode),LinearAlgebra.UniformScaling{Bool},Nothing,Nothing,Nothing,Nothing,Nothing,Nothing,Nothing,Nothing},Nothing,DiffEqBase.StandardODEProblem})\n"
     ]
    }
   ],
   "source": [
    "for vertex in vertices(mg)\n",
    "    @show get_prop(mg,vertex,:name)\n",
    "end"
   ]
  },
  {
   "cell_type": "code",
   "execution_count": 11,
   "metadata": {},
   "outputs": [
    {
     "data": {
      "text/plain": [
       "2"
      ]
     },
     "execution_count": 11,
     "metadata": {},
     "output_type": "execute_result"
    }
   ],
   "source": [
    "savegraph(\"sir.dot\",mg,DOTFormat())"
   ]
  },
  {
   "cell_type": "code",
   "execution_count": 12,
   "metadata": {},
   "outputs": [
    {
     "data": {
      "text/plain": [
       "Process(`\u001b[4mdot\u001b[24m \u001b[4m-Tsvg\u001b[24m \u001b[4m-O\u001b[24m \u001b[4msir.dot\u001b[24m`, ProcessExited(0))"
      ]
     },
     "execution_count": 12,
     "metadata": {},
     "output_type": "execute_result"
    }
   ],
   "source": [
    "run(`dot -Tsvg -O sir.dot`)"
   ]
  },
  {
   "cell_type": "markdown",
   "metadata": {},
   "source": [
    "# Directory"
   ]
  },
  {
   "cell_type": "code",
   "execution_count": 5,
   "metadata": {},
   "outputs": [
    {
     "data": {
      "text/plain": [
       "16-element Array{String,1}:\n",
       " \".ipynb_checkpoints\"                     \n",
       " \"ContinuousTimeSIR.jl\"                   \n",
       " \"DiscreteStochErlangEpidModel.jl\"        \n",
       " \"DiscreteTimeSIR.jl\"                     \n",
       " \"ExactRecursiveExpressions-checkpoint.jl\"\n",
       " \"ExactRecursiveExpressions.jl\"           \n",
       " \"MacroParasiteModel.jl\"                  \n",
       " \"NHosts1Vector.jl\"                       \n",
       " \"NHostsMVectors.jl\"                      \n",
       " \"OneHostSEIR1Vect.jl\"                    \n",
       " \"SEIRmodel.jl\"                           \n",
       " \"SIRModel.jl\"                            \n",
       " \"SIRSDynamicsLargePopulationsJulia.jl\"   \n",
       " \"SISModel.jl\"                            \n",
       " \"ScalingModel.jl\"                        \n",
       " \"SemiParamSIRJulia.jl\"                   "
      ]
     },
     "execution_count": 5,
     "metadata": {},
     "output_type": "execute_result"
    }
   ],
   "source": [
    "files = readdir(\"files\")"
   ]
  },
  {
   "cell_type": "code",
   "execution_count": null,
   "metadata": {},
   "outputs": [],
   "source": [
    "mgs = "
   ]
  },
  {
   "cell_type": "code",
   "execution_count": null,
   "metadata": {},
   "outputs": [],
   "source": [
    "for file in files[2:end]\n",
    "    include(\"/files/$file\")\n",
    "    using Main.Example\n",
    "    typegraph(Main.Example)\n"
   ]
  }
 ],
 "metadata": {
  "kernelspec": {
   "display_name": "Julia 1.0.3",
   "language": "julia",
   "name": "julia-1.0"
  },
  "language_info": {
   "file_extension": ".jl",
   "mimetype": "application/julia",
   "name": "julia",
   "version": "1.0.3"
  }
 },
 "nbformat": 4,
 "nbformat_minor": 2
}
