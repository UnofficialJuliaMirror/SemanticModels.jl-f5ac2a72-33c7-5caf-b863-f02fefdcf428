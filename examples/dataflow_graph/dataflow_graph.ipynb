{
 "cells": [
  {
   "cell_type": "code",
   "execution_count": null,
   "metadata": {},
   "outputs": [],
   "source": [
    "using SemanticModels\n",
    "using Random\n",
    "using DataFrames\n",
    "using IterableTables # need a way to bundle all of the cookbook programs' dependencies and ensure these are all installed\n",
    "using MetaGraphs\n",
    "using RandomNumbers\n",
    "using LightGraphs\n",
    "using Cassette\n",
    "using DataFrames\n",
    "\n",
    "\n",
    "include(\"../src/parse.jl\")\n",
    "include(\"../src/cassette.jl\")\n"
   ]
  },
  {
   "cell_type": "markdown",
   "metadata": {},
   "source": [
    "We want to ingest the main method of a program, and recursively enumerate: (1) the set of subroutines, S = {s | s is called by main} that main calls; (2) the set of variables that main interacts with (as args, or in the form of locally scoped assignment statements), V = {v | v is passed to main, or is a local variable inside of main}; (3) the set of sub-subroutines (e.g., subroutines called by each sub-routine called by main), $S_{sr}$ = {s.sr | s.sr called by s; $s \\in S$}; and (4) the set of variables that the set of methods, $S$, interacts with, which may be global (w/respect to main) or local (w/respect to S) in scope, $V_{sr}$ = {s.sr.v | v is passed to an s.sr $\\in S_{sr}$, or is a local variable inside of an s.sr $\\in S_{sr}$}\n",
    "\n",
    "We can extract the set $S$ by indexing into the lowered code representation of main, and grepping for all method calls that are prefaced by main:\n",
    "```\n",
    "code_info_obj = @code_lowered main(args...)\n",
    "V = {x | x $\\in$ code_info_obj.slotnames}\n",
    "```\n",
    "\n",
    "We can extract the set $V$ by accessing the slotnames of the lowered representation of main: \n",
    "```\n",
    "code_info_obj = @code_lowered main(args...)\n",
    "V = {x | x $\\in$ code_info_obj.slotnames}\n",
    "```\n",
    "\n",
    "We can index into the resulting dataframes to find $S_{sr}$ and $V_{sr}$."
   ]
  },
  {
   "cell_type": "code",
   "execution_count": null,
   "metadata": {},
   "outputs": [],
   "source": [
    "# These are some toy problems that contain sub-routine calls, (trivial) recursive calls, and/or empty args.\n",
    "function f(a, b)\n",
    "    c = a + b\n",
    "    d = g(c)\n",
    "    \n",
    "    return d\n",
    "end\n",
    "\n",
    "function g(x)\n",
    "    res = abs(x)\n",
    "    res -= 1\n",
    "    \n",
    "    while res > 0\n",
    "        res = g(res)\n",
    "    end\n",
    "\n",
    "    return res\n",
    "end\n",
    "\n",
    "function h()\n",
    "    rng = MersenneTwister(1234);\n",
    "    x = pi*Base.randn(rng,1)\n",
    "    return x\n",
    "end\n",
    "\n",
    "\n",
    "function i(a::Int64, b::Int64)\n",
    "    \n",
    "    var_a = a\n",
    "    var_b = b\n",
    "    \n",
    "    c = f(var_a, var_b)\n",
    "    d = g(c)\n",
    "    d *= h()\n",
    "    return d\n",
    "end\n",
    "\n",
    "function j(x)\n",
    "    z = x\n",
    "    y = 2\n",
    "    result = i(x,y)\n",
    "    return result\n",
    "end\n",
    "\n",
    "# right now, we can't catch numeric literals. we need variable declarations (otherwise, we have to catch values, and differentiate between literals and non-literals)"
   ]
  },
  {
   "cell_type": "code",
   "execution_count": 105,
   "metadata": {},
   "outputs": [
    {
     "name": "stdout",
     "output_type": "stream",
     "text": [
      "Code info: \n",
      "CodeInfo(\n",
      "\u001b[90m\u001b[77G│\u001b[1G\u001b[39m\u001b[90m28 \u001b[39m1 ─     var_a = a\n",
      "\u001b[90m\u001b[77G│\u001b[1G\u001b[39m\u001b[90m29 \u001b[39m│       var_b = b\n",
      "\u001b[90m\u001b[77G│\u001b[1G\u001b[39m\u001b[90m31 \u001b[39m│       c = (Main.f)(var_a, var_b)\n",
      "\u001b[90m\u001b[77G│\u001b[1G\u001b[39m\u001b[90m32 \u001b[39m│       d = (Main.g)(c)\n",
      "\u001b[90m\u001b[77G│\u001b[1G\u001b[39m\u001b[90m35 \u001b[39m└──     return d\n",
      ")\n",
      "\n",
      "Code info.code \n",
      "Any[:(_4 = _2), :(_5 = _3), :(_6 = (Main.f)(_4, _5)), :(_7 = (Main.g)(_6)), :(return _7)]\n",
      "\n",
      "Code info.slotnames: \n",
      "Any[Symbol(\"#self#\"), :a, :b, :var_a, :var_b, :c, :d]\n",
      "\n",
      "Code info.slotflags: \n",
      "UInt8[0x00, 0x00, 0x00, 0x10, 0x10, 0x10, 0x10]\n",
      "\n"
     ]
    }
   ],
   "source": [
    "# This is an example of the types of output we can get when we call @code_lowered on a function:\n",
    "code_info_j = @code_lowered i(2,3)\n",
    "println(\"Code info: \\n\", code_info_j, \"\\n\")\n",
    "println(\"Code info.code \\n\", code_info_j.code, \"\\n\")\n",
    "println(\"Code info.slotnames: \\n\", code_info_j.slotnames, \"\\n\")\n",
    "println(\"Code info.slotflags: \\n\", code_info_j.slotflags, \"\\n\")"
   ]
  },
  {
   "cell_type": "code",
   "execution_count": 184,
   "metadata": {},
   "outputs": [
    {
     "name": "stdout",
     "output_type": "stream",
     "text": [
      "f: f\n",
      "args: (2, 4)\n",
      "df dims: (0, 4)\n",
      "type of code_info_obj: Core.CodeInfo\n",
      "High-level function calls subroutine graph created \n",
      "\n",
      "1×4 DataFrame\n",
      "│ Row │ src      │ dst │ dst_args │ edge_type               │\n",
      "│     │ \u001b[90mFunction\u001b[39m │ \u001b[90mAny\u001b[39m │ \u001b[90mAny\u001b[39m      │ \u001b[90mString\u001b[39m                  │\n",
      "├─────┼──────────┼─────┼──────────┼─────────────────────────┤\n",
      "│ 1   │ f        │ g   │ [:c]     │ method_calls_subroutine │\n",
      "\n",
      "Creating second-order subroutines call subroutines graph \n",
      "\n",
      "f: g\n",
      "args: (:c,)\n",
      "df dims: (0, 4)\n",
      "type of code_info_obj: Core.CodeInfo\n"
     ]
    },
    {
     "data": {
      "text/html": [
       "<table class=\"data-frame\"><thead><tr><th></th><th>src</th><th>dst</th><th>dst_args</th><th>edge_type</th></tr><tr><th></th><th>Function</th><th>Any</th><th>Any</th><th>String</th></tr></thead><tbody><p>3 rows × 4 columns</p><tr><th>1</th><td>f</td><td>g</td><td>[:c]</td><td>method_calls_subroutine</td></tr><tr><th>2</th><td>g</td><td>abs</td><td>[:x]</td><td>method_calls_subroutine</td></tr><tr><th>3</th><td>g</td><td>g</td><td>[:res]</td><td>method_calls_subroutine</td></tr></tbody></table>"
      ],
      "text/latex": [
       "\\begin{tabular}{r|cccc}\n",
       "\t& src & dst & dst\\_args & edge\\_type\\\\\n",
       "\t\\hline\n",
       "\t& Function & Any & Any & String\\\\\n",
       "\t\\hline\n",
       "\t1 & f & g & [:c] & method\\_calls\\_subroutine \\\\\n",
       "\t2 & g & abs & [:x] & method\\_calls\\_subroutine \\\\\n",
       "\t3 & g & g & [:res] & method\\_calls\\_subroutine \\\\\n",
       "\\end{tabular}\n"
      ],
      "text/plain": [
       "3×4 DataFrame\n",
       "│ Row │ src      │ dst │ dst_args │ edge_type               │\n",
       "│     │ \u001b[90mFunction\u001b[39m │ \u001b[90mAny\u001b[39m │ \u001b[90mAny\u001b[39m      │ \u001b[90mString\u001b[39m                  │\n",
       "├─────┼──────────┼─────┼──────────┼─────────────────────────┤\n",
       "│ 1   │ f        │ g   │ [:c]     │ method_calls_subroutine │\n",
       "│ 2   │ g        │ abs │ [:x]     │ method_calls_subroutine │\n",
       "│ 3   │ g        │ g   │ [:res]   │ method_calls_subroutine │"
      ]
     },
     "execution_count": 184,
     "metadata": {},
     "output_type": "execute_result"
    }
   ],
   "source": [
    "mutable struct MethodCallsSubroutineFrame{src, dst, dst_args, edge_type}\n",
    "    src::src\n",
    "    dst::dst\n",
    "    dst_args::dst_args\n",
    "    edge_type::edge_type\n",
    "end\n",
    "\n",
    "df = DataFrame(src = Function[], dst = Any[], dst_args = Any[], edge_type=String[])\n",
    "\n",
    "function get_slotnames(dst_args_match, slotnames)\n",
    "    \n",
    "    varnames_to_use = []\n",
    "                \n",
    "    for (i,args) in enumerate([dst_args_match])\n",
    "\n",
    "        args_list = split(string(args), \",\")\n",
    "        \n",
    "        # Remove all non-numeric characters, and grab the slotname associated with each arg        \n",
    "        for (i,a) in enumerate(args_list)\n",
    "            \n",
    "            a = replace(a, r\"[^0-9]+\" =>\"\")\n",
    "            push!(varnames_to_use, getindex(slotnames, parse(Int64, a)))\n",
    "        end\n",
    "    end\n",
    "                \n",
    "    return varnames_to_use\n",
    "end\n",
    "\n",
    "function get_literal_numeric_vals(numeric_dst_args_match)\n",
    "    \n",
    "    varnames_to_use = []\n",
    "                \n",
    "    for (i,args) in enumerate([dst_args_match])\n",
    "\n",
    "        args_list = split(string(args), \",\")\n",
    "        \n",
    "        # Remove all non-numeric characters, and grab the slotname associated with each arg        \n",
    "        for (i,a) in enumerate(args_list)\n",
    "            \n",
    "            a = replace(a, r\"[^0-9]+\" =>\"\")\n",
    "            push!(varnames_to_use, parse(Float64, a))\n",
    "        end\n",
    "    end\n",
    "                \n",
    "    return varnames_to_use\n",
    "end\n",
    "    \n",
    "\n",
    "function get_set_S(input_df, f, args...)\n",
    "    \n",
    "    println(\"f: \", f)\n",
    "    println(\"args: \", args)\n",
    "    println(\"df dims: \", size(input_df))\n",
    "    \n",
    "    \n",
    "    code_info_obj = @code_lowered f(args...)\n",
    "    println(\"type of code_info_obj: \", typeof(code_info_obj))\n",
    "\n",
    "\n",
    "    for (i, line) in enumerate(code_info_obj.code)\n",
    "        \n",
    "        # TODO: do we need to handle module names?\n",
    "        # Any functions called by f (the function passed in) will be prefaced by Main\n",
    "        m = match(r\"Main.*?(?=\\))\", string(line))\n",
    "        \n",
    "        if typeof(m) != Nothing\n",
    "            \n",
    "            # Top-level function f calls the callee\n",
    "            callee = eval(Symbol(split(string(m.match), \".\")[2])) \n",
    "\n",
    "            slot_dst_args = match(r\"\\(_\\d+.*\",string(line))\n",
    "   \n",
    "            # If there's no match, the method we've detected doesn't have any non-literal args\n",
    "            # If the number of matches >= 1, we need to get the slotnames associated with each function's args\n",
    "            if typeof(slot_dst_args) != Nothing \n",
    "\n",
    "                slot_varnames_to_use = get_slotnames(slot_dst_args.match, code_info_obj.slotnames)\n",
    "                frame = MethodCallsSubroutineFrame(f, callee, slot_varnames_to_use, \"method_calls_subroutine\")\n",
    "                \n",
    "            else\n",
    "                frame = MethodCallsSubroutineFrame(f, callee, (), \"method_calls_subroutine\")\n",
    "            end\n",
    "\n",
    "            push!(input_df, (frame.src, frame.dst, frame.dst_args, frame.edge_type))\n",
    "            \n",
    "        end\n",
    "            \n",
    "    end\n",
    "\n",
    "    \n",
    "    return input_df  \n",
    "    \n",
    "end\n",
    "\n",
    "function get_set_S(high_level_output_df)\n",
    "    \n",
    "    tempdf = DataFrame(src = Any[], dst = Any[], dst_args = Any[], edge_type=String[])\n",
    "    \n",
    "    for row in eachrow(high_level_output_df)        \n",
    "        tempdf = get_set_S(tempdf, row.dst, row.dst_args...)\n",
    "    end\n",
    "    \n",
    "    outdf = append!(high_level_output_df, tempdf)\n",
    "\n",
    "    return outdf\n",
    "\n",
    "end\n",
    "\n",
    "function run_get_S(input_func, args...)\n",
    "    init_df = DataFrame(src = Function[], dst = Any[], dst_args = Any[], edge_type=String[])\n",
    "    high_level_call_graph = get_set_S(init_df, input_func, args...)\n",
    "    println(\"High-level function calls subroutine graph created \\n\")\n",
    "    println(high_level_call_graph, \"\\n\")\n",
    "    println(\"Creating second-order subroutines call subroutines graph \\n\")\n",
    "    second_order_call_graph = get_set_S(high_level_call_graph)\n",
    "    return second_order_call_graph\n",
    "end\n",
    "    \n",
    "run_get_S(f, 2, 4)\n",
    "\n"
   ]
  },
  {
   "cell_type": "code",
   "execution_count": 186,
   "metadata": {},
   "outputs": [
    {
     "name": "stdout",
     "output_type": "stream",
     "text": [
      "f: g\n",
      "args: (2,)\n",
      "df dims: (0, 4)\n",
      "type of code_info_obj: Core.CodeInfo\n",
      "High-level function calls subroutine graph created \n",
      "\n",
      "2×4 DataFrame\n",
      "│ Row │ src      │ dst │ dst_args │ edge_type               │\n",
      "│     │ \u001b[90mFunction\u001b[39m │ \u001b[90mAny\u001b[39m │ \u001b[90mAny\u001b[39m      │ \u001b[90mString\u001b[39m                  │\n",
      "├─────┼──────────┼─────┼──────────┼─────────────────────────┤\n",
      "│ 1   │ g        │ abs │ [:x]     │ method_calls_subroutine │\n",
      "│ 2   │ g        │ g   │ [:res]   │ method_calls_subroutine │\n",
      "\n",
      "Creating second-order subroutines call subroutines graph \n",
      "\n",
      "f: abs\n",
      "args: (:x,)\n",
      "df dims: (0, 4)\n",
      "type of code_info_obj: Array{Union{Nothing, CodeInfo},1}\n"
     ]
    },
    {
     "ename": "ErrorException",
     "evalue": "type Array has no field code",
     "output_type": "error",
     "traceback": [
      "type Array has no field code",
      "",
      "Stacktrace:",
      " [1] getproperty(::Any, ::Symbol) at ./sysimg.jl:18",
      " [2] macro expansion at /Users/osx/buildbot/slave/package_osx64/build/usr/share/julia/stdlib/v1.0/InteractiveUtils/src/macros.jl:147 [inlined]",
      " [3] get_set_S(::DataFrame, ::Function, ::Symbol) at ./In[184]:56",
      " [4] get_set_S(::DataFrame) at ./In[184]:100",
      " [5] run_get_S(::Function, ::Int64, ::Vararg{Int64,N} where N) at ./In[184]:115",
      " [6] top-level scope at In[186]:1"
     ]
    }
   ],
   "source": [
    "run_get_S(g, 2)"
   ]
  },
  {
   "cell_type": "code",
   "execution_count": 187,
   "metadata": {},
   "outputs": [
    {
     "name": "stdout",
     "output_type": "stream",
     "text": [
      "f: h\n",
      "args: ()\n",
      "df dims: (0, 4)\n",
      "type of code_info_obj: Core.CodeInfo\n",
      "High-level function calls subroutine graph created \n",
      "\n",
      "1×4 DataFrame\n",
      "│ Row │ src      │ dst             │ dst_args │ edge_type               │\n",
      "│     │ \u001b[90mFunction\u001b[39m │ \u001b[90mAny\u001b[39m             │ \u001b[90mAny\u001b[39m      │ \u001b[90mString\u001b[39m                  │\n",
      "├─────┼──────────┼─────────────────┼──────────┼─────────────────────────┤\n",
      "│ 1   │ h        │ MersenneTwister │ ()       │ method_calls_subroutine │\n",
      "\n",
      "Creating second-order subroutines call subroutines graph \n",
      "\n",
      "f: MersenneTwister\n",
      "args: ()\n",
      "df dims: (0, 4)\n",
      "type of code_info_obj: Core.CodeInfo\n"
     ]
    },
    {
     "data": {
      "text/html": [
       "<table class=\"data-frame\"><thead><tr><th></th><th>src</th><th>dst</th><th>dst_args</th><th>edge_type</th></tr><tr><th></th><th>Function</th><th>Any</th><th>Any</th><th>String</th></tr></thead><tbody><p>1 rows × 4 columns</p><tr><th>1</th><td>h</td><td>MersenneTwister</td><td>()</td><td>method_calls_subroutine</td></tr></tbody></table>"
      ],
      "text/latex": [
       "\\begin{tabular}{r|cccc}\n",
       "\t& src & dst & dst\\_args & edge\\_type\\\\\n",
       "\t\\hline\n",
       "\t& Function & Any & Any & String\\\\\n",
       "\t\\hline\n",
       "\t1 & h & MersenneTwister & () & method\\_calls\\_subroutine \\\\\n",
       "\\end{tabular}\n"
      ],
      "text/plain": [
       "1×4 DataFrame\n",
       "│ Row │ src      │ dst             │ dst_args │ edge_type               │\n",
       "│     │ \u001b[90mFunction\u001b[39m │ \u001b[90mAny\u001b[39m             │ \u001b[90mAny\u001b[39m      │ \u001b[90mString\u001b[39m                  │\n",
       "├─────┼──────────┼─────────────────┼──────────┼─────────────────────────┤\n",
       "│ 1   │ h        │ MersenneTwister │ ()       │ method_calls_subroutine │"
      ]
     },
     "execution_count": 187,
     "metadata": {},
     "output_type": "execute_result"
    }
   ],
   "source": [
    "run_get_S(h)"
   ]
  },
  {
   "cell_type": "code",
   "execution_count": 188,
   "metadata": {},
   "outputs": [
    {
     "name": "stdout",
     "output_type": "stream",
     "text": [
      "f: i\n",
      "args: (5, 4)\n",
      "df dims: (0, 4)\n",
      "type of code_info_obj: Core.CodeInfo\n",
      "High-level function calls subroutine graph created \n",
      "\n",
      "2×4 DataFrame\n",
      "│ Row │ src      │ dst │ dst_args         │ edge_type               │\n",
      "│     │ \u001b[90mFunction\u001b[39m │ \u001b[90mAny\u001b[39m │ \u001b[90mAny\u001b[39m              │ \u001b[90mString\u001b[39m                  │\n",
      "├─────┼──────────┼─────┼──────────────────┼─────────────────────────┤\n",
      "│ 1   │ i        │ f   │ [:var_a, :var_b] │ method_calls_subroutine │\n",
      "│ 2   │ i        │ g   │ [:c]             │ method_calls_subroutine │\n",
      "\n",
      "Creating second-order subroutines call subroutines graph \n",
      "\n",
      "f: f\n",
      "args: (:var_a, :var_b)\n",
      "df dims: (0, 4)\n",
      "type of code_info_obj: Core.CodeInfo\n",
      "f: g\n",
      "args: (:c,)\n",
      "df dims: (1, 4)\n",
      "type of code_info_obj: Core.CodeInfo\n"
     ]
    },
    {
     "data": {
      "text/html": [
       "<table class=\"data-frame\"><thead><tr><th></th><th>src</th><th>dst</th><th>dst_args</th><th>edge_type</th></tr><tr><th></th><th>Function</th><th>Any</th><th>Any</th><th>String</th></tr></thead><tbody><p>5 rows × 4 columns</p><tr><th>1</th><td>i</td><td>f</td><td>[:var_a, :var_b]</td><td>method_calls_subroutine</td></tr><tr><th>2</th><td>i</td><td>g</td><td>[:c]</td><td>method_calls_subroutine</td></tr><tr><th>3</th><td>f</td><td>g</td><td>[:c]</td><td>method_calls_subroutine</td></tr><tr><th>4</th><td>g</td><td>abs</td><td>[:x]</td><td>method_calls_subroutine</td></tr><tr><th>5</th><td>g</td><td>g</td><td>[:res]</td><td>method_calls_subroutine</td></tr></tbody></table>"
      ],
      "text/latex": [
       "\\begin{tabular}{r|cccc}\n",
       "\t& src & dst & dst\\_args & edge\\_type\\\\\n",
       "\t\\hline\n",
       "\t& Function & Any & Any & String\\\\\n",
       "\t\\hline\n",
       "\t1 & i & f & [:var\\_a, :var\\_b] & method\\_calls\\_subroutine \\\\\n",
       "\t2 & i & g & [:c] & method\\_calls\\_subroutine \\\\\n",
       "\t3 & f & g & [:c] & method\\_calls\\_subroutine \\\\\n",
       "\t4 & g & abs & [:x] & method\\_calls\\_subroutine \\\\\n",
       "\t5 & g & g & [:res] & method\\_calls\\_subroutine \\\\\n",
       "\\end{tabular}\n"
      ],
      "text/plain": [
       "5×4 DataFrame\n",
       "│ Row │ src      │ dst │ dst_args         │ edge_type               │\n",
       "│     │ \u001b[90mFunction\u001b[39m │ \u001b[90mAny\u001b[39m │ \u001b[90mAny\u001b[39m              │ \u001b[90mString\u001b[39m                  │\n",
       "├─────┼──────────┼─────┼──────────────────┼─────────────────────────┤\n",
       "│ 1   │ i        │ f   │ [:var_a, :var_b] │ method_calls_subroutine │\n",
       "│ 2   │ i        │ g   │ [:c]             │ method_calls_subroutine │\n",
       "│ 3   │ f        │ g   │ [:c]             │ method_calls_subroutine │\n",
       "│ 4   │ g        │ abs │ [:x]             │ method_calls_subroutine │\n",
       "│ 5   │ g        │ g   │ [:res]           │ method_calls_subroutine │"
      ]
     },
     "execution_count": 188,
     "metadata": {},
     "output_type": "execute_result"
    }
   ],
   "source": [
    "run_get_S(i, 5, 4)"
   ]
  },
  {
   "cell_type": "code",
   "execution_count": 189,
   "metadata": {},
   "outputs": [
    {
     "name": "stdout",
     "output_type": "stream",
     "text": [
      "f: j\n",
      "args: (2,)\n",
      "df dims: (0, 4)\n",
      "type of code_info_obj: Core.CodeInfo\n",
      "High-level function calls subroutine graph created \n",
      "\n",
      "1×4 DataFrame\n",
      "│ Row │ src      │ dst │ dst_args │ edge_type               │\n",
      "│     │ \u001b[90mFunction\u001b[39m │ \u001b[90mAny\u001b[39m │ \u001b[90mAny\u001b[39m      │ \u001b[90mString\u001b[39m                  │\n",
      "├─────┼──────────┼─────┼──────────┼─────────────────────────┤\n",
      "│ 1   │ j        │ i   │ [:x, :y] │ method_calls_subroutine │\n",
      "\n",
      "Creating second-order subroutines call subroutines graph \n",
      "\n",
      "f: i\n",
      "args: (:x, :y)\n",
      "df dims: (0, 4)\n",
      "type of code_info_obj: Array{Union{Nothing, CodeInfo},1}\n"
     ]
    },
    {
     "ename": "ErrorException",
     "evalue": "type Array has no field code",
     "output_type": "error",
     "traceback": [
      "type Array has no field code",
      "",
      "Stacktrace:",
      " [1] getproperty(::Any, ::Symbol) at ./sysimg.jl:18",
      " [2] macro expansion at /Users/osx/buildbot/slave/package_osx64/build/usr/share/julia/stdlib/v1.0/InteractiveUtils/src/macros.jl:147 [inlined]",
      " [3] get_set_S(::DataFrame, ::Function, ::Symbol, ::Vararg{Symbol,N} where N) at ./In[184]:56",
      " [4] get_set_S(::DataFrame) at ./In[184]:100",
      " [5] run_get_S(::Function, ::Int64, ::Vararg{Int64,N} where N) at ./In[184]:115",
      " [6] top-level scope at In[189]:1"
     ]
    }
   ],
   "source": [
    "run_get_S(j,2)"
   ]
  },
  {
   "cell_type": "code",
   "execution_count": 153,
   "metadata": {},
   "outputs": [
    {
     "data": {
      "text/html": [
       "<table class=\"data-frame\"><thead><tr><th></th><th>src</th><th>dst</th><th>dst_args</th><th>edge_type</th></tr><tr><th></th><th>Function</th><th>Symbol</th><th>Expr</th><th>String</th></tr></thead><tbody><p>6 rows × 4 columns</p><tr><th>1</th><td>i</td><td>a</td><td>:($(Expr(:nothing)))</td><td>method_interacts_w_variable</td></tr><tr><th>2</th><td>i</td><td>b</td><td>:($(Expr(:nothing)))</td><td>method_interacts_w_variable</td></tr><tr><th>3</th><td>i</td><td>var_a</td><td>:($(Expr(:nothing)))</td><td>method_interacts_w_variable</td></tr><tr><th>4</th><td>i</td><td>var_b</td><td>:($(Expr(:nothing)))</td><td>method_interacts_w_variable</td></tr><tr><th>5</th><td>i</td><td>c</td><td>:($(Expr(:nothing)))</td><td>method_interacts_w_variable</td></tr><tr><th>6</th><td>i</td><td>d</td><td>:($(Expr(:nothing)))</td><td>method_interacts_w_variable</td></tr></tbody></table>"
      ],
      "text/latex": [
       "\\begin{tabular}{r|cccc}\n",
       "\t& src & dst & dst\\_args & edge\\_type\\\\\n",
       "\t\\hline\n",
       "\t& Function & Symbol & Expr & String\\\\\n",
       "\t\\hline\n",
       "\t1 & i & a & :(\\$(Expr(:nothing))) & method\\_interacts\\_w\\_variable \\\\\n",
       "\t2 & i & b & :(\\$(Expr(:nothing))) & method\\_interacts\\_w\\_variable \\\\\n",
       "\t3 & i & var\\_a & :(\\$(Expr(:nothing))) & method\\_interacts\\_w\\_variable \\\\\n",
       "\t4 & i & var\\_b & :(\\$(Expr(:nothing))) & method\\_interacts\\_w\\_variable \\\\\n",
       "\t5 & i & c & :(\\$(Expr(:nothing))) & method\\_interacts\\_w\\_variable \\\\\n",
       "\t6 & i & d & :(\\$(Expr(:nothing))) & method\\_interacts\\_w\\_variable \\\\\n",
       "\\end{tabular}\n"
      ],
      "text/plain": [
       "6×4 DataFrame\n",
       "│ Row │ src      │ dst    │ dst_args             │ edge_type                   │\n",
       "│     │ \u001b[90mFunction\u001b[39m │ \u001b[90mSymbol\u001b[39m │ \u001b[90mExpr\u001b[39m                 │ \u001b[90mString\u001b[39m                      │\n",
       "├─────┼──────────┼────────┼──────────────────────┼─────────────────────────────┤\n",
       "│ 1   │ i        │ a      │ :($(Expr(:nothing))) │ method_interacts_w_variable │\n",
       "│ 2   │ i        │ b      │ :($(Expr(:nothing))) │ method_interacts_w_variable │\n",
       "│ 3   │ i        │ var_a  │ :($(Expr(:nothing))) │ method_interacts_w_variable │\n",
       "│ 4   │ i        │ var_b  │ :($(Expr(:nothing))) │ method_interacts_w_variable │\n",
       "│ 5   │ i        │ c      │ :($(Expr(:nothing))) │ method_interacts_w_variable │\n",
       "│ 6   │ i        │ d      │ :($(Expr(:nothing))) │ method_interacts_w_variable │"
      ]
     },
     "execution_count": 153,
     "metadata": {},
     "output_type": "execute_result"
    }
   ],
   "source": [
    "# In progress\n",
    "mutable struct MethodInteractWithVarFrame{src, dst, dst_args, edge_type}\n",
    "    src::src\n",
    "    dst::dst\n",
    "    dst_args::dst_args\n",
    "    edge_type::edge_type\n",
    "end\n",
    "\n",
    "df = DataFrame(src = Function[], dst = Symbol[], dst_args = Expr[], edge_type=String[])\n",
    "\n",
    "\n",
    "function get_set_V(f, args...)\n",
    "    \n",
    "    code_info_obj = @code_lowered f(args...)\n",
    "    \n",
    "    # the first element of the slotnames array is Symbol(\"#self#\")\n",
    "    f_vars = code_info_obj.slotnames[2:length(code_info_obj.slotnames)]\n",
    "    \n",
    "    for v in f_vars\n",
    "        frame = MethodInteractWithVarFrame(f, v, Expr(:nothing), \"method_interacts_w_variable\" )            \n",
    "        push!(df, (frame.src, frame.dst, frame.dst_args, frame.edge_type))\n",
    "        \n",
    "    end\n",
    "   \n",
    "    return df\n",
    "end\n",
    "\n",
    "\n",
    "\n",
    "out = get_set_V(i, 2,3)"
   ]
  },
  {
   "cell_type": "code",
   "execution_count": null,
   "metadata": {},
   "outputs": [],
   "source": []
  }
 ],
 "metadata": {
  "kernelspec": {
   "display_name": "Julia 1.0.2",
   "language": "julia",
   "name": "julia-1.0"
  },
  "language_info": {
   "file_extension": ".jl",
   "mimetype": "application/julia",
   "name": "julia",
   "version": "1.0.2"
  }
 },
 "nbformat": 4,
 "nbformat_minor": 2
}
